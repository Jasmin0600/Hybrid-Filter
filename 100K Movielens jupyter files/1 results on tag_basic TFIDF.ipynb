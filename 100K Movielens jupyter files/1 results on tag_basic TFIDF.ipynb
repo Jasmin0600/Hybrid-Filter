{
 "cells": [
  {
   "cell_type": "code",
   "execution_count": 152,
   "id": "1b1f5ff7-e568-4abd-8838-0e7b17a26609",
   "metadata": {},
   "outputs": [],
   "source": [
    "import pandas as pd"
   ]
  },
  {
   "cell_type": "code",
   "execution_count": 153,
   "id": "765119fc-3c10-4a7c-8db8-c48af8bd91a0",
   "metadata": {
    "tags": []
   },
   "outputs": [],
   "source": [
    "movies_metadata = pd.read_csv('movies_title_tag_basic_info.csv')\n",
    "ratings = pd.read_csv(r'ratings_small_filtered_2.csv', index_col=0)"
   ]
  },
  {
   "cell_type": "code",
   "execution_count": 154,
   "id": "222366d3-28e2-43ee-83de-d26e601131ee",
   "metadata": {
    "tags": []
   },
   "outputs": [
    {
     "name": "stdout",
     "output_type": "stream",
     "text": [
      "<class 'pandas.core.frame.DataFrame'>\n",
      "Index: 81730 entries, 0 to 81729\n",
      "Data columns (total 4 columns):\n",
      " #   Column     Non-Null Count  Dtype  \n",
      "---  ------     --------------  -----  \n",
      " 0   userId     81730 non-null  int64  \n",
      " 1   movieId    81730 non-null  int64  \n",
      " 2   rating     81730 non-null  float64\n",
      " 3   timestamp  81730 non-null  int64  \n",
      "dtypes: float64(1), int64(3)\n",
      "memory usage: 3.1 MB\n"
     ]
    }
   ],
   "source": [
    "ratings.info()"
   ]
  },
  {
   "cell_type": "code",
   "execution_count": 155,
   "id": "c78af705-978f-4d67-864b-78a4da2a9257",
   "metadata": {
    "tags": []
   },
   "outputs": [
    {
     "data": {
      "text/plain": [
       "6347"
      ]
     },
     "execution_count": 155,
     "metadata": {},
     "output_type": "execute_result"
    }
   ],
   "source": [
    "unique_movieId_list = list(ratings['movieId'].unique())\n",
    "len(unique_movieId_list)"
   ]
  },
  {
   "cell_type": "code",
   "execution_count": 156,
   "id": "90c8295b-59da-4e5b-9540-baf2f325cc13",
   "metadata": {
    "tags": []
   },
   "outputs": [
    {
     "name": "stdout",
     "output_type": "stream",
     "text": [
      "<class 'pandas.core.frame.DataFrame'>\n",
      "RangeIndex: 44475 entries, 0 to 44474\n",
      "Data columns (total 4 columns):\n",
      " #   Column   Non-Null Count  Dtype \n",
      "---  ------   --------------  ----- \n",
      " 0   movieId  44475 non-null  int64 \n",
      " 1   tmdbId   44475 non-null  int64 \n",
      " 2   title    44475 non-null  object\n",
      " 3   tags     44475 non-null  object\n",
      "dtypes: int64(2), object(2)\n",
      "memory usage: 1.4+ MB\n"
     ]
    }
   ],
   "source": [
    "movies_metadata.info()"
   ]
  },
  {
   "cell_type": "code",
   "execution_count": 157,
   "id": "22e77fb0-3df6-486b-ad28-c6710fb59e87",
   "metadata": {
    "tags": []
   },
   "outputs": [],
   "source": [
    "movies_metadata = movies_metadata[movies_metadata['movieId'].isin(unique_movieId_list)]\n",
    "movies_metadata.reset_index(drop=True, inplace=True)\n",
    "movies_metadata.drop(['tmdbId','title'], axis=1, inplace=True)\n"
   ]
  },
  {
   "cell_type": "code",
   "execution_count": 158,
   "id": "4ee6c5d8-fdda-49af-a4aa-ed0e18a88441",
   "metadata": {
    "tags": []
   },
   "outputs": [
    {
     "data": {
      "text/html": [
       "<div>\n",
       "<style scoped>\n",
       "    .dataframe tbody tr th:only-of-type {\n",
       "        vertical-align: middle;\n",
       "    }\n",
       "\n",
       "    .dataframe tbody tr th {\n",
       "        vertical-align: top;\n",
       "    }\n",
       "\n",
       "    .dataframe thead th {\n",
       "        text-align: right;\n",
       "    }\n",
       "</style>\n",
       "<table border=\"1\" class=\"dataframe\">\n",
       "  <thead>\n",
       "    <tr style=\"text-align: right;\">\n",
       "      <th></th>\n",
       "      <th>movieId</th>\n",
       "      <th>tags</th>\n",
       "    </tr>\n",
       "  </thead>\n",
       "  <tbody>\n",
       "    <tr>\n",
       "      <th>0</th>\n",
       "      <td>1</td>\n",
       "      <td>Led by Woody, Andy's toys live happily in his ...</td>\n",
       "    </tr>\n",
       "    <tr>\n",
       "      <th>1</th>\n",
       "      <td>2</td>\n",
       "      <td>When siblings Judy and Peter discover an encha...</td>\n",
       "    </tr>\n",
       "    <tr>\n",
       "      <th>2</th>\n",
       "      <td>3</td>\n",
       "      <td>A family wedding reignites the ancient feud be...</td>\n",
       "    </tr>\n",
       "    <tr>\n",
       "      <th>3</th>\n",
       "      <td>4</td>\n",
       "      <td>Cheated on, mistreated and stepped on, the wom...</td>\n",
       "    </tr>\n",
       "    <tr>\n",
       "      <th>4</th>\n",
       "      <td>6</td>\n",
       "      <td>Obsessive master thief, Neil McCauley leads a ...</td>\n",
       "    </tr>\n",
       "    <tr>\n",
       "      <th>...</th>\n",
       "      <td>...</td>\n",
       "      <td>...</td>\n",
       "    </tr>\n",
       "    <tr>\n",
       "      <th>6317</th>\n",
       "      <td>130682</td>\n",
       "      <td>After narrowly escaping an ancient burial grou...</td>\n",
       "    </tr>\n",
       "    <tr>\n",
       "      <th>6318</th>\n",
       "      <td>130970</td>\n",
       "      <td>Carlin returns to the stage in his 13th live c...</td>\n",
       "    </tr>\n",
       "    <tr>\n",
       "      <th>6319</th>\n",
       "      <td>130980</td>\n",
       "      <td>Stunning espionage documentary on the US consp...</td>\n",
       "    </tr>\n",
       "    <tr>\n",
       "      <th>6320</th>\n",
       "      <td>131013</td>\n",
       "      <td>When obscenely rich hedge-fund manager James i...</td>\n",
       "    </tr>\n",
       "    <tr>\n",
       "      <th>6321</th>\n",
       "      <td>131168</td>\n",
       "      <td>A disfigured concentration-camp survivor, unre...</td>\n",
       "    </tr>\n",
       "  </tbody>\n",
       "</table>\n",
       "<p>6322 rows × 2 columns</p>\n",
       "</div>"
      ],
      "text/plain": [
       "      movieId                                               tags\n",
       "0           1  Led by Woody, Andy's toys live happily in his ...\n",
       "1           2  When siblings Judy and Peter discover an encha...\n",
       "2           3  A family wedding reignites the ancient feud be...\n",
       "3           4  Cheated on, mistreated and stepped on, the wom...\n",
       "4           6  Obsessive master thief, Neil McCauley leads a ...\n",
       "...       ...                                                ...\n",
       "6317   130682  After narrowly escaping an ancient burial grou...\n",
       "6318   130970  Carlin returns to the stage in his 13th live c...\n",
       "6319   130980  Stunning espionage documentary on the US consp...\n",
       "6320   131013  When obscenely rich hedge-fund manager James i...\n",
       "6321   131168  A disfigured concentration-camp survivor, unre...\n",
       "\n",
       "[6322 rows x 2 columns]"
      ]
     },
     "execution_count": 158,
     "metadata": {},
     "output_type": "execute_result"
    }
   ],
   "source": [
    "movies_metadata"
   ]
  },
  {
   "cell_type": "code",
   "execution_count": 159,
   "id": "94567fec-4a76-4b87-b05d-a21cf8a6e297",
   "metadata": {
    "tags": []
   },
   "outputs": [
    {
     "name": "stdout",
     "output_type": "stream",
     "text": [
      "<class 'pandas.core.frame.DataFrame'>\n",
      "RangeIndex: 6322 entries, 0 to 6321\n",
      "Data columns (total 2 columns):\n",
      " #   Column   Non-Null Count  Dtype \n",
      "---  ------   --------------  ----- \n",
      " 0   movieId  6322 non-null   int64 \n",
      " 1   tags     6322 non-null   object\n",
      "dtypes: int64(1), object(1)\n",
      "memory usage: 98.9+ KB\n"
     ]
    }
   ],
   "source": [
    "movies_metadata.info()"
   ]
  },
  {
   "cell_type": "code",
   "execution_count": 160,
   "id": "7422bbaf-9ced-4579-9e94-fb7e8f61df45",
   "metadata": {
    "tags": []
   },
   "outputs": [],
   "source": [
    "from sklearn.feature_extraction.text import TfidfVectorizer\n",
    "from sklearn.metrics.pairwise import cosine_similarity\n",
    "\n",
    "tfidf = TfidfVectorizer(stop_words='english')\n",
    "\n",
    "tfidf_matrix = tfidf.fit_transform(movies_metadata['tags'])\n",
    "\n",
    "cosine_sim = cosine_similarity(tfidf_matrix, tfidf_matrix)\n",
    "indices = pd.Series(movies_metadata.index, index=movies_metadata['movieId']).drop_duplicates()\n",
    "def get_recommendations(title, cosine_sim=cosine_sim):\n",
    "    idx = indices[title]\n",
    "    sim_scores = list(enumerate(cosine_sim[idx]))\n",
    "    sim_scores = sorted(sim_scores, key=lambda x: x[1], reverse=True)\n",
    "    sim_scores = sim_scores[1:11]\n",
    "    movie_indices = [i[0] for i in sim_scores]\n",
    "    return movies_metadata['movieId'].iloc[movie_indices]"
   ]
  },
  {
   "cell_type": "code",
   "execution_count": null,
   "id": "4fa9d021-5b90-41ac-8e43-41a07b5fd22c",
   "metadata": {
    "tags": []
   },
   "outputs": [],
   "source": []
  },
  {
   "cell_type": "code",
   "execution_count": null,
   "id": "bc6b22bb-d62a-4d31-9693-ef778d9d67da",
   "metadata": {
    "tags": []
   },
   "outputs": [],
   "source": []
  },
  {
   "cell_type": "code",
   "execution_count": 161,
   "id": "e313667c-92d9-4a46-920f-9223ce8afaa1",
   "metadata": {
    "tags": []
   },
   "outputs": [
    {
     "name": "stdout",
     "output_type": "stream",
     "text": [
      "<class 'pandas.core.frame.DataFrame'>\n",
      "Index: 81730 entries, 0 to 81729\n",
      "Data columns (total 4 columns):\n",
      " #   Column     Non-Null Count  Dtype  \n",
      "---  ------     --------------  -----  \n",
      " 0   userId     81730 non-null  int64  \n",
      " 1   movieId    81730 non-null  int64  \n",
      " 2   rating     81730 non-null  float64\n",
      " 3   timestamp  81730 non-null  int64  \n",
      "dtypes: float64(1), int64(3)\n",
      "memory usage: 3.1 MB\n"
     ]
    }
   ],
   "source": [
    "ratings.info()"
   ]
  },
  {
   "cell_type": "code",
   "execution_count": 162,
   "id": "ce6f9fb9-fc24-4727-b735-0039316b0c6d",
   "metadata": {
    "tags": []
   },
   "outputs": [],
   "source": [
    "ratings['rating'] = ratings['rating'].apply(lambda x: 1 if x > 3.5 else 0)"
   ]
  },
  {
   "cell_type": "code",
   "execution_count": 163,
   "id": "8cf53a89-4f1b-4554-b495-bc95df71b96f",
   "metadata": {
    "tags": []
   },
   "outputs": [
    {
     "data": {
      "text/html": [
       "<div>\n",
       "<style scoped>\n",
       "    .dataframe tbody tr th:only-of-type {\n",
       "        vertical-align: middle;\n",
       "    }\n",
       "\n",
       "    .dataframe tbody tr th {\n",
       "        vertical-align: top;\n",
       "    }\n",
       "\n",
       "    .dataframe thead th {\n",
       "        text-align: right;\n",
       "    }\n",
       "</style>\n",
       "<table border=\"1\" class=\"dataframe\">\n",
       "  <thead>\n",
       "    <tr style=\"text-align: right;\">\n",
       "      <th></th>\n",
       "      <th>userId</th>\n",
       "      <th>movieId</th>\n",
       "      <th>rating</th>\n",
       "      <th>timestamp</th>\n",
       "    </tr>\n",
       "  </thead>\n",
       "  <tbody>\n",
       "    <tr>\n",
       "      <th>0</th>\n",
       "      <td>1</td>\n",
       "      <td>31</td>\n",
       "      <td>0</td>\n",
       "      <td>1260759144</td>\n",
       "    </tr>\n",
       "    <tr>\n",
       "      <th>1</th>\n",
       "      <td>1</td>\n",
       "      <td>1061</td>\n",
       "      <td>0</td>\n",
       "      <td>1260759182</td>\n",
       "    </tr>\n",
       "    <tr>\n",
       "      <th>2</th>\n",
       "      <td>1</td>\n",
       "      <td>1129</td>\n",
       "      <td>0</td>\n",
       "      <td>1260759185</td>\n",
       "    </tr>\n",
       "    <tr>\n",
       "      <th>3</th>\n",
       "      <td>1</td>\n",
       "      <td>1172</td>\n",
       "      <td>1</td>\n",
       "      <td>1260759205</td>\n",
       "    </tr>\n",
       "    <tr>\n",
       "      <th>4</th>\n",
       "      <td>1</td>\n",
       "      <td>1263</td>\n",
       "      <td>0</td>\n",
       "      <td>1260759151</td>\n",
       "    </tr>\n",
       "    <tr>\n",
       "      <th>...</th>\n",
       "      <td>...</td>\n",
       "      <td>...</td>\n",
       "      <td>...</td>\n",
       "      <td>...</td>\n",
       "    </tr>\n",
       "    <tr>\n",
       "      <th>81725</th>\n",
       "      <td>671</td>\n",
       "      <td>6212</td>\n",
       "      <td>0</td>\n",
       "      <td>1065149436</td>\n",
       "    </tr>\n",
       "    <tr>\n",
       "      <th>81726</th>\n",
       "      <td>671</td>\n",
       "      <td>6268</td>\n",
       "      <td>0</td>\n",
       "      <td>1065579370</td>\n",
       "    </tr>\n",
       "    <tr>\n",
       "      <th>81727</th>\n",
       "      <td>671</td>\n",
       "      <td>6365</td>\n",
       "      <td>1</td>\n",
       "      <td>1070940363</td>\n",
       "    </tr>\n",
       "    <tr>\n",
       "      <th>81728</th>\n",
       "      <td>671</td>\n",
       "      <td>6385</td>\n",
       "      <td>0</td>\n",
       "      <td>1070979663</td>\n",
       "    </tr>\n",
       "    <tr>\n",
       "      <th>81729</th>\n",
       "      <td>671</td>\n",
       "      <td>6565</td>\n",
       "      <td>0</td>\n",
       "      <td>1074784724</td>\n",
       "    </tr>\n",
       "  </tbody>\n",
       "</table>\n",
       "<p>81730 rows × 4 columns</p>\n",
       "</div>"
      ],
      "text/plain": [
       "       userId  movieId  rating   timestamp\n",
       "0           1       31       0  1260759144\n",
       "1           1     1061       0  1260759182\n",
       "2           1     1129       0  1260759185\n",
       "3           1     1172       1  1260759205\n",
       "4           1     1263       0  1260759151\n",
       "...       ...      ...     ...         ...\n",
       "81725     671     6212       0  1065149436\n",
       "81726     671     6268       0  1065579370\n",
       "81727     671     6365       1  1070940363\n",
       "81728     671     6385       0  1070979663\n",
       "81729     671     6565       0  1074784724\n",
       "\n",
       "[81730 rows x 4 columns]"
      ]
     },
     "execution_count": 163,
     "metadata": {},
     "output_type": "execute_result"
    }
   ],
   "source": [
    "ratings"
   ]
  },
  {
   "cell_type": "code",
   "execution_count": 164,
   "id": "2e95189a-437a-439a-9057-9826c405c9b4",
   "metadata": {
    "tags": []
   },
   "outputs": [
    {
     "name": "stdout",
     "output_type": "stream",
     "text": [
      "<class 'pandas.core.frame.DataFrame'>\n",
      "Index: 81730 entries, 0 to 81729\n",
      "Data columns (total 4 columns):\n",
      " #   Column     Non-Null Count  Dtype\n",
      "---  ------     --------------  -----\n",
      " 0   userId     81730 non-null  int64\n",
      " 1   movieId    81730 non-null  int64\n",
      " 2   rating     81730 non-null  int64\n",
      " 3   timestamp  81730 non-null  int64\n",
      "dtypes: int64(4)\n",
      "memory usage: 3.1 MB\n"
     ]
    }
   ],
   "source": [
    "ratings.info()"
   ]
  },
  {
   "cell_type": "code",
   "execution_count": null,
   "id": "1fe5fa67-0af0-4ca2-83f4-77f27052fa05",
   "metadata": {},
   "outputs": [],
   "source": []
  },
  {
   "cell_type": "code",
   "execution_count": null,
   "id": "8649546a-7abb-4c9e-a4e1-cdc7ae76382c",
   "metadata": {},
   "outputs": [],
   "source": []
  },
  {
   "cell_type": "code",
   "execution_count": null,
   "id": "e1e4b17c-db9c-4672-b0fd-7e53d2562309",
   "metadata": {},
   "outputs": [],
   "source": []
  },
  {
   "cell_type": "code",
   "execution_count": null,
   "id": "4e3ac76c-724f-4194-ab05-2fc6bb026af5",
   "metadata": {},
   "outputs": [],
   "source": []
  },
  {
   "cell_type": "code",
   "execution_count": null,
   "id": "0d52f29a-8baa-4f74-b3ef-662e0480c946",
   "metadata": {},
   "outputs": [],
   "source": []
  },
  {
   "cell_type": "code",
   "execution_count": null,
   "id": "b1c10862-37bd-4607-a705-93a6073e329a",
   "metadata": {},
   "outputs": [],
   "source": []
  },
  {
   "cell_type": "code",
   "execution_count": 165,
   "id": "2b6235bb-1a39-4c59-88a1-62a7cb7cc352",
   "metadata": {
    "tags": []
   },
   "outputs": [
    {
     "name": "stdout",
     "output_type": "stream",
     "text": [
      "Classification Report:\n",
      "              precision    recall  f1-score   support\n",
      "\n",
      "           0       0.64      0.66      0.65      7901\n",
      "           1       0.67      0.66      0.67      8445\n",
      "\n",
      "    accuracy                           0.66     16346\n",
      "   macro avg       0.66      0.66      0.66     16346\n",
      "weighted avg       0.66      0.66      0.66     16346\n",
      "\n",
      "Confusion Matrix:\n",
      "[[5177 2724]\n",
      " [2871 5574]]\n"
     ]
    }
   ],
   "source": [
    "import pandas as pd\n",
    "from sklearn.feature_extraction.text import TfidfVectorizer\n",
    "from sklearn.metrics.pairwise import cosine_similarity\n",
    "from collections import Counter\n",
    "from sklearn.metrics import classification_report, confusion_matrix\n",
    "\n",
    "\n",
    "\n",
    "# Step 1: Create the TF-IDF matrix and compute cosine similarity\n",
    "tfidf = TfidfVectorizer(stop_words='english')\n",
    "tfidf_matrix = tfidf.fit_transform(movies_metadata['tags'])\n",
    "cosine_sim = cosine_similarity(tfidf_matrix, tfidf_matrix)\n",
    "\n",
    "# Create a reverse mapping of indices and movieId\n",
    "indices = pd.Series(movies_metadata.index, index=movies_metadata['movieId']).drop_duplicates()\n",
    "\n",
    "def get_recommendations(movieId, cosine_sim=cosine_sim):\n",
    "    if movieId not in indices:\n",
    "        return []\n",
    "    idx = indices[movieId]\n",
    "    sim_scores = sorted(sim_scores, key=lambda x: x[1], reverse=True)\n",
    "    sim_scores = sim_scores[1:11]  # Top 10 similar movies\n",
    "    movie_indices = [i[0] for i in sim_scores]\n",
    "    return movies_metadata['movieId'].iloc[movie_indices]\n",
    "\n",
    "# Step 2: Integrate User Ratings\n",
    "user_item_matrix = ratings.pivot(index='userId', columns='movieId', values='rating')\n",
    "\n",
    "# Function to get k-nearest neighbors based on item-item similarity\n",
    "def get_k_nearest_neighbors(item_similarity_df, movie_id, k=10):\n",
    "    if movie_id not in item_similarity_df.columns:\n",
    "        return pd.Index([])\n",
    "    sim_scores = item_similarity_df[movie_id]\n",
    "    nearest_neighbors = sim_scores.sort_values(ascending=False).index[1:k+1]\n",
    "    return nearest_neighbors\n",
    "\n",
    "# Function to predict rating for a specific user and movie\n",
    "def predict_rating(user_item_matrix, item_similarity_df, user_id, movie_id, k=10):\n",
    "    nearest_neighbors = get_k_nearest_neighbors(item_similarity_df, movie_id, k)\n",
    "    if nearest_neighbors.empty:\n",
    "        return 0\n",
    "    neighbor_ratings = user_item_matrix.loc[user_id, nearest_neighbors]\n",
    "    if neighbor_ratings.isna().all():\n",
    "        return 0\n",
    "    return Counter(neighbor_ratings.dropna()).most_common(1)[0][0]\n",
    "\n",
    "# Compute the item similarity DataFrame using movie metadata\n",
    "item_similarity_df = pd.DataFrame(cosine_sim, index=movies_metadata['movieId'], columns=movies_metadata['movieId'])\n",
    "\n",
    "# Split the ratings data into training and testing sets\n",
    "train_ratings = ratings.sample(frac=0.8, random_state=42)\n",
    "test_ratings = ratings.drop(train_ratings.index)\n",
    "\n",
    "# Evaluate at K=255\n",
    "K = 255\n",
    "y_true_all = []\n",
    "y_pred_all = []\n",
    "\n",
    "for index, row in test_ratings.iterrows():\n",
    "    user_id = row['userId']\n",
    "    movie_id = row['movieId']\n",
    "    y_true_all.append(row['rating'])\n",
    "    y_pred_all.append(predict_rating(user_item_matrix, item_similarity_df, user_id, movie_id, k=K))\n",
    "\n",
    "# Convert to integers\n",
    "y_true_all = [int(val) for val in y_true_all]\n",
    "y_pred_all = [int(val) for val in y_pred_all]\n",
    "\n",
    "# Generate classification report and confusion matrix\n",
    "print(\"Classification Report:\")\n",
    "print(classification_report(y_true_all, y_pred_all))\n",
    "\n",
    "print(\"Confusion Matrix:\")\n",
    "print(confusion_matrix(y_true_all, y_pred_all))\n"
   ]
  },
  {
   "cell_type": "code",
   "execution_count": 166,
   "id": "32c09c8e-e29b-471c-9d4d-fb9d48bb5740",
   "metadata": {
    "tags": []
   },
   "outputs": [
    {
     "data": {
      "image/png": "[encoded data removed]",
      "text/plain": [
       "<Figure size 1200x600 with 1 Axes>"
      ]
     },
     "metadata": {},
     "output_type": "display_data"
    }
   ],
   "source": [
    "import matplotlib.pyplot as plt\n",
    "\n",
    "# Define the list of K values\n",
    "K_values = [5, 10, 20, 50, 100, 150, 255]\n",
    "\n",
    "# Initialize lists to store precision and recall values for each K\n",
    "precision_scores = []\n",
    "recall_scores = []\n",
    "\n",
    "for K in K_values:\n",
    "    # Perform prediction and evaluation\n",
    "    y_true_all = []\n",
    "    y_pred_all = []\n",
    "\n",
    "    for index, row in test_ratings.iterrows():\n",
    "        user_id = row['userId']\n",
    "        movie_id = row['movieId']\n",
    "        y_true_all.append(row['rating'])\n",
    "        y_pred_all.append(predict_rating(user_item_matrix, item_similarity_df, user_id, movie_id, k=K))\n",
    "\n",
    "    # Convert to integers\n",
    "    y_true_all = [int(val) for val in y_true_all]\n",
    "    y_pred_all = [int(val) for val in y_pred_all]\n",
    "\n",
    "    # Calculate precision and recall\n",
    "    precision = precision_score(y_true_all, y_pred_all)\n",
    "    recall = recall_score(y_true_all, y_pred_all)\n",
    "\n",
    "    # Append scores to lists\n",
    "    precision_scores.append(precision)\n",
    "    recall_scores.append(recall)\n",
    "\n",
    "# Plot the precision and recall scores for different values of K\n",
    "plt.figure(figsize=(12, 6))\n",
    "plt.plot(K_values, precision_scores, label='Precision', marker='o')\n",
    "plt.plot(K_values, recall_scores, label='Recall', marker='o')\n",
    "plt.xlabel('K (Number of Neighbors)')\n",
    "plt.ylabel('Score')\n",
    "plt.title('Precision and Recall Scores for Different K Values')\n",
    "plt.xticks(K_values)\n",
    "plt.legend()\n",
    "plt.grid(True)\n",
    "plt.show()\n"
   ]
  },
  {
   "cell_type": "code",
   "execution_count": null,
   "id": "b6a3ead0-6c1b-4a92-8f38-38093cfe8169",
   "metadata": {},
   "outputs": [],
   "source": []
  },
  {
   "cell_type": "code",
   "execution_count": null,
   "id": "1a6d2af9-8faf-4343-b661-230d9013f60e",
   "metadata": {},
   "outputs": [],
   "source": []
  },
  {
   "cell_type": "code",
   "execution_count": null,
   "id": "955e15bf-5f0d-4c35-bc4c-bd5971981981",
   "metadata": {},
   "outputs": [],
   "source": []
  },
  {
   "cell_type": "code",
   "execution_count": null,
   "id": "28750562-8fc3-4b57-bee0-8668a4375005",
   "metadata": {
    "tags": []
   },
   "outputs": [],
   "source": []
  },
  {
   "cell_type": "code",
   "execution_count": null,
   "id": "f2c05a16-dbfa-49a5-a34a-78d15d869803",
   "metadata": {},
   "outputs": [],
   "source": []
  },
  {
   "cell_type": "code",
   "execution_count": null,
   "id": "a7f66aa3-5bbf-4d6a-8ea3-1d7c2ad04e4b",
   "metadata": {},
   "outputs": [],
   "source": []
  },
  {
   "cell_type": "code",
   "execution_count": null,
   "id": "3159ec25-7b19-4359-98ce-aaf01b0c9176",
   "metadata": {},
   "outputs": [],
   "source": []
  },
  {
   "cell_type": "code",
   "execution_count": null,
   "id": "77fea933-f7fc-49da-bcb9-24fe7bbd757e",
   "metadata": {},
   "outputs": [],
   "source": []
  },
  {
   "cell_type": "code",
   "execution_count": null,
   "id": "ee7b1cc2-0b60-4889-8290-9005cc714d0a",
   "metadata": {},
   "outputs": [],
   "source": []
  },
  {
   "cell_type": "code",
   "execution_count": null,
   "id": "80dc39e1-695a-413f-9bc9-b76c14fcf5fe",
   "metadata": {},
   "outputs": [],
   "source": []
  },
  {
   "cell_type": "code",
   "execution_count": null,
   "id": "64e387c9-9264-4072-a827-efafd8de612f",
   "metadata": {},
   "outputs": [],
   "source": []
  }
 ],
 "metadata": {
  "kernelspec": {
   "display_name": "Python 3 (ipykernel)",
   "language": "python",
   "name": "python3"
  },
  "language_info": {
   "codemirror_mode": {
    "name": "ipython",
    "version": 3
   },
   "file_extension": ".py",
   "mimetype": "text/x-python",
   "name": "python",
   "nbconvert_exporter": "python",
   "pygments_lexer": "ipython3",
   "version": "3.11.5"
  }
 },
 "nbformat": 4,
 "nbformat_minor": 5
}
