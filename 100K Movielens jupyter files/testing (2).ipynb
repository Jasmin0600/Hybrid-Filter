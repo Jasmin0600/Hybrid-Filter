{
 "cells": [
  {
   "cell_type": "code",
   "execution_count": 1,
   "id": "a659181d-ef9c-4655-ad0b-6b94278f98b8",
   "metadata": {
    "tags": []
   },
   "outputs": [],
   "source": [
    "import pandas as pd\n",
    "from sklearn.model_selection import train_test_split\n",
    "from sklearn.metrics import mean_squared_error\n",
    "import numpy as np\n",
    "from sklearn.metrics import mean_absolute_error\n",
    "from tqdm import tqdm"
   ]
  },
  {
   "cell_type": "code",
   "execution_count": 2,
   "id": "d45b9269-bb40-490e-83a5-09276d595d98",
   "metadata": {
    "tags": []
   },
   "outputs": [],
   "source": [
    "df = pd.read_csv('dataset.csv')\n",
    "movie_similarity_based_on_users_rating = pd.read_csv('movie_similarity_based_on_users_rating.csv', index_col=0)\n",
    "movie_similarity_based_on_objects = pd.read_csv('movie_similarity_based_on_objects.csv', index_col=0)\n"
   ]
  },
  {
   "cell_type": "code",
   "execution_count": 3,
   "id": "5b948d49-d4fa-4511-9a3a-b2cae44a2ddf",
   "metadata": {
    "tags": []
   },
   "outputs": [],
   "source": [
    "df.drop(['Unnamed: 0'], axis=1, inplace=True)\n"
   ]
  },
  {
   "cell_type": "code",
   "execution_count": 4,
   "id": "efb44dc3-79cc-417f-a0bb-771ccffc91a1",
   "metadata": {
    "tags": []
   },
   "outputs": [
    {
     "name": "stdout",
     "output_type": "stream",
     "text": [
      "<class 'pandas.core.frame.DataFrame'>\n",
      "RangeIndex: 81730 entries, 0 to 81729\n",
      "Data columns (total 4 columns):\n",
      " #   Column     Non-Null Count  Dtype  \n",
      "---  ------     --------------  -----  \n",
      " 0   userId     81730 non-null  int64  \n",
      " 1   movieId    81730 non-null  int64  \n",
      " 2   rating     81730 non-null  float64\n",
      " 3   timestamp  81730 non-null  int64  \n",
      "dtypes: float64(1), int64(3)\n",
      "memory usage: 2.5 MB\n"
     ]
    }
   ],
   "source": [
    "df.info()"
   ]
  },
  {
   "cell_type": "code",
   "execution_count": 5,
   "id": "6e3fd5b9-d9e9-4db0-a1f2-35eb3f450fe5",
   "metadata": {
    "tags": []
   },
   "outputs": [],
   "source": [
    "movie_similarity = movie_similarity_based_on_users_rating"
   ]
  },
  {
   "cell_type": "code",
   "execution_count": 6,
   "id": "6afbb60d-6749-4278-86bd-b26372b3b817",
   "metadata": {
    "tags": []
   },
   "outputs": [],
   "source": [
    "# Ensure movie IDs in similarity matrix are integers\n",
    "movie_similarity.index = movie_similarity.index.astype(int)\n",
    "movie_similarity.columns = movie_similarity.columns.astype(int)"
   ]
  },
  {
   "cell_type": "code",
   "execution_count": 7,
   "id": "9944c75c-95e4-4594-8012-1b0261081918",
   "metadata": {
    "tags": []
   },
   "outputs": [],
   "source": [
    "train_data, test_data = train_test_split(df, test_size=0.2, random_state=42)\n"
   ]
  },
  {
   "cell_type": "code",
   "execution_count": 59,
   "id": "83c4bf6c-36ae-4747-8089-168634b5d4f5",
   "metadata": {
    "tags": []
   },
   "outputs": [],
   "source": [
    "def predict_rating(user_id, movie_id, train_data, similarity_matrix, k=10):\n",
    "    # Get the movies rated by the user\n",
    "    user_ratings = train_data[train_data['userId'] == user_id]\n",
    "    \n",
    "    # If the user hasn't rated any movies, return a default rating (e.g., the global mean)\n",
    "    if user_ratings.empty:\n",
    "        return train_data['rating'].mean()\n",
    "\n",
    "    # Check if the movie_id is in the similarity matrix\n",
    "    if movie_id not in similarity_matrix.index:\n",
    "        print(f\"Movie ID {movie_id} not found in similarity matrix. Returning global mean.\")\n",
    "        return train_data['rating'].mean()\n",
    "    \n",
    "    # Get the similarity scores for the target movie with all other movies\n",
    "    similar_movies = similarity_matrix[movie_id].dropna()\n",
    "    \n",
    "    # Merge with the user's ratings\n",
    "    similar_movies = similar_movies.reset_index()\n",
    "    similar_movies.columns = ['movieId', 'similarity']\n",
    "    user_ratings = user_ratings.merge(similar_movies, on='movieId')\n",
    "    \n",
    "    if user_ratings.empty:\n",
    "        print(f\"No similar movies found for Movie ID {movie_id}. Returning global mean.\")\n",
    "        return train_data['rating'].mean()\n",
    "\n",
    "    # Get the top k similar movies\n",
    "    user_ratings = user_ratings.sort_values(by='similarity', ascending=False)\n",
    "    user_ratings = user_ratings.head(k)\n",
    "    \n",
    "    # Calculate the weighted average of the ratings\n",
    "    weighted_sum = sum(user_ratings['rating'] * user_ratings['similarity'])\n",
    "    sum_of_weights = sum(user_ratings['similarity'])\n",
    "    if sum_of_weights == 0:\n",
    "        return train_data['rating'].mean()\n",
    "    \n",
    "    predicted_rating = weighted_sum / sum_of_weights\n",
    "    return predicted_rating\n",
    "\n",
    "# Predict ratings for the test set\n",
    "test_data['predicted_rating'] = test_data.apply(\n",
    "    lambda row: predict_rating(row['userId'], row['movieId'], train_data, movie_similarity), axis=1\n",
    ")\n"
   ]
  },
  {
   "cell_type": "code",
   "execution_count": 60,
   "id": "6fb35b2d-9e13-4611-9393-466fa33221b6",
   "metadata": {
    "tags": []
   },
   "outputs": [
    {
     "name": "stdout",
     "output_type": "stream",
     "text": [
      "RMSE: 0.8825343817722014\n",
      "MAE: 0.6675272384099467\n"
     ]
    }
   ],
   "source": [
    "# Calculate the RMSE\n",
    "rmse = np.sqrt(mean_squared_error(test_data['rating'], test_data['predicted_rating']))\n",
    "print(f'RMSE: {rmse}')\n",
    "\n",
    "# Assuming you have the actual and predicted ratings in test_data\n",
    "mae = mean_absolute_error(test_data['rating'], test_data['predicted_rating'])\n",
    "print(f'MAE: {mae}')\n",
    "\n"
   ]
  },
  {
   "cell_type": "code",
   "execution_count": 50,
   "id": "08b1b6ef-d4ca-4e39-871f-66846a6e688b",
   "metadata": {
    "tags": []
   },
   "outputs": [],
   "source": [
    "movie_similarity = movie_similarity_based_on_objects"
   ]
  },
  {
   "cell_type": "code",
   "execution_count": 51,
   "id": "7246d013-46b0-4743-8cb1-45123ed6ab78",
   "metadata": {
    "tags": []
   },
   "outputs": [],
   "source": [
    "# Ensure movie IDs in similarity matrix are integers\n",
    "movie_similarity.index = movie_similarity.index.astype(int)\n",
    "movie_similarity.columns = movie_similarity.columns.astype(int)"
   ]
  },
  {
   "cell_type": "code",
   "execution_count": 52,
   "id": "71518068-b824-4c44-8883-6b32d5fe1f12",
   "metadata": {
    "tags": []
   },
   "outputs": [],
   "source": [
    "def predict_rating(user_id, movie_id, train_data, similarity_matrix, k=10):\n",
    "    # Get the movies rated by the user\n",
    "    user_ratings = train_data[train_data['userId'] == user_id]\n",
    "    \n",
    "    # If the user hasn't rated any movies, return a default rating (e.g., the global mean)\n",
    "    if user_ratings.empty:\n",
    "        return train_data['rating'].mean()\n",
    "\n",
    "    # Check if the movie_id is in the similarity matrix\n",
    "    if movie_id not in similarity_matrix.index:\n",
    "        print(f\"Movie ID {movie_id} not found in similarity matrix. Returning global mean.\")\n",
    "        return train_data['rating'].mean()\n",
    "    \n",
    "    # Get the similarity scores for the target movie with all other movies\n",
    "    similar_movies = similarity_matrix[movie_id].dropna()\n",
    "    \n",
    "    # Merge with the user's ratings\n",
    "    similar_movies = similar_movies.reset_index()\n",
    "    similar_movies.columns = ['movieId', 'similarity']\n",
    "    user_ratings = user_ratings.merge(similar_movies, on='movieId')\n",
    "    \n",
    "    if user_ratings.empty:\n",
    "        print(f\"No similar movies found for Movie ID {movie_id}. Returning global mean.\")\n",
    "        return train_data['rating'].mean()\n",
    "\n",
    "    # Get the top k similar movies\n",
    "    user_ratings = user_ratings.sort_values(by='similarity', ascending=False)\n",
    "    user_ratings = user_ratings.head(k)\n",
    "    \n",
    "    # Calculate the weighted average of the ratings\n",
    "    weighted_sum = sum(user_ratings['rating'] * user_ratings['similarity'])\n",
    "    sum_of_weights = sum(user_ratings['similarity'])\n",
    "    if sum_of_weights == 0:\n",
    "        return train_data['rating'].mean()\n",
    "    \n",
    "    predicted_rating = weighted_sum / sum_of_weights\n",
    "    return predicted_rating\n",
    "\n",
    "# Predict ratings for the test set\n",
    "test_data['predicted_rating'] = test_data.apply(\n",
    "    lambda row: predict_rating(row['userId'], row['movieId'], train_data, movie_similarity), axis=1\n",
    ")\n"
   ]
  },
  {
   "cell_type": "code",
   "execution_count": 55,
   "id": "9293dbc1-cc57-4156-98e0-78e27606c75e",
   "metadata": {
    "tags": []
   },
   "outputs": [
    {
     "name": "stdout",
     "output_type": "stream",
     "text": [
      "RMSE: 1.1065603582559367\n",
      "MAE: 0.7867073165288622\n"
     ]
    }
   ],
   "source": [
    "# Calculate the RMSE\n",
    "rmse = np.sqrt(mean_squared_error(test_data['rating'], test_data['predicted_rating']))\n",
    "print(f'RMSE: {rmse}')\n",
    "\n",
    "# Assuming you have the actual and predicted ratings in test_data\n",
    "mae = mean_absolute_error(test_data['rating'], test_data['predicted_rating'])\n",
    "print(f'MAE: {mae}')\n"
   ]
  },
  {
   "cell_type": "code",
   "execution_count": null,
   "id": "60ffa77c-599c-4b6d-8b0a-a867df097eaa",
   "metadata": {},
   "outputs": [],
   "source": []
  },
  {
   "cell_type": "code",
   "execution_count": 8,
   "id": "1ab1f459-0bb3-4dbc-adcc-e8178d5fe585",
   "metadata": {},
   "outputs": [],
   "source": [
    "movie_similarity = movie_similarity_based_on_users_rating"
   ]
  },
  {
   "cell_type": "code",
   "execution_count": 9,
   "id": "0bcb1719",
   "metadata": {},
   "outputs": [],
   "source": [
    "# Ensure movie IDs in similarity matrix are integers\n",
    "movie_similarity.index = movie_similarity.index.astype(int)\n",
    "movie_similarity.columns = movie_similarity.columns.astype(int)"
   ]
  },
  {
   "cell_type": "code",
   "execution_count": 10,
   "id": "30b0b432-051c-4310-864c-f8585bc38f05",
   "metadata": {
    "tags": []
   },
   "outputs": [
    {
     "name": "stderr",
     "output_type": "stream",
     "text": [
      "Evaluating Precision@K: 100%|██████████| 668/668 [10:45<00:00,  1.03it/s]\n"
     ]
    },
    {
     "name": "stdout",
     "output_type": "stream",
     "text": [
      "Precision@10: 0.3742514970059872\n"
     ]
    }
   ],
   "source": [
    "import pandas as pd\n",
    "from tqdm import tqdm\n",
    "import concurrent.futures\n",
    "\n",
    "def precision_at_k(recommended_items, relevant_items, k):\n",
    "    # Ensure only top K recommendations are considered\n",
    "    recommended_items_at_k = recommended_items[:k]\n",
    "    \n",
    "    # Calculate the number of relevant items in the top K recommendations\n",
    "    num_relevant_items = sum(1 for item in recommended_items_at_k if item in relevant_items)\n",
    "    \n",
    "    # Calculate precision@K\n",
    "    precision = num_relevant_items / k\n",
    "    return precision\n",
    "\n",
    "def get_top_k_recommendations(user_id, user_train_data, similarity_matrix, k):\n",
    "    user_rated_movies = user_train_data['movieId'].values\n",
    "    movie_scores = {}\n",
    "\n",
    "    for movie_id in user_rated_movies:\n",
    "        if movie_id in similarity_matrix.index:\n",
    "            similar_movies = similarity_matrix[movie_id].dropna()\n",
    "            for similar_movie_id, similarity in similar_movies.items():\n",
    "                if similar_movie_id not in user_rated_movies:\n",
    "                    if similar_movie_id not in movie_scores:\n",
    "                        movie_scores[similar_movie_id] = 0\n",
    "                    movie_scores[similar_movie_id] += similarity\n",
    "    \n",
    "    # Sort the movies based on the scores and get the top K\n",
    "    sorted_movies = sorted(movie_scores.items(), key=lambda x: x[1], reverse=True)\n",
    "    top_k_recommendations = [movie_id for movie_id, score in sorted_movies[:k]]\n",
    "    return top_k_recommendations\n",
    "\n",
    "def evaluate_precision_for_user(user_id, test_data, train_data, similarity_matrix, k):\n",
    "    user_test_data = test_data[test_data['userId'] == user_id]\n",
    "    user_relevant_items = set(user_test_data['movieId'])\n",
    "    \n",
    "    # Generate top K recommendations for this user based on the similarity matrix\n",
    "    user_train_data = train_data[train_data['userId'] == user_id]\n",
    "    recommended_items = get_top_k_recommendations(user_id, user_train_data, similarity_matrix, k)\n",
    "    \n",
    "    # Calculate precision@K for this user\n",
    "    precision = precision_at_k(recommended_items, user_relevant_items, k)\n",
    "    return precision\n",
    "\n",
    "def evaluate_precision_at_k(test_data, train_data, similarity_matrix, k=10, num_workers=50):\n",
    "    user_ids = test_data['userId'].unique()\n",
    "    precision_scores = []\n",
    "\n",
    "    with concurrent.futures.ProcessPoolExecutor(max_workers=num_workers) as executor:\n",
    "        futures = {executor.submit(evaluate_precision_for_user, user_id, test_data, train_data, similarity_matrix, k): user_id for user_id in user_ids}\n",
    "        for future in tqdm(concurrent.futures.as_completed(futures), total=len(user_ids), desc=\"Evaluating Precision@K\"):\n",
    "            try:\n",
    "                precision_scores.append(future.result())\n",
    "            except Exception as e:\n",
    "                print(f\"Error processing user {futures[future]}: {e}\")\n",
    "    \n",
    "    # Calculate mean precision@K\n",
    "    mean_precision_at_k = sum(precision_scores) / len(precision_scores)\n",
    "    return mean_precision_at_k\n",
    "\n",
    "# Example usage\n",
    "precision_k = evaluate_precision_at_k(test_data, train_data, movie_similarity, k=10, num_workers=60)\n",
    "print(f'Precision@10: {precision_k}')\n"
   ]
  },
  {
   "cell_type": "code",
   "execution_count": 17,
   "id": "e6ec72e9-d95a-48e8-9d41-87dde017c29c",
   "metadata": {},
   "outputs": [],
   "source": [
    "movie_similarity = movie_similarity_based_on_objects"
   ]
  },
  {
   "cell_type": "code",
   "execution_count": 18,
   "id": "f2cde646-89b9-4032-81d3-f2bb3584fff6",
   "metadata": {},
   "outputs": [],
   "source": [
    "# Ensure movie IDs in similarity matrix are integers\n",
    "movie_similarity.index = movie_similarity.index.astype(int)\n",
    "movie_similarity.columns = movie_similarity.columns.astype(int)"
   ]
  },
  {
   "cell_type": "code",
   "execution_count": null,
   "id": "d8ae0dcd",
   "metadata": {},
   "outputs": [],
   "source": []
  },
  {
   "cell_type": "code",
   "execution_count": 19,
   "id": "4373dcd5-a3a5-4737-af06-5258b6b658d9",
   "metadata": {},
   "outputs": [
    {
     "name": "stderr",
     "output_type": "stream",
     "text": [
      "Evaluating Precision@K: 100%|██████████| 668/668 [12:56<00:00,  1.16s/it]\n"
     ]
    },
    {
     "name": "stdout",
     "output_type": "stream",
     "text": [
      "Precision@10: 0.005089820359281439\n"
     ]
    }
   ],
   "source": [
    "import pandas as pd\n",
    "from tqdm import tqdm\n",
    "import concurrent.futures\n",
    "\n",
    "def precision_at_k(recommended_items, relevant_items, k):\n",
    "    # Ensure only top K recommendations are considered\n",
    "    recommended_items_at_k = recommended_items[:k]\n",
    "    \n",
    "    # Calculate the number of relevant items in the top K recommendations\n",
    "    num_relevant_items = sum(1 for item in recommended_items_at_k if item in relevant_items)\n",
    "    \n",
    "    # Calculate precision@K\n",
    "    precision = num_relevant_items / k\n",
    "    return precision\n",
    "\n",
    "def get_top_k_recommendations(user_id, user_train_data, similarity_matrix, k):\n",
    "    user_rated_movies = user_train_data['movieId'].values\n",
    "    movie_scores = {}\n",
    "\n",
    "    for movie_id in user_rated_movies:\n",
    "        if movie_id in similarity_matrix.index:\n",
    "            similar_movies = similarity_matrix[movie_id].dropna()\n",
    "            for similar_movie_id, similarity in similar_movies.items():\n",
    "                if similar_movie_id not in user_rated_movies:\n",
    "                    if similar_movie_id not in movie_scores:\n",
    "                        movie_scores[similar_movie_id] = 0\n",
    "                    movie_scores[similar_movie_id] += similarity\n",
    "    \n",
    "    # Sort the movies based on the scores and get the top K\n",
    "    sorted_movies = sorted(movie_scores.items(), key=lambda x: x[1], reverse=True)\n",
    "    top_k_recommendations = [movie_id for movie_id, score in sorted_movies[:k]]\n",
    "    return top_k_recommendations\n",
    "\n",
    "def evaluate_precision_for_user(user_id, test_data, train_data, similarity_matrix, k):\n",
    "    user_test_data = test_data[test_data['userId'] == user_id]\n",
    "    user_relevant_items = set(user_test_data['movieId'])\n",
    "    \n",
    "    # Generate top K recommendations for this user based on the similarity matrix\n",
    "    user_train_data = train_data[train_data['userId'] == user_id]\n",
    "    recommended_items = get_top_k_recommendations(user_id, user_train_data, similarity_matrix, k)\n",
    "    \n",
    "    # Calculate precision@K for this user\n",
    "    precision = precision_at_k(recommended_items, user_relevant_items, k)\n",
    "    return precision\n",
    "\n",
    "def evaluate_precision_at_k(test_data, train_data, similarity_matrix, k=10, num_workers=50):\n",
    "    user_ids = test_data['userId'].unique()\n",
    "    precision_scores = []\n",
    "\n",
    "    with concurrent.futures.ProcessPoolExecutor(max_workers=num_workers) as executor:\n",
    "        futures = {executor.submit(evaluate_precision_for_user, user_id, test_data, train_data, similarity_matrix, k): user_id for user_id in user_ids}\n",
    "        for future in tqdm(concurrent.futures.as_completed(futures), total=len(user_ids), desc=\"Evaluating Precision@K\"):\n",
    "            try:\n",
    "                precision_scores.append(future.result())\n",
    "            except Exception as e:\n",
    "                print(f\"Error processing user {futures[future]}: {e}\")\n",
    "    \n",
    "    # Calculate mean precision@K\n",
    "    mean_precision_at_k = sum(precision_scores) / len(precision_scores)\n",
    "    return mean_precision_at_k\n",
    "\n",
    "# Example usage\n",
    "precision_k = evaluate_precision_at_k(test_data, train_data, movie_similarity, k=10, num_workers=60)\n",
    "print(f'Precision@10: {precision_k}')\n"
   ]
  },
  {
   "cell_type": "code",
   "execution_count": null,
   "id": "396721a1-e427-4c5e-bf2e-488cd9331011",
   "metadata": {
    "tags": []
   },
   "outputs": [],
   "source": [
    "import sounddevice as sd\n",
    "\n",
    "def play_sound():\n",
    "    sample_rate = 44100  # Set the sample rate in Hz\n",
    "    duration = 5  # Set the duration of the sound in seconds\n",
    "\n",
    "    # Generate a simple sine wave signal\n",
    "    t = np.linspace(0, duration, int(sample_rate * duration), False)\n",
    "    frequency = 440  # Set the frequency of the sine wave in Hz\n",
    "    wave = 0.5 * np.sin(2 * np.pi * frequency * t)\n",
    "\n",
    "    sd.play(wave, sample_rate)\n",
    "    sd.wait()\n",
    "\n",
    "play_sound()"
   ]
  },
  {
   "cell_type": "code",
   "execution_count": null,
   "id": "fc0f9932-abc2-4df7-8b63-7092b1adc89e",
   "metadata": {},
   "outputs": [],
   "source": []
  }
 ],
 "metadata": {
  "kernelspec": {
   "display_name": "Python 3 (ipykernel)",
   "language": "python",
   "name": "python3"
  },
  "language_info": {
   "codemirror_mode": {
    "name": "ipython",
    "version": 3
   },
   "file_extension": ".py",
   "mimetype": "text/x-python",
   "name": "python",
   "nbconvert_exporter": "python",
   "pygments_lexer": "ipython3",
   "version": "3.11.2"
  }
 },
 "nbformat": 4,
 "nbformat_minor": 5
}
