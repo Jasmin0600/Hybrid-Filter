{
 "cells": [
  {
   "cell_type": "code",
   "execution_count": 1,
   "id": "106ebe49-8220-4fb9-b6ac-ed2141cda124",
   "metadata": {
    "tags": []
   },
   "outputs": [
    {
     "name": "stdout",
     "output_type": "stream",
     "text": [
      "YouTube Transcript:\n",
      " sergeant yes sir establish a recon post downstairs Code Red repeat we are at Code Red recon plan charlie execute pictures presents star command come in do you read me the story of two toys there seems to be no sign of intelligent life anywhere oh yeah headed for a showdown my name is woody this is my spot I am Buzz Lightyear I come in peace you are a child's plaything you are a sad strange little man and playing by their own rules draw me again don't confrontations Vulcan alien birth you're mocking me aren't you Oh impressive wingspan very good can't fly yes I can't can't man the adventure takes off when toys come to light go and meditate and be a hunter story [Music]\n"
     ]
    }
   ],
   "source": [
    "from youtube_transcript_api import YouTubeTranscriptApi\n",
    "\n",
    "def extract_transcript_details(youtube_video_url):\n",
    "    try:\n",
    "        video_id = youtube_video_url.split(\"=\")[1]\n",
    "        \n",
    "        transcript_text = YouTubeTranscriptApi.get_transcript(video_id)\n",
    "        transcript = \"\"\n",
    "        for i in transcript_text:\n",
    "            transcript += \" \" + i[\"text\"]\n",
    "        return transcript\n",
    "    except Exception as e:\n",
    "        raise e\n",
    "\n",
    "# Example usage\n",
    "youtube_link = \"https://www.youtube.com/watch?v=v-PjgYDrg70\"\n",
    "transcript_text = extract_transcript_details(youtube_link)\n",
    "if transcript_text:\n",
    "    print(\"YouTube Transcript:\")\n",
    "    print(transcript_text)\n",
    "else:\n",
    "    print(\"Failed to fetch the transcript.\")"
   ]
  },
  {
   "cell_type": "code",
   "execution_count": 3,
   "id": "65d6922d-8c67-4cf9-8fd7-d3b1aedf4b8a",
   "metadata": {
    "tags": []
   },
   "outputs": [
    {
     "ename": "TranscriptsDisabled",
     "evalue": "\nCould not retrieve a transcript for the video https://www.youtube.com/watch?v=NLOp_6uPccQ! This is most likely caused by:\n\nSubtitles are disabled for this video\n\nIf you are sure that the described cause is not responsible for this error and that a transcript should be retrievable, please create an issue at https://github.com/jdepoix/youtube-transcript-api/issues. Please add which version of youtube_transcript_api you are using and provide the information needed to replicate the error. Also make sure that there are no open issues which already describe your problem!",
     "output_type": "error",
     "traceback": [
      "\u001b[1;31m---------------------------------------------------------------------------\u001b[0m",
      "\u001b[1;31mTranscriptsDisabled\u001b[0m                       Traceback (most recent call last)",
      "Cell \u001b[1;32mIn[3], line 3\u001b[0m\n\u001b[0;32m      1\u001b[0m \u001b[38;5;66;03m# Example usage\u001b[39;00m\n\u001b[0;32m      2\u001b[0m youtube_link \u001b[38;5;241m=\u001b[39m \u001b[38;5;124m\"\u001b[39m\u001b[38;5;124mhttps://www.youtube.com/watch?v=NLOp_6uPccQ\u001b[39m\u001b[38;5;124m\"\u001b[39m\n\u001b[1;32m----> 3\u001b[0m transcript_text \u001b[38;5;241m=\u001b[39m extract_transcript_details(youtube_link)\n\u001b[0;32m      4\u001b[0m \u001b[38;5;28;01mif\u001b[39;00m transcript_text:\n\u001b[0;32m      5\u001b[0m     \u001b[38;5;28mprint\u001b[39m(\u001b[38;5;124m\"\u001b[39m\u001b[38;5;124mYouTube Transcript:\u001b[39m\u001b[38;5;124m\"\u001b[39m)\n",
      "Cell \u001b[1;32mIn[1], line 13\u001b[0m, in \u001b[0;36mextract_transcript_details\u001b[1;34m(youtube_video_url)\u001b[0m\n\u001b[0;32m     11\u001b[0m     \u001b[38;5;28;01mreturn\u001b[39;00m transcript\n\u001b[0;32m     12\u001b[0m \u001b[38;5;28;01mexcept\u001b[39;00m \u001b[38;5;167;01mException\u001b[39;00m \u001b[38;5;28;01mas\u001b[39;00m e:\n\u001b[1;32m---> 13\u001b[0m     \u001b[38;5;28;01mraise\u001b[39;00m e\n",
      "Cell \u001b[1;32mIn[1], line 7\u001b[0m, in \u001b[0;36mextract_transcript_details\u001b[1;34m(youtube_video_url)\u001b[0m\n\u001b[0;32m      4\u001b[0m \u001b[38;5;28;01mtry\u001b[39;00m:\n\u001b[0;32m      5\u001b[0m     video_id \u001b[38;5;241m=\u001b[39m youtube_video_url\u001b[38;5;241m.\u001b[39msplit(\u001b[38;5;124m\"\u001b[39m\u001b[38;5;124m=\u001b[39m\u001b[38;5;124m\"\u001b[39m)[\u001b[38;5;241m1\u001b[39m]\n\u001b[1;32m----> 7\u001b[0m     transcript_text \u001b[38;5;241m=\u001b[39m YouTubeTranscriptApi\u001b[38;5;241m.\u001b[39mget_transcript(video_id)\n\u001b[0;32m      8\u001b[0m     transcript \u001b[38;5;241m=\u001b[39m \u001b[38;5;124m\"\u001b[39m\u001b[38;5;124m\"\u001b[39m\n\u001b[0;32m      9\u001b[0m     \u001b[38;5;28;01mfor\u001b[39;00m i \u001b[38;5;129;01min\u001b[39;00m transcript_text:\n",
      "File \u001b[1;32m~\\anaconda3\\Lib\\site-packages\\youtube_transcript_api\\_api.py:137\u001b[0m, in \u001b[0;36mYouTubeTranscriptApi.get_transcript\u001b[1;34m(cls, video_id, languages, proxies, cookies, preserve_formatting)\u001b[0m\n\u001b[0;32m    116\u001b[0m \u001b[38;5;250m\u001b[39m\u001b[38;5;124;03m\"\"\"\u001b[39;00m\n\u001b[0;32m    117\u001b[0m \u001b[38;5;124;03mRetrieves the transcript for a single video. This is just a shortcut for calling::\u001b[39;00m\n\u001b[0;32m    118\u001b[0m \n\u001b[1;32m   (...)\u001b[0m\n\u001b[0;32m    134\u001b[0m \u001b[38;5;124;03m:rtype [{'text': str, 'start': float, 'end': float}]:\u001b[39;00m\n\u001b[0;32m    135\u001b[0m \u001b[38;5;124;03m\"\"\"\u001b[39;00m\n\u001b[0;32m    136\u001b[0m \u001b[38;5;28;01massert\u001b[39;00m \u001b[38;5;28misinstance\u001b[39m(video_id, \u001b[38;5;28mstr\u001b[39m), \u001b[38;5;124m\"\u001b[39m\u001b[38;5;124m`video_id` must be a string\u001b[39m\u001b[38;5;124m\"\u001b[39m\n\u001b[1;32m--> 137\u001b[0m \u001b[38;5;28;01mreturn\u001b[39;00m \u001b[38;5;28mcls\u001b[39m\u001b[38;5;241m.\u001b[39mlist_transcripts(video_id, proxies, cookies)\u001b[38;5;241m.\u001b[39mfind_transcript(languages)\u001b[38;5;241m.\u001b[39mfetch(preserve_formatting\u001b[38;5;241m=\u001b[39mpreserve_formatting)\n",
      "File \u001b[1;32m~\\anaconda3\\Lib\\site-packages\\youtube_transcript_api\\_api.py:71\u001b[0m, in \u001b[0;36mYouTubeTranscriptApi.list_transcripts\u001b[1;34m(cls, video_id, proxies, cookies)\u001b[0m\n\u001b[0;32m     69\u001b[0m     http_client\u001b[38;5;241m.\u001b[39mcookies \u001b[38;5;241m=\u001b[39m \u001b[38;5;28mcls\u001b[39m\u001b[38;5;241m.\u001b[39m_load_cookies(cookies, video_id)\n\u001b[0;32m     70\u001b[0m http_client\u001b[38;5;241m.\u001b[39mproxies \u001b[38;5;241m=\u001b[39m proxies \u001b[38;5;28;01mif\u001b[39;00m proxies \u001b[38;5;28;01melse\u001b[39;00m {}\n\u001b[1;32m---> 71\u001b[0m \u001b[38;5;28;01mreturn\u001b[39;00m TranscriptListFetcher(http_client)\u001b[38;5;241m.\u001b[39mfetch(video_id)\n",
      "File \u001b[1;32m~\\anaconda3\\Lib\\site-packages\\youtube_transcript_api\\_transcripts.py:48\u001b[0m, in \u001b[0;36mTranscriptListFetcher.fetch\u001b[1;34m(self, video_id)\u001b[0m\n\u001b[0;32m     44\u001b[0m \u001b[38;5;28;01mdef\u001b[39;00m \u001b[38;5;21mfetch\u001b[39m(\u001b[38;5;28mself\u001b[39m, video_id):\n\u001b[0;32m     45\u001b[0m     \u001b[38;5;28;01mreturn\u001b[39;00m TranscriptList\u001b[38;5;241m.\u001b[39mbuild(\n\u001b[0;32m     46\u001b[0m         \u001b[38;5;28mself\u001b[39m\u001b[38;5;241m.\u001b[39m_http_client,\n\u001b[0;32m     47\u001b[0m         video_id,\n\u001b[1;32m---> 48\u001b[0m         \u001b[38;5;28mself\u001b[39m\u001b[38;5;241m.\u001b[39m_extract_captions_json(\u001b[38;5;28mself\u001b[39m\u001b[38;5;241m.\u001b[39m_fetch_video_html(video_id), video_id),\n\u001b[0;32m     49\u001b[0m     )\n",
      "File \u001b[1;32m~\\anaconda3\\Lib\\site-packages\\youtube_transcript_api\\_transcripts.py:62\u001b[0m, in \u001b[0;36mTranscriptListFetcher._extract_captions_json\u001b[1;34m(self, html, video_id)\u001b[0m\n\u001b[0;32m     59\u001b[0m     \u001b[38;5;28;01mif\u001b[39;00m \u001b[38;5;124m'\u001b[39m\u001b[38;5;124m\"\u001b[39m\u001b[38;5;124mplayabilityStatus\u001b[39m\u001b[38;5;124m\"\u001b[39m\u001b[38;5;124m:\u001b[39m\u001b[38;5;124m'\u001b[39m \u001b[38;5;129;01mnot\u001b[39;00m \u001b[38;5;129;01min\u001b[39;00m html:\n\u001b[0;32m     60\u001b[0m         \u001b[38;5;28;01mraise\u001b[39;00m VideoUnavailable(video_id)\n\u001b[1;32m---> 62\u001b[0m     \u001b[38;5;28;01mraise\u001b[39;00m TranscriptsDisabled(video_id)\n\u001b[0;32m     64\u001b[0m captions_json \u001b[38;5;241m=\u001b[39m json\u001b[38;5;241m.\u001b[39mloads(\n\u001b[0;32m     65\u001b[0m     splitted_html[\u001b[38;5;241m1\u001b[39m]\u001b[38;5;241m.\u001b[39msplit(\u001b[38;5;124m'\u001b[39m\u001b[38;5;124m,\u001b[39m\u001b[38;5;124m\"\u001b[39m\u001b[38;5;124mvideoDetails\u001b[39m\u001b[38;5;124m'\u001b[39m)[\u001b[38;5;241m0\u001b[39m]\u001b[38;5;241m.\u001b[39mreplace(\u001b[38;5;124m'\u001b[39m\u001b[38;5;130;01m\\n\u001b[39;00m\u001b[38;5;124m'\u001b[39m, \u001b[38;5;124m'\u001b[39m\u001b[38;5;124m'\u001b[39m)\n\u001b[0;32m     66\u001b[0m )\u001b[38;5;241m.\u001b[39mget(\u001b[38;5;124m'\u001b[39m\u001b[38;5;124mplayerCaptionsTracklistRenderer\u001b[39m\u001b[38;5;124m'\u001b[39m)\n\u001b[0;32m     67\u001b[0m \u001b[38;5;28;01mif\u001b[39;00m captions_json \u001b[38;5;129;01mis\u001b[39;00m \u001b[38;5;28;01mNone\u001b[39;00m:\n",
      "\u001b[1;31mTranscriptsDisabled\u001b[0m: \nCould not retrieve a transcript for the video https://www.youtube.com/watch?v=NLOp_6uPccQ! This is most likely caused by:\n\nSubtitles are disabled for this video\n\nIf you are sure that the described cause is not responsible for this error and that a transcript should be retrievable, please create an issue at https://github.com/jdepoix/youtube-transcript-api/issues. Please add which version of youtube_transcript_api you are using and provide the information needed to replicate the error. Also make sure that there are no open issues which already describe your problem!"
     ]
    }
   ],
   "source": [
    "# Example usage\n",
    "youtube_link = \"https://www.youtube.com/watch?v=NLOp_6uPccQ\"\n",
    "transcript_text = extract_transcript_details(youtube_link)\n",
    "if transcript_text:\n",
    "    print(\"YouTube Transcript:\")\n",
    "    print(transcript_text)\n",
    "else:\n",
    "    print(\"Failed to fetch the transcript.\")"
   ]
  },
  {
   "cell_type": "code",
   "execution_count": 2,
   "id": "f522d453-dee8-4c4b-82a9-3f618e24dd78",
   "metadata": {},
   "outputs": [],
   "source": [
    "import pandas as pd\n",
    "df1 = pd.read_csv('transcriptions 1 to 9018.csv')\n",
    "df2 = pd.read_csv('transcriptions 25750 to 131168.csv')\n",
    "\n"
   ]
  },
  {
   "cell_type": "code",
   "execution_count": 4,
   "id": "1cd32655-9476-43eb-828c-01d9e77aaa54",
   "metadata": {},
   "outputs": [
    {
     "name": "stdout",
     "output_type": "stream",
     "text": [
      "<class 'pandas.core.frame.DataFrame'>\n",
      "RangeIndex: 4162 entries, 0 to 4161\n",
      "Data columns (total 2 columns):\n",
      " #   Column         Non-Null Count  Dtype \n",
      "---  ------         --------------  ----- \n",
      " 0   id             4162 non-null   int64 \n",
      " 1   transcription  4150 non-null   object\n",
      "dtypes: int64(1), object(1)\n",
      "memory usage: 65.2+ KB\n"
     ]
    }
   ],
   "source": [
    "df1.info()"
   ]
  },
  {
   "cell_type": "code",
   "execution_count": 17,
   "id": "800a2981-fea2-469a-9a92-bb620c4a8794",
   "metadata": {},
   "outputs": [
    {
     "name": "stdout",
     "output_type": "stream",
     "text": [
      "<class 'pandas.core.frame.DataFrame'>\n",
      "RangeIndex: 2176 entries, 0 to 2175\n",
      "Data columns (total 2 columns):\n",
      " #   Column         Non-Null Count  Dtype \n",
      "---  ------         --------------  ----- \n",
      " 0   id             2176 non-null   int64 \n",
      " 1   transcription  2169 non-null   object\n",
      "dtypes: int64(1), object(1)\n",
      "memory usage: 34.1+ KB\n"
     ]
    }
   ],
   "source": [
    "df2.info()"
   ]
  },
  {
   "cell_type": "code",
   "execution_count": 22,
   "id": "3660e452-07d2-4f87-9293-b538699664f2",
   "metadata": {},
   "outputs": [
    {
     "data": {
      "text/html": [
       "<div>\n",
       "<style scoped>\n",
       "    .dataframe tbody tr th:only-of-type {\n",
       "        vertical-align: middle;\n",
       "    }\n",
       "\n",
       "    .dataframe tbody tr th {\n",
       "        vertical-align: top;\n",
       "    }\n",
       "\n",
       "    .dataframe thead th {\n",
       "        text-align: right;\n",
       "    }\n",
       "</style>\n",
       "<table border=\"1\" class=\"dataframe\">\n",
       "  <thead>\n",
       "    <tr style=\"text-align: right;\">\n",
       "      <th></th>\n",
       "      <th>movieId</th>\n",
       "      <th>transcription</th>\n",
       "    </tr>\n",
       "  </thead>\n",
       "  <tbody>\n",
       "    <tr>\n",
       "      <th>0</th>\n",
       "      <td>1</td>\n",
       "      <td>Sergeant? Yes, sir. Establish a recon post do...</td>\n",
       "    </tr>\n",
       "    <tr>\n",
       "      <th>1</th>\n",
       "      <td>2</td>\n",
       "      <td>I'm glad you decided to buy this place. I'm s...</td>\n",
       "    </tr>\n",
       "    <tr>\n",
       "      <th>2</th>\n",
       "      <td>3</td>\n",
       "      <td>Moron! Puts! Crankier. If my dog was as ugly ...</td>\n",
       "    </tr>\n",
       "    <tr>\n",
       "      <th>3</th>\n",
       "      <td>4</td>\n",
       "      <td>Savannah, Bernadine, Robin, Gloria. Four frie...</td>\n",
       "    </tr>\n",
       "    <tr>\n",
       "      <th>4</th>\n",
       "      <td>6</td>\n",
       "      <td>He's here. I can feel it. You search for the ...</td>\n",
       "    </tr>\n",
       "    <tr>\n",
       "      <th>...</th>\n",
       "      <td>...</td>\n",
       "      <td>...</td>\n",
       "    </tr>\n",
       "    <tr>\n",
       "      <th>6333</th>\n",
       "      <td>130682</td>\n",
       "      <td>There's no place I go. There's no place I go....</td>\n",
       "    </tr>\n",
       "    <tr>\n",
       "      <th>6334</th>\n",
       "      <td>130970</td>\n",
       "      <td>But this, if you isolate one of them, you sit...</td>\n",
       "    </tr>\n",
       "    <tr>\n",
       "      <th>6335</th>\n",
       "      <td>130980</td>\n",
       "      <td>The US military mobilized to conduct what in ...</td>\n",
       "    </tr>\n",
       "    <tr>\n",
       "      <th>6336</th>\n",
       "      <td>131013</td>\n",
       "      <td>This is Mr. King's car. Man owns the building...</td>\n",
       "    </tr>\n",
       "    <tr>\n",
       "      <th>6337</th>\n",
       "      <td>131168</td>\n",
       "      <td>Was das aufgess… Clem, opens up my JJ! Das wi...</td>\n",
       "    </tr>\n",
       "  </tbody>\n",
       "</table>\n",
       "<p>6338 rows × 2 columns</p>\n",
       "</div>"
      ],
      "text/plain": [
       "      movieId                                      transcription\n",
       "0           1   Sergeant? Yes, sir. Establish a recon post do...\n",
       "1           2   I'm glad you decided to buy this place. I'm s...\n",
       "2           3   Moron! Puts! Crankier. If my dog was as ugly ...\n",
       "3           4   Savannah, Bernadine, Robin, Gloria. Four frie...\n",
       "4           6   He's here. I can feel it. You search for the ...\n",
       "...       ...                                                ...\n",
       "6333   130682   There's no place I go. There's no place I go....\n",
       "6334   130970   But this, if you isolate one of them, you sit...\n",
       "6335   130980   The US military mobilized to conduct what in ...\n",
       "6336   131013   This is Mr. King's car. Man owns the building...\n",
       "6337   131168   Was das aufgess… Clem, opens up my JJ! Das wi...\n",
       "\n",
       "[6338 rows x 2 columns]"
      ]
     },
     "execution_count": 22,
     "metadata": {},
     "output_type": "execute_result"
    }
   ],
   "source": [
    "# Concatenate df1 and df2 vertically\n",
    "concatenated_df = pd.concat([df1, df2], ignore_index=True)\n",
    "\n",
    "# Sort the concatenated DataFrame by 'id' in ascending order\n",
    "concatenated_df = concatenated_df.sort_values('id')\n",
    "\n",
    "# Reset the index of the sorted DataFrame\n",
    "concatenated_df = concatenated_df.reset_index(drop=True)\n",
    "\n",
    "# Rename the 'id' column to 'movieId'\n",
    "concatenated_df = concatenated_df.rename(columns={'id': 'movieId'})\n",
    "\n",
    "concatenated_df"
   ]
  },
  {
   "cell_type": "code",
   "execution_count": 26,
   "id": "e182d38a-21ab-46a3-a63e-3503b8d4b45a",
   "metadata": {
    "tags": []
   },
   "outputs": [],
   "source": [
    "# Save the concatenated and sorted DataFrame to a CSV file\n",
    "concatenated_df.to_csv('whisper youtube trailer transcription.csv', index=False)"
   ]
  },
  {
   "cell_type": "code",
   "execution_count": null,
   "id": "7058b084-bff2-4bad-8572-44fb0d9bc5ee",
   "metadata": {},
   "outputs": [],
   "source": []
  }
 ],
 "metadata": {
  "kernelspec": {
   "display_name": "Python 3 (ipykernel)",
   "language": "python",
   "name": "python3"
  },
  "language_info": {
   "codemirror_mode": {
    "name": "ipython",
    "version": 3
   },
   "file_extension": ".py",
   "mimetype": "text/x-python",
   "name": "python",
   "nbconvert_exporter": "python",
   "pygments_lexer": "ipython3",
   "version": "3.11.5"
  }
 },
 "nbformat": 4,
 "nbformat_minor": 5
}
