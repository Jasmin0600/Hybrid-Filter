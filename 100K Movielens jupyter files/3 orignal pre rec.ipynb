{
 "cells": [
  {
   "cell_type": "code",
   "execution_count": 1,
   "id": "b9c0736a-4cf8-41c3-9a8c-e1f5aa7f2bb9",
   "metadata": {},
   "outputs": [],
   "source": [
    "import pandas as pd\n",
    "import numpy as np\n",
    "from sklearn.metrics.pairwise import cosine_similarity\n",
    "from sklearn.metrics import mean_squared_error\n",
    "from sklearn.model_selection import train_test_split\n",
    "from collections import Counter"
   ]
  },
  {
   "cell_type": "code",
   "execution_count": 2,
   "id": "ed87ef4b-7b4c-4687-8426-e75328fefe1f",
   "metadata": {},
   "outputs": [
    {
     "name": "stderr",
     "output_type": "stream",
     "text": [
      "/tmp/ipykernel_484389/3753107110.py:28: FutureWarning: DataFrame.applymap has been deprecated. Use DataFrame.map instead.\n",
      "  item_similarity_df_metadata_thresholded = item_similarity_df_metadata.applymap(lambda x: x if x > threshold else 0)\n"
     ]
    },
    {
     "name": "stdout",
     "output_type": "stream",
     "text": [
      "RMSE: 0.7297277248364683\n"
     ]
    },
    {
     "name": "stderr",
     "output_type": "stream",
     "text": [
      "/home/patel8m6/Desktop/python scripts/mldl/lib/python3.11/site-packages/sklearn/metrics/_regression.py:492: FutureWarning: 'squared' is deprecated in version 1.4 and will be removed in 1.6. To calculate the root mean squared error, use the function'root_mean_squared_error'.\n",
      "  warnings.warn(\n"
     ]
    }
   ],
   "source": [
    "ratings = pd.read_csv(r'ratings_small_filtered_2.csv', index_col=0)\n",
    "All_parts_objects = pd.read_csv(r'All_parts_objects.csv', index_col=2)\n",
    "columns_to_keep = [str(i) for i in range(80)]\n",
    "movies_features = All_parts_objects[columns_to_keep]\n",
    "movies_metadata = pd.read_csv(r'movies_metadata_BERT_on_normal_tags_and_whisper.csv')\n",
    "\n",
    "unique_movieids_ratings = ratings['movieId'].unique()\n",
    "unique_movieids_movies_metadata = movies_metadata['movieId'].unique()\n",
    "unique_movieids_movies_features = movies_features.index.unique()\n",
    "\n",
    "common_movieids = list(set(unique_movieids_movies_metadata) & set(unique_movieids_ratings) & set(unique_movieids_movies_features))\n",
    "\n",
    "ratings = ratings[ratings['movieId'].isin(common_movieids)]\n",
    "movies_metadata = movies_metadata[movies_metadata['movieId'].isin(common_movieids)]\n",
    "movies_features = movies_features.iloc[movies_features.index.isin(common_movieids)]\n",
    "\n",
    "# Method 1: Collaborative Filtering\n",
    "user_item_matrix = ratings.pivot(index='userId', columns='movieId', values='rating')\n",
    "item_user_matrix_filled = user_item_matrix.T.fillna(0.5)\n",
    "item_similarity_cf = cosine_similarity(item_user_matrix_filled)\n",
    "item_similarity_df_cf = pd.DataFrame(item_similarity_cf, index=user_item_matrix.columns, columns=user_item_matrix.columns)\n",
    "\n",
    "# Method 2: Metadata-based Similarity\n",
    "item_metadata_matrix_filled = movies_features.fillna(0)\n",
    "item_similarity_metadata = cosine_similarity(item_metadata_matrix_filled)\n",
    "item_similarity_df_metadata = pd.DataFrame(item_similarity_metadata, index=item_metadata_matrix_filled.index, columns=item_metadata_matrix_filled.index)\n",
    "threshold = 0.3\n",
    "item_similarity_df_metadata_thresholded = item_similarity_df_metadata.applymap(lambda x: x if x > threshold else 0)\n",
    "\n",
    "# Method 3: BERT-based Similarity\n",
    "def string_to_array(s):\n",
    "    s = s.strip('[]')\n",
    "    return np.array([float(x) for x in s.split()])\n",
    "\n",
    "movies_metadata['bert_embedding'] = movies_metadata['bert_embedding'].apply(string_to_array)\n",
    "movie_embeddings = np.stack(movies_metadata['bert_embedding'].values)\n",
    "cosine_sim_bert = cosine_similarity(movie_embeddings, movie_embeddings)\n",
    "item_similarity_df_bert = pd.DataFrame(cosine_sim_bert, index=movies_metadata['movieId'], columns=movies_metadata['movieId'])\n",
    "\n",
    "# Split the ratings data into training and testing sets\n",
    "train_ratings, test_ratings = train_test_split(ratings, test_size=0.2, random_state=42)\n",
    "\n",
    "# Function to get k-nearest neighbors\n",
    "def get_k_nearest_neighbors(item_similarity_df, movie_id, k=255):\n",
    "    if movie_id not in item_similarity_df.columns:\n",
    "        return pd.Index([])\n",
    "    sim_scores = item_similarity_df[movie_id]\n",
    "    nearest_neighbors = sim_scores.sort_values(ascending=False).index[:k]\n",
    "    return nearest_neighbors\n",
    "\n",
    "# Function to predict rating\n",
    "def predict_rating(user_item_matrix, item_similarity_df, user_id, movie_id, k=255):\n",
    "    nearest_neighbors = get_k_nearest_neighbors(item_similarity_df, movie_id, k)\n",
    "    if nearest_neighbors.empty:\n",
    "        return 0\n",
    "    neighbor_ratings = user_item_matrix.loc[user_id, nearest_neighbors]\n",
    "    if neighbor_ratings.isna().all():\n",
    "        return 0\n",
    "    return neighbor_ratings.mean()\n",
    "\n",
    "# Evaluate at K=255 for combined predictions\n",
    "K = 255\n",
    "\n",
    "\n",
    "y_true_all = []\n",
    "y_pred_all = []\n",
    "\n",
    "for index, row in test_ratings.iterrows():\n",
    "    user_id = row['userId']\n",
    "    movie_id = row['movieId']\n",
    "    y_true_all.append(row['rating'])\n",
    "    \n",
    "    # Predictions from the three methods\n",
    "    pred_cf = predict_rating(user_item_matrix, item_similarity_df_cf, user_id, movie_id, k=K)\n",
    "    pred_metadata = predict_rating(user_item_matrix, item_similarity_df_metadata_thresholded, user_id, movie_id, k=K)\n",
    "    pred_bert = predict_rating(user_item_matrix, item_similarity_df_bert, user_id, movie_id, k=K)\n",
    "    \n",
    "    # Combine predictions by averaging\n",
    "    combined_prediction = np.mean([pred_cf, pred_metadata, pred_bert])\n",
    "    y_pred_all.append(combined_prediction)\n",
    "\n",
    "# Convert to floats\n",
    "y_true_all = [float(val) for val in y_true_all]\n",
    "y_pred_all = [float(val) for val in y_pred_all]\n",
    "\n",
    "# Generate RMSE\n",
    "rmse = mean_squared_error(y_true_all, y_pred_all, squared=False)\n",
    "print(\"RMSE:\", rmse)\n",
    "\n",
    "\n"
   ]
  },
  {
   "cell_type": "code",
   "execution_count": 3,
   "id": "274759b0-7f66-44c4-af7a-846db2eaf196",
   "metadata": {},
   "outputs": [],
   "source": [
    "ratings['predicted_ratings'] = ratings.apply(lambda row: predict_rating(user_item_matrix, item_similarity_df_cf, row['userId'], row['movieId'], k=K), axis=1)"
   ]
  },
  {
   "cell_type": "code",
   "execution_count": 6,
   "id": "98c58c44-4f1b-41da-b847-3213e1d1ccf3",
   "metadata": {},
   "outputs": [
    {
     "name": "stdout",
     "output_type": "stream",
     "text": [
      "<class 'pandas.core.frame.DataFrame'>\n",
      "Index: 81337 entries, 0 to 81729\n",
      "Data columns (total 5 columns):\n",
      " #   Column             Non-Null Count  Dtype  \n",
      "---  ------             --------------  -----  \n",
      " 0   userId             81337 non-null  int64  \n",
      " 1   movieId            81337 non-null  int64  \n",
      " 2   rating             81337 non-null  float64\n",
      " 3   timestamp          81337 non-null  int64  \n",
      " 4   predicted_ratings  81337 non-null  float64\n",
      "dtypes: float64(2), int64(3)\n",
      "memory usage: 3.7 MB\n"
     ]
    }
   ],
   "source": [
    "ratings.info()"
   ]
  },
  {
   "cell_type": "code",
   "execution_count": 34,
   "id": "1e446442-0042-4a5a-932a-a9c01f3f9210",
   "metadata": {},
   "outputs": [
    {
     "name": "stdout",
     "output_type": "stream",
     "text": [
      "Average Precision@255: 0.8850\n",
      "Average Recall@255: 0.8019\n"
     ]
    }
   ],
   "source": [
    "from collections import defaultdict\n",
    "import pandas as pd\n",
    "import numpy as np\n",
    "\n",
    "def precision_recall_at_k(df, k=10, threshold=3.5):\n",
    "    \"\"\"Return precision and recall at k metrics for each user\"\"\"\n",
    "\n",
    "    # Group the dataframe by userId\n",
    "    user_groups = df.groupby('userId')\n",
    "\n",
    "    precisions = {}\n",
    "    recalls = {}\n",
    "\n",
    "    for uid, group in user_groups:\n",
    "        # Sort the group by predicted_ratings in descending order\n",
    "        sorted_group = group.sort_values('predicted_ratings', ascending=False)\n",
    "\n",
    "        # Number of relevant items\n",
    "        n_rel = sum(sorted_group['rating'] >= threshold)\n",
    "\n",
    "        # Number of recommended items in top k\n",
    "        n_rec_k = sum(sorted_group['predicted_ratings'].head(k) >= threshold)\n",
    "\n",
    "        # Number of relevant and recommended items in top k\n",
    "        n_rel_and_rec_k = sum((sorted_group['rating'].head(k) >= threshold) & \n",
    "                              (sorted_group['predicted_ratings'].head(k) >= threshold))\n",
    "\n",
    "        # Precision@K: Proportion of recommended items that are relevant\n",
    "        precisions[uid] = n_rel_and_rec_k / n_rec_k if n_rec_k != 0 else 0\n",
    "\n",
    "        # Recall@K: Proportion of relevant items that are recommended\n",
    "        recalls[uid] = n_rel_and_rec_k / n_rel if n_rel != 0 else 0\n",
    "\n",
    "    return precisions, recalls\n",
    "k=255\n",
    "# Assuming your dataframe is called 'ratings'\n",
    "precisions, recalls = precision_recall_at_k(ratings, k, threshold=3.5)\n",
    "\n",
    "# Calculate average precision and recall\n",
    "avg_precision = np.mean(list(precisions.values()))\n",
    "avg_recall = np.mean(list(recalls.values()))\n",
    "\n",
    "print(f\"Average Precision@{k}: {avg_precision:.4f}\")\n",
    "print(f\"Average Recall@{k}: {avg_recall:.4f}\")"
   ]
  },
  {
   "cell_type": "code",
   "execution_count": 29,
   "id": "15f26e3f-1090-4201-83a6-285948d025ca",
   "metadata": {},
   "outputs": [
    {
     "data": {
      "image/png": "[encoded data removed]",
      "text/plain": [
       "<Figure size 1200x600 with 1 Axes>"
      ]
     },
     "metadata": {},
     "output_type": "display_data"
    }
   ],
   "source": [
    "import pandas as pd\n",
    "import numpy as np\n",
    "import matplotlib.pyplot as plt\n",
    "from collections import defaultdict\n",
    "\n",
    "def precision_recall_at_k(df, k=10, threshold=3.5):\n",
    "    user_groups = df.groupby('userId')\n",
    "    precisions = {}\n",
    "    recalls = {}\n",
    "    for uid, group in user_groups:\n",
    "        sorted_group = group.sort_values('predicted_ratings', ascending=False)\n",
    "        n_rel = sum(sorted_group['rating'] >= threshold)\n",
    "        n_rec_k = sum(sorted_group['predicted_ratings'].head(k) >= threshold)\n",
    "        n_rel_and_rec_k = sum((sorted_group['rating'].head(k) >= threshold) & \n",
    "                              (sorted_group['predicted_ratings'].head(k) >= threshold))\n",
    "        precisions[uid] = n_rel_and_rec_k / n_rec_k if n_rec_k != 0 else 0\n",
    "        recalls[uid] = n_rel_and_rec_k / n_rel if n_rel != 0 else 0\n",
    "    return np.mean(list(precisions.values())), np.mean(list(recalls.values()))\n",
    "\n",
    "# Assuming your dataframe is called 'ratings'\n",
    "k_values = [1, 5, 10, 20, 50, 100, 200, 255]\n",
    "precisions = []\n",
    "recalls = []\n",
    "\n",
    "for k in k_values:\n",
    "    p, r = precision_recall_at_k(ratings, k=k, threshold=3.5)\n",
    "    precisions.append(p)\n",
    "    recalls.append(r)\n",
    "\n",
    "# Create the graph\n",
    "plt.figure(figsize=(12, 6))\n",
    "plt.plot(k_values, precisions, marker='o', label='Precision@K')\n",
    "plt.plot(k_values, recalls, marker='s', label='Recall@K')\n",
    "plt.xlabel('K')\n",
    "plt.ylabel('Score')\n",
    "plt.title('Precision@K and Recall@K')\n",
    "plt.legend()\n",
    "plt.grid(True)\n",
    "plt.xscale('log')  # Use log scale for x-axis to better show lower K values\n",
    "plt.xticks(k_values, k_values, rotation=45)  # Show all K values on x-axis\n",
    "plt.tight_layout()\n",
    "plt.show()"
   ]
  },
  {
   "cell_type": "code",
   "execution_count": null,
   "id": "ad27844e-7ce7-45af-abcd-cd48642b6b45",
   "metadata": {},
   "outputs": [],
   "source": []
  },
  {
   "cell_type": "code",
   "execution_count": null,
   "id": "dad7c145-7f96-474d-a055-7844a04ece46",
   "metadata": {},
   "outputs": [],
   "source": []
  }
 ],
 "metadata": {
  "kernelspec": {
   "display_name": "Python 3 (ipykernel)",
   "language": "python",
   "name": "python3"
  },
  "language_info": {
   "codemirror_mode": {
    "name": "ipython",
    "version": 3
   },
   "file_extension": ".py",
   "mimetype": "text/x-python",
   "name": "python",
   "nbconvert_exporter": "python",
   "pygments_lexer": "ipython3",
   "version": "3.11.2"
  }
 },
 "nbformat": 4,
 "nbformat_minor": 5
}
