{
 "cells": [
  {
   "cell_type": "code",
   "execution_count": 1,
   "id": "ed6aef3b-1c58-418b-92c7-bdef026d29a9",
   "metadata": {
    "tags": []
   },
   "outputs": [],
   "source": [
    "from sklearn.metrics import precision_score, recall_score\n",
    "from collections import Counter\n",
    "from sklearn.metrics import accuracy_score, f1_score, classification_report"
   ]
  },
  {
   "cell_type": "code",
   "execution_count": 2,
   "id": "0f52a762-c800-4a40-9cb7-caca39a7599a",
   "metadata": {
    "tags": []
   },
   "outputs": [],
   "source": [
    "import pickle\n",
    "\n",
    "# Load user_recommendations variable from file\n",
    "with open('user_recommendations_50neighbours.pkl', 'rb') as file:\n",
    "    user_recommendations = pickle.load(file)\n",
    "\n",
    "# Load test_user_movie_pairs variable from file\n",
    "with open('test_user_movie_pairs.pkl', 'rb') as file:\n",
    "    test_user_movie_pairs = pickle.load(file)\n"
   ]
  },
  {
   "cell_type": "code",
   "execution_count": 5,
   "id": "64eda884-c9c5-4f54-8c8c-89eee6e89547",
   "metadata": {
    "tags": []
   },
   "outputs": [
    {
     "name": "stdout",
     "output_type": "stream",
     "text": [
      "Recommendation system precision: 0.6588\n",
      "Recommendation system recall: 0.2355\n",
      "Recommendation system Accuracy: 0.5453\n",
      "Recommendation system F1: 0.3470\n",
      "Recommendation system classification_rep: \n",
      "               precision    recall  f1-score   support\n",
      "\n",
      "           0       0.52      0.87      0.65      9724\n",
      "           1       0.66      0.24      0.35     10240\n",
      "\n",
      "    accuracy                           0.55     19964\n",
      "   macro avg       0.59      0.55      0.50     19964\n",
      "weighted avg       0.59      0.55      0.50     19964\n",
      "\n"
     ]
    }
   ],
   "source": [
    "y_true = []\n",
    "y_pred = []\n",
    "for user_id, movie_id, rating in test_user_movie_pairs:\n",
    "    # print(user_id,movie_id)\n",
    "    if user_id not in user_recommendations:\n",
    "        continue\n",
    "\n",
    "    top_recommended_movies = user_recommendations[user_id]\n",
    "\n",
    "    # Use actual rating to determine relevance\n",
    "    y_true.append(1 if rating >= 4 else 0)\n",
    "    y_pred.append(1 if movie_id in top_recommended_movies else 0)\n",
    "\n",
    "# print(y_true)\n",
    "# print(y_pred)\n",
    "precision = precision_score(y_true, y_pred, zero_division=0)\n",
    "recall = recall_score(y_true, y_pred, zero_division=0)\n",
    "\n",
    "accuracy = accuracy_score(y_true, y_pred)\n",
    "f1 = f1_score(y_true, y_pred, zero_division=0)\n",
    "classification_rep = classification_report(y_true, y_pred, zero_division=0)\n",
    "\n",
    "print(f\"Recommendation system precision: {precision:.4f}\")\n",
    "print(f\"Recommendation system recall: {recall:.4f}\")\n",
    "print(f\"Recommendation system Accuracy: {accuracy:.4f}\")\n",
    "print(f\"Recommendation system F1: {f1:.4f}\")\n",
    "\n",
    "print(f\"Recommendation system classification_rep: \\n\", classification_rep)"
   ]
  },
  {
   "cell_type": "code",
   "execution_count": null,
   "id": "ea97111e-941f-41be-bc46-0856ba1a8336",
   "metadata": {},
   "outputs": [],
   "source": []
  }
 ],
 "metadata": {
  "kernelspec": {
   "display_name": "Python 3 (ipykernel)",
   "language": "python",
   "name": "python3"
  },
  "language_info": {
   "codemirror_mode": {
    "name": "ipython",
    "version": 3
   },
   "file_extension": ".py",
   "mimetype": "text/x-python",
   "name": "python",
   "nbconvert_exporter": "python",
   "pygments_lexer": "ipython3",
   "version": "3.11.5"
  }
 },
 "nbformat": 4,
 "nbformat_minor": 5
}
