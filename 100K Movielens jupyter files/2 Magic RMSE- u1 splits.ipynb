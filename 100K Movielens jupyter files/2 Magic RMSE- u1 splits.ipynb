{
 "cells": [
  {
   "cell_type": "code",
   "execution_count": 17,
   "id": "609e67c9-57b4-4afa-b943-78973cda6e8a",
   "metadata": {},
   "outputs": [
    {
     "name": "stderr",
     "output_type": "stream",
     "text": [
      "/tmp/ipykernel_4115510/384283459.py:45: FutureWarning: DataFrame.applymap has been deprecated. Use DataFrame.map instead.\n",
      "  item_similarity_df_metadata_thresholded = item_similarity_df_metadata.applymap(lambda x: x if x > threshold else 0)\n"
     ]
    },
    {
     "name": "stdout",
     "output_type": "stream",
     "text": [
      "RMSE: 1.20082760408979\n"
     ]
    },
    {
     "name": "stderr",
     "output_type": "stream",
     "text": [
      "/home/patel8m6/Desktop/python scripts/mldl/lib/python3.11/site-packages/sklearn/metrics/_regression.py:492: FutureWarning: 'squared' is deprecated in version 1.4 and will be removed in 1.6. To calculate the root mean squared error, use the function'root_mean_squared_error'.\n",
      "  warnings.warn(\n"
     ]
    }
   ],
   "source": [
    "import pandas as pd\n",
    "import numpy as np\n",
    "from sklearn.metrics.pairwise import cosine_similarity\n",
    "from sklearn.metrics import mean_squared_error\n",
    "\n",
    "# Load the new datasets\n",
    "df_ratings_train = pd.read_csv(\"u1.base\", sep='\\t', names=['userId', 'movieId', 'rating', 'timestamp'])\n",
    "df_ratings_test = pd.read_csv(\"u1.test\", sep='\\t', names=['userId', 'movieId', 'rating', 'timestamp'])\n",
    "\n",
    "All_parts_objects = pd.read_csv(r'All_parts_objects.csv', index_col=2)\n",
    "columns_to_keep = [str(i) for i in range(80)]\n",
    "movies_features = All_parts_objects[columns_to_keep]\n",
    "movies_metadata = pd.read_csv(r'movies_metadata_BERT_on_normal_tags_and_whisper.csv')\n",
    "\n",
    "# Merge unique movie IDs from both train and test sets\n",
    "unique_movieids_ratings_train = df_ratings_train['movieId'].unique()\n",
    "unique_movieids_ratings_test = df_ratings_test['movieId'].unique()\n",
    "unique_movieids_ratings = np.unique(np.concatenate((unique_movieids_ratings_train, unique_movieids_ratings_test)))\n",
    "\n",
    "unique_movieids_movies_metadata = movies_metadata['movieId'].unique()\n",
    "unique_movieids_movies_features = movies_features.index.unique()\n",
    "\n",
    "common_movieids = list(set(unique_movieids_movies_metadata) & set(unique_movieids_ratings) & set(unique_movieids_movies_features))\n",
    "\n",
    "# Filter dataframes based on common_movieids\n",
    "df_ratings_train = df_ratings_train[df_ratings_train['movieId'].isin(common_movieids)]\n",
    "df_ratings_test = df_ratings_test[df_ratings_test['movieId'].isin(common_movieids)]\n",
    "movies_metadata = movies_metadata[movies_metadata['movieId'].isin(common_movieids)]\n",
    "movies_features = movies_features.loc[movies_features.index.isin(common_movieids)]\n",
    "\n",
    "# Reindex user-item matrix to include all common movie IDs\n",
    "user_item_matrix = df_ratings_train.pivot(index='userId', columns='movieId', values='rating')\n",
    "user_item_matrix = user_item_matrix.reindex(columns=common_movieids)\n",
    "\n",
    "# Method 1: Collaborative Filtering\n",
    "item_user_matrix_filled = user_item_matrix.T.fillna(0.5)\n",
    "item_similarity_cf = cosine_similarity(item_user_matrix_filled)\n",
    "item_similarity_df_cf = pd.DataFrame(item_similarity_cf, index=common_movieids, columns=common_movieids)\n",
    "\n",
    "# Method 2: Metadata-based Similarity\n",
    "item_metadata_matrix_filled = movies_features.fillna(0)\n",
    "item_similarity_metadata = cosine_similarity(item_metadata_matrix_filled)\n",
    "item_similarity_df_metadata = pd.DataFrame(item_similarity_metadata, index=common_movieids, columns=common_movieids)\n",
    "threshold = 0.3\n",
    "item_similarity_df_metadata_thresholded = item_similarity_df_metadata.applymap(lambda x: x if x > threshold else 0)\n",
    "\n",
    "# Method 3: BERT-based Similarity\n",
    "def string_to_array(s):\n",
    "    s = s.strip('[]')\n",
    "    return np.array([float(x) for x in s.split()])\n",
    "\n",
    "movies_metadata['bert_embedding'] = movies_metadata['bert_embedding'].apply(string_to_array)\n",
    "movie_embeddings = np.stack(movies_metadata['bert_embedding'].values)\n",
    "cosine_sim_bert = cosine_similarity(movie_embeddings, movie_embeddings)\n",
    "item_similarity_df_bert = pd.DataFrame(cosine_sim_bert, index=common_movieids, columns=common_movieids)\n",
    "\n",
    "# Function to get k-nearest neighbors\n",
    "def get_k_nearest_neighbors(item_similarity_df, movie_id, k=255):\n",
    "    if movie_id not in item_similarity_df.columns:\n",
    "        return pd.Index([])\n",
    "    sim_scores = item_similarity_df[movie_id]\n",
    "    nearest_neighbors = sim_scores.sort_values(ascending=False).index[:k]\n",
    "    return nearest_neighbors\n",
    "\n",
    "# Function to predict rating\n",
    "def predict_rating(user_item_matrix, item_similarity_df, user_id, movie_id, k=255):\n",
    "    nearest_neighbors = get_k_nearest_neighbors(item_similarity_df, movie_id, k)\n",
    "    if nearest_neighbors.empty:\n",
    "        return 0\n",
    "    neighbor_ratings = user_item_matrix.loc[user_id, nearest_neighbors]\n",
    "    if neighbor_ratings.isna().all():\n",
    "        return 0\n",
    "    return neighbor_ratings.mean()\n",
    "\n",
    "# Evaluate at K=255 for combined predictions\n",
    "K = 255\n",
    "y_true_all = []\n",
    "y_pred_all = []\n",
    "\n",
    "for index, row in df_ratings_test.iterrows():\n",
    "    user_id = row['userId']\n",
    "    movie_id = row['movieId']\n",
    "    y_true_all.append(row['rating'])\n",
    "    \n",
    "    # Predictions from the three methods\n",
    "    pred_cf = predict_rating(user_item_matrix, item_similarity_df_cf, user_id, movie_id, k=K)\n",
    "    pred_metadata = predict_rating(user_item_matrix, item_similarity_df_metadata_thresholded, user_id, movie_id, k=K)\n",
    "    pred_bert = predict_rating(user_item_matrix, item_similarity_df_bert, user_id, movie_id, k=K)\n",
    "    \n",
    "    # Combine predictions by averaging\n",
    "    combined_prediction = np.mean([pred_cf, pred_metadata, pred_bert])\n",
    "    y_pred_all.append(combined_prediction)\n",
    "\n",
    "# Convert to floats\n",
    "y_true_all = [float(val) for val in y_true_all]\n",
    "y_pred_all = [float(val) for val in y_pred_all]\n",
    "\n",
    "# Generate RMSE\n",
    "rmse = mean_squared_error(y_true_all, y_pred_all, squared=False)\n",
    "print(\"RMSE:\", rmse)\n"
   ]
  }
 ],
 "metadata": {
  "kernelspec": {
   "display_name": "Python 3 (ipykernel)",
   "language": "python",
   "name": "python3"
  },
  "language_info": {
   "codemirror_mode": {
    "name": "ipython",
    "version": 3
   },
   "file_extension": ".py",
   "mimetype": "text/x-python",
   "name": "python",
   "nbconvert_exporter": "python",
   "pygments_lexer": "ipython3",
   "version": "3.11.2"
  }
 },
 "nbformat": 4,
 "nbformat_minor": 5
}
