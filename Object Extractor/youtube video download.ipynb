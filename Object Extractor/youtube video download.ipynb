{
 "cells": [
  {
   "cell_type": "code",
   "execution_count": 8,
   "id": "4a508f22",
   "metadata": {
    "tags": []
   },
   "outputs": [
    {
     "name": "stdin",
     "output_type": "stream",
     "text": [
      "Enter YouTube video ID:  v-PjgYDrg70\n"
     ]
    },
    {
     "name": "stdout",
     "output_type": "stream",
     "text": [
      "Downloading: Toy Story (1995) Trailer #1 | Movieclips Classic Trailers...\n",
      "Download complete!\n"
     ]
    }
   ],
   "source": [
    "from pytube import YouTube\n",
    "\n",
    "def download_youtube_video(video_id, output_path='./yt trailers'):\n",
    "    try:\n",
    "        video_url = f\"https://www.youtube.com/watch?v={video_id}\"\n",
    "        yt = YouTube(video_url)\n",
    "        video = yt.streams.get_highest_resolution()\n",
    "        \n",
    "        print(f\"Downloading: {yt.title}...\")\n",
    "        video.download(output_path)\n",
    "        print(\"Download complete!\")\n",
    "    except Exception as e:\n",
    "        print(f\"Error: {str(e)}\")\n",
    "\n",
    "if __name__ == \"__main__\":\n",
    "    video_id = input(\"Enter YouTube video ID: \")\n",
    "    download_youtube_video(video_id)\n"
   ]
  },
  {
   "cell_type": "code",
   "execution_count": null,
   "id": "8d5c15ed-3cc4-4829-93fc-f648dd601508",
   "metadata": {
    "tags": []
   },
   "outputs": [],
   "source": []
  },
  {
   "cell_type": "code",
   "execution_count": 14,
   "id": "f21e368b-5790-4adf-b86d-d74ff1b4e694",
   "metadata": {
    "tags": []
   },
   "outputs": [
    {
     "data": {
      "text/plain": [
       "[<Stream: itag=\"18\" mime_type=\"video/mp4\" res=\"360p\" fps=\"24fps\" vcodec=\"avc1.42001E\" acodec=\"mp4a.40.2\" progressive=\"True\" type=\"video\">, <Stream: itag=\"22\" mime_type=\"video/mp4\" res=\"720p\" fps=\"24fps\" vcodec=\"avc1.64001F\" acodec=\"mp4a.40.2\" progressive=\"True\" type=\"video\">, <Stream: itag=\"137\" mime_type=\"video/mp4\" res=\"1080p\" fps=\"24fps\" vcodec=\"avc1.640028\" progressive=\"False\" type=\"video\">, <Stream: itag=\"248\" mime_type=\"video/webm\" res=\"1080p\" fps=\"24fps\" vcodec=\"vp9\" progressive=\"False\" type=\"video\">, <Stream: itag=\"136\" mime_type=\"video/mp4\" res=\"720p\" fps=\"24fps\" vcodec=\"avc1.4d401f\" progressive=\"False\" type=\"video\">, <Stream: itag=\"247\" mime_type=\"video/webm\" res=\"720p\" fps=\"24fps\" vcodec=\"vp9\" progressive=\"False\" type=\"video\">, <Stream: itag=\"135\" mime_type=\"video/mp4\" res=\"480p\" fps=\"24fps\" vcodec=\"avc1.4d401e\" progressive=\"False\" type=\"video\">, <Stream: itag=\"244\" mime_type=\"video/webm\" res=\"480p\" fps=\"24fps\" vcodec=\"vp9\" progressive=\"False\" type=\"video\">, <Stream: itag=\"134\" mime_type=\"video/mp4\" res=\"360p\" fps=\"24fps\" vcodec=\"avc1.4d4015\" progressive=\"False\" type=\"video\">, <Stream: itag=\"243\" mime_type=\"video/webm\" res=\"360p\" fps=\"24fps\" vcodec=\"vp9\" progressive=\"False\" type=\"video\">, <Stream: itag=\"133\" mime_type=\"video/mp4\" res=\"240p\" fps=\"24fps\" vcodec=\"avc1.4d400d\" progressive=\"False\" type=\"video\">, <Stream: itag=\"242\" mime_type=\"video/webm\" res=\"240p\" fps=\"24fps\" vcodec=\"vp9\" progressive=\"False\" type=\"video\">, <Stream: itag=\"160\" mime_type=\"video/mp4\" res=\"144p\" fps=\"24fps\" vcodec=\"avc1.4d400b\" progressive=\"False\" type=\"video\">, <Stream: itag=\"278\" mime_type=\"video/webm\" res=\"144p\" fps=\"24fps\" vcodec=\"vp9\" progressive=\"False\" type=\"video\">, <Stream: itag=\"139\" mime_type=\"audio/mp4\" abr=\"48kbps\" acodec=\"mp4a.40.5\" progressive=\"False\" type=\"audio\">, <Stream: itag=\"140\" mime_type=\"audio/mp4\" abr=\"128kbps\" acodec=\"mp4a.40.2\" progressive=\"False\" type=\"audio\">, <Stream: itag=\"249\" mime_type=\"audio/webm\" abr=\"50kbps\" acodec=\"opus\" progressive=\"False\" type=\"audio\">, <Stream: itag=\"250\" mime_type=\"audio/webm\" abr=\"70kbps\" acodec=\"opus\" progressive=\"False\" type=\"audio\">, <Stream: itag=\"251\" mime_type=\"audio/webm\" abr=\"160kbps\" acodec=\"opus\" progressive=\"False\" type=\"audio\">]"
      ]
     },
     "execution_count": 14,
     "metadata": {},
     "output_type": "execute_result"
    }
   ],
   "source": [
    "\n",
    "yt.streams"
   ]
  },
  {
   "cell_type": "code",
   "execution_count": 16,
   "id": "058f6c2a-24e8-4bdd-a3f3-5d7ab44cb365",
   "metadata": {
    "tags": []
   },
   "outputs": [
    {
     "name": "stdin",
     "output_type": "stream",
     "text": [
      "Enter YouTube video ID:  zildFIFKjlc\n"
     ]
    },
    {
     "name": "stdout",
     "output_type": "stream",
     "text": [
      "Downloading best available video for: Phoenix Official US Release Trailer (2015) - Nina Hoss, Ronald Zehrfeld German Drama HD, resolution: 1080p\n",
      "Download complete!\n"
     ]
    }
   ],
   "source": [
    "from pytube import YouTube\n",
    "\n",
    "def download_youtube_video(video_id, output_path='./yt trailers'):\n",
    "    try:\n",
    "        video_url = f\"https://www.youtube.com/watch?v={video_id}\"\n",
    "        yt = YouTube(video_url)\n",
    "        \n",
    "        # Get the best adaptive video stream (video only, no audio)\n",
    "        video_stream = yt.streams.filter(adaptive=True, file_extension='mp4').order_by('resolution').desc().first()\n",
    "        \n",
    "        if not video_stream:\n",
    "            print(\"No adaptive video stream available.\")\n",
    "            return\n",
    "\n",
    "        print(f\"Downloading best available video for: {yt.title}, resolution: {video_stream.resolution}\")\n",
    "        video_stream.download(output_path)\n",
    "        print(\"Download complete!\")\n",
    "    except Exception as e:\n",
    "        print(f\"Error: {str(e)}\")\n",
    "\n",
    "if __name__ == \"__main__\":\n",
    "    video_id = input(\"Enter YouTube video ID: \")\n",
    "    download_youtube_video(video_id)\n"
   ]
  },
  {
   "cell_type": "code",
   "execution_count": null,
   "id": "f3c5f0f2-cce6-418e-99f2-be5179f0daa2",
   "metadata": {},
   "outputs": [],
   "source": []
  },
  {
   "cell_type": "code",
   "execution_count": null,
   "id": "d42a46f6-cf47-4b26-880d-77612c505183",
   "metadata": {},
   "outputs": [],
   "source": []
  },
  {
   "cell_type": "code",
   "execution_count": null,
   "id": "cd752669-53e3-4d7d-b9ff-3ab9fad32a1c",
   "metadata": {},
   "outputs": [],
   "source": []
  },
  {
   "cell_type": "code",
   "execution_count": 13,
   "id": "3f0d785a",
   "metadata": {
    "tags": []
   },
   "outputs": [
    {
     "name": "stdin",
     "output_type": "stream",
     "text": [
      "Enter YouTube video ID:  K26_sDKnvMU\n"
     ]
    },
    {
     "name": "stdout",
     "output_type": "stream",
     "text": [
      "No suitable streams found for download in preferred formats.\n"
     ]
    }
   ],
   "source": [
    "from pytube import YouTube\n",
    "\n",
    "def download_youtube_video(video_id, output_path='./yt trailers'):\n",
    "    try:\n",
    "        video_url = f\"https://www.youtube.com/watch?v={video_id}\"\n",
    "        yt = YouTube(video_url)\n",
    "\n",
    "        # Define the itags for 1080p and 4K resolutions\n",
    "        preferred_formats = [\"137\", \"313\"]\n",
    "\n",
    "        # Select the stream with the preferred formats\n",
    "        stream = None\n",
    "        for itag in preferred_formats:\n",
    "            stream = yt.streams.get_by_itag(itag)\n",
    "            if stream:\n",
    "                break\n",
    "\n",
    "        if stream:\n",
    "            print(f\"Downloading: {yt.title} in {stream.resolution}...\")\n",
    "            stream.download(output_path)\n",
    "            print(\"Download complete!\")\n",
    "        else:\n",
    "            print(\"No suitable streams found for download in preferred formats.\")\n",
    "    except Exception as e:\n",
    "        print(f\"Error: {str(e)}\")\n",
    "\n",
    "if __name__ == \"__main__\":\n",
    "    video_id = input(\"Enter YouTube video ID: \")\n",
    "    download_youtube_video(video_id)\n"
   ]
  },
  {
   "cell_type": "code",
   "execution_count": 2,
   "id": "8b067d75",
   "metadata": {},
   "outputs": [],
   "source": []
  },
  {
   "cell_type": "code",
   "execution_count": 14,
   "id": "db53556f",
   "metadata": {
    "tags": []
   },
   "outputs": [
    {
     "name": "stdin",
     "output_type": "stream",
     "text": [
      "Enter YouTube video ID:  K26_sDKnvMU\n"
     ]
    },
    {
     "ename": "AttributeError",
     "evalue": "'NoneType' object has no attribute 'download'",
     "output_type": "error",
     "traceback": [
      "\u001b[1;31m---------------------------------------------------------------------------\u001b[0m",
      "\u001b[1;31mAttributeError\u001b[0m                            Traceback (most recent call last)",
      "Cell \u001b[1;32mIn[14], line 17\u001b[0m\n\u001b[0;32m     14\u001b[0m audio_stream \u001b[38;5;241m=\u001b[39m yt\u001b[38;5;241m.\u001b[39mstreams\u001b[38;5;241m.\u001b[39mfilter(only_audio\u001b[38;5;241m=\u001b[39m\u001b[38;5;28;01mTrue\u001b[39;00m, file_extension\u001b[38;5;241m=\u001b[39m\u001b[38;5;124m'\u001b[39m\u001b[38;5;124mmp4\u001b[39m\u001b[38;5;124m'\u001b[39m)\u001b[38;5;241m.\u001b[39mfirst()\n\u001b[0;32m     16\u001b[0m \u001b[38;5;66;03m# Download video and audio streams\u001b[39;00m\n\u001b[1;32m---> 17\u001b[0m video_file \u001b[38;5;241m=\u001b[39m video_stream\u001b[38;5;241m.\u001b[39mdownload(filename\u001b[38;5;241m=\u001b[39m\u001b[38;5;124m'\u001b[39m\u001b[38;5;124mvideo\u001b[39m\u001b[38;5;124m'\u001b[39m)\n\u001b[0;32m     18\u001b[0m audio_file \u001b[38;5;241m=\u001b[39m audio_stream\u001b[38;5;241m.\u001b[39mdownload(filename\u001b[38;5;241m=\u001b[39m\u001b[38;5;124m'\u001b[39m\u001b[38;5;124maudio\u001b[39m\u001b[38;5;124m'\u001b[39m)\n\u001b[0;32m     20\u001b[0m \u001b[38;5;66;03m# Define output file path\u001b[39;00m\n",
      "\u001b[1;31mAttributeError\u001b[0m: 'NoneType' object has no attribute 'download'"
     ]
    }
   ],
   "source": [
    "from pytube import YouTube\n",
    "from moviepy.editor import VideoFileClip, AudioFileClip\n",
    "import os\n",
    "\n",
    "# YouTube video URL\n",
    "video_id = input(\"Enter YouTube video ID: \")\n",
    "video_url = f\"https://www.youtube.com/watch?v={video_id}\"\n",
    "\n",
    "# Create a YouTube object\n",
    "yt = YouTube(video_url)\n",
    "\n",
    "# Get the highest resolution video and audio streams\n",
    "video_stream = yt.streams.filter(file_extension='mp4', res='1080p').first()\n",
    "audio_stream = yt.streams.filter(only_audio=True, file_extension='mp4').first()\n",
    "\n",
    "# Download video and audio streams\n",
    "video_file = video_stream.download(filename='video')\n",
    "audio_file = audio_stream.download(filename='audio')\n",
    "\n",
    "# Define output file path\n",
    "output_file = f'output.mp4'\n",
    "output_path = os.path.join(os.getcwd(), output_file)\n",
    "\n",
    "# Load video and audio clips using moviepy\n",
    "video_clip = VideoFileClip(video_file)\n",
    "audio_clip = AudioFileClip(audio_file)\n",
    "\n",
    "# Set audio for the video clip\n",
    "video_clip = video_clip.set_audio(audio_clip)\n",
    "\n",
    "# Write the final merged video to file\n",
    "video_clip.write_videofile(output_path, codec=\"libx264\", audio_codec=\"aac\")\n",
    "\n",
    "# Close the clips\n",
    "video_clip.close()\n",
    "audio_clip.close()\n",
    "\n",
    "# Remove downloaded separate video and audio files\n",
    "if os.path.exists(video_file):\n",
    "    os.remove(video_file)\n",
    "if os.path.exists(audio_file):\n",
    "    os.remove(audio_file)\n",
    "\n",
    "print(\"Video downloaded and merged successfully.\")\n"
   ]
  },
  {
   "cell_type": "code",
   "execution_count": 2,
   "id": "7597eeda-b7fc-4598-8aa6-2f20398b8606",
   "metadata": {
    "tags": []
   },
   "outputs": [
    {
     "name": "stdout",
     "output_type": "stream",
     "text": [
      "No captions found for this video.\n"
     ]
    }
   ],
   "source": [
    "from pytube import YouTube\n",
    "\n",
    "# Replace 'YOUR_VIDEO_URL' with your YouTube video's URL\n",
    "video_url = 'https://www.youtube.com/watch?v=K26_sDKnvMU' \n",
    "\n",
    "# Create a YouTube object with the URL\n",
    "yt = YouTube(video_url)\n",
    "\n",
    "# Check if the video has any caption tracks\n",
    "if yt.captions:\n",
    "    # Select the autogenerated captions in English\n",
    "    caption = yt.captions.get_by_language_code('a.en')\n",
    "    if caption:\n",
    "        # Generate the SRT (SubRip Subtitle) file content\n",
    "        srt_captions = caption.generate_srt_captions()\n",
    "        \n",
    "        # Save the SRT file\n",
    "        with open('captions.srt', 'w') as f:\n",
    "            f.write(srt_captions)\n",
    "        print('Subtitles downloaded successfully.')\n",
    "    else:\n",
    "        print('Auto-generated captions are not available.')\n",
    "else:\n",
    "    print('No captions found for this video.')\n"
   ]
  },
  {
   "cell_type": "code",
   "execution_count": null,
   "id": "8e0429f1-c64f-42ed-ba3a-6b4abfd4332f",
   "metadata": {},
   "outputs": [],
   "source": []
  }
 ],
 "metadata": {
  "kernelspec": {
   "display_name": "Python 3 (ipykernel)",
   "language": "python",
   "name": "python3"
  },
  "language_info": {
   "codemirror_mode": {
    "name": "ipython",
    "version": 3
   },
   "file_extension": ".py",
   "mimetype": "text/x-python",
   "name": "python",
   "nbconvert_exporter": "python",
   "pygments_lexer": "ipython3",
   "version": "3.11.5"
  }
 },
 "nbformat": 4,
 "nbformat_minor": 5
}
