{
 "cells": [
  {
   "cell_type": "code",
   "execution_count": 1,
   "id": "8588752d-b79d-4179-9e95-610c2e120838",
   "metadata": {
    "tags": []
   },
   "outputs": [],
   "source": [
    "import pandas as pd"
   ]
  },
  {
   "cell_type": "code",
   "execution_count": 27,
   "id": "ce524d5d-8d36-49c0-9b55-70904bc78457",
   "metadata": {
    "tags": []
   },
   "outputs": [],
   "source": [
    "links_small = pd.read_csv(fr'C:\\Users\\jasmi\\Desktop\\Research\\Projects\\The movies dataset\\links_small.csv')\n",
    "youtube = pd.read_csv(fr'C:\\Users\\jasmi\\Desktop\\Research\\Projects\\The movies dataset\\ml-youtube.csv')\n",
    "ratings_small = pd.read_csv(fr'C:\\Users\\jasmi\\Desktop\\Research\\Projects\\The movies dataset\\ratings_small.csv')\n"
   ]
  },
  {
   "cell_type": "code",
   "execution_count": 28,
   "id": "b32dad1f-4dd6-4ac0-bc74-9f230971f77c",
   "metadata": {
    "tags": []
   },
   "outputs": [
    {
     "data": {
      "text/html": [
       "<div>\n",
       "<style scoped>\n",
       "    .dataframe tbody tr th:only-of-type {\n",
       "        vertical-align: middle;\n",
       "    }\n",
       "\n",
       "    .dataframe tbody tr th {\n",
       "        vertical-align: top;\n",
       "    }\n",
       "\n",
       "    .dataframe thead th {\n",
       "        text-align: right;\n",
       "    }\n",
       "</style>\n",
       "<table border=\"1\" class=\"dataframe\">\n",
       "  <thead>\n",
       "    <tr style=\"text-align: right;\">\n",
       "      <th></th>\n",
       "      <th>movieId</th>\n",
       "      <th>imdbId</th>\n",
       "      <th>tmdbId</th>\n",
       "    </tr>\n",
       "  </thead>\n",
       "  <tbody>\n",
       "    <tr>\n",
       "      <th>0</th>\n",
       "      <td>1</td>\n",
       "      <td>114709</td>\n",
       "      <td>862.0</td>\n",
       "    </tr>\n",
       "    <tr>\n",
       "      <th>1</th>\n",
       "      <td>2</td>\n",
       "      <td>113497</td>\n",
       "      <td>8844.0</td>\n",
       "    </tr>\n",
       "    <tr>\n",
       "      <th>2</th>\n",
       "      <td>3</td>\n",
       "      <td>113228</td>\n",
       "      <td>15602.0</td>\n",
       "    </tr>\n",
       "    <tr>\n",
       "      <th>3</th>\n",
       "      <td>4</td>\n",
       "      <td>114885</td>\n",
       "      <td>31357.0</td>\n",
       "    </tr>\n",
       "    <tr>\n",
       "      <th>4</th>\n",
       "      <td>5</td>\n",
       "      <td>113041</td>\n",
       "      <td>11862.0</td>\n",
       "    </tr>\n",
       "    <tr>\n",
       "      <th>...</th>\n",
       "      <td>...</td>\n",
       "      <td>...</td>\n",
       "      <td>...</td>\n",
       "    </tr>\n",
       "    <tr>\n",
       "      <th>9120</th>\n",
       "      <td>162672</td>\n",
       "      <td>3859980</td>\n",
       "      <td>402672.0</td>\n",
       "    </tr>\n",
       "    <tr>\n",
       "      <th>9121</th>\n",
       "      <td>163056</td>\n",
       "      <td>4262980</td>\n",
       "      <td>315011.0</td>\n",
       "    </tr>\n",
       "    <tr>\n",
       "      <th>9122</th>\n",
       "      <td>163949</td>\n",
       "      <td>2531318</td>\n",
       "      <td>391698.0</td>\n",
       "    </tr>\n",
       "    <tr>\n",
       "      <th>9123</th>\n",
       "      <td>164977</td>\n",
       "      <td>27660</td>\n",
       "      <td>137608.0</td>\n",
       "    </tr>\n",
       "    <tr>\n",
       "      <th>9124</th>\n",
       "      <td>164979</td>\n",
       "      <td>3447228</td>\n",
       "      <td>410803.0</td>\n",
       "    </tr>\n",
       "  </tbody>\n",
       "</table>\n",
       "<p>9125 rows × 3 columns</p>\n",
       "</div>"
      ],
      "text/plain": [
       "      movieId   imdbId    tmdbId\n",
       "0           1   114709     862.0\n",
       "1           2   113497    8844.0\n",
       "2           3   113228   15602.0\n",
       "3           4   114885   31357.0\n",
       "4           5   113041   11862.0\n",
       "...       ...      ...       ...\n",
       "9120   162672  3859980  402672.0\n",
       "9121   163056  4262980  315011.0\n",
       "9122   163949  2531318  391698.0\n",
       "9123   164977    27660  137608.0\n",
       "9124   164979  3447228  410803.0\n",
       "\n",
       "[9125 rows x 3 columns]"
      ]
     },
     "execution_count": 28,
     "metadata": {},
     "output_type": "execute_result"
    }
   ],
   "source": [
    "links_small"
   ]
  },
  {
   "cell_type": "code",
   "execution_count": 29,
   "id": "ca5d84f3-02df-4b41-8839-afcf34c436bf",
   "metadata": {
    "tags": []
   },
   "outputs": [
    {
     "data": {
      "text/html": [
       "<div>\n",
       "<style scoped>\n",
       "    .dataframe tbody tr th:only-of-type {\n",
       "        vertical-align: middle;\n",
       "    }\n",
       "\n",
       "    .dataframe tbody tr th {\n",
       "        vertical-align: top;\n",
       "    }\n",
       "\n",
       "    .dataframe thead th {\n",
       "        text-align: right;\n",
       "    }\n",
       "</style>\n",
       "<table border=\"1\" class=\"dataframe\">\n",
       "  <thead>\n",
       "    <tr style=\"text-align: right;\">\n",
       "      <th></th>\n",
       "      <th>youtubeId</th>\n",
       "      <th>movieId</th>\n",
       "      <th>title</th>\n",
       "    </tr>\n",
       "  </thead>\n",
       "  <tbody>\n",
       "    <tr>\n",
       "      <th>0</th>\n",
       "      <td>K26_sDKnvMU</td>\n",
       "      <td>1</td>\n",
       "      <td>Toy Story (1995)</td>\n",
       "    </tr>\n",
       "    <tr>\n",
       "      <th>1</th>\n",
       "      <td>3LPANjHlPxo</td>\n",
       "      <td>2</td>\n",
       "      <td>Jumanji (1995)</td>\n",
       "    </tr>\n",
       "    <tr>\n",
       "      <th>2</th>\n",
       "      <td>rEnOoWs3FuA</td>\n",
       "      <td>3</td>\n",
       "      <td>Grumpier Old Men (1995)</td>\n",
       "    </tr>\n",
       "    <tr>\n",
       "      <th>3</th>\n",
       "      <td>j9xml1CxgXI</td>\n",
       "      <td>4</td>\n",
       "      <td>Waiting to Exhale (1995)</td>\n",
       "    </tr>\n",
       "    <tr>\n",
       "      <th>4</th>\n",
       "      <td>ltwvKLnj1B4</td>\n",
       "      <td>5</td>\n",
       "      <td>Father of the Bride Part II (1995)</td>\n",
       "    </tr>\n",
       "    <tr>\n",
       "      <th>...</th>\n",
       "      <td>...</td>\n",
       "      <td>...</td>\n",
       "      <td>...</td>\n",
       "    </tr>\n",
       "    <tr>\n",
       "      <th>25618</th>\n",
       "      <td>-oB6DN5dYWo</td>\n",
       "      <td>131252</td>\n",
       "      <td>Forklift Driver Klaus: The First Day on the Jo...</td>\n",
       "    </tr>\n",
       "    <tr>\n",
       "      <th>25619</th>\n",
       "      <td>DK7KQ-gEdl4</td>\n",
       "      <td>131256</td>\n",
       "      <td>Feuer, Eis &amp; Dosenbier (2002)</td>\n",
       "    </tr>\n",
       "    <tr>\n",
       "      <th>25620</th>\n",
       "      <td>v29P-wchMZQ</td>\n",
       "      <td>131258</td>\n",
       "      <td>The Pirates (2014)</td>\n",
       "    </tr>\n",
       "    <tr>\n",
       "      <th>25621</th>\n",
       "      <td>dAz-nZ65jYU</td>\n",
       "      <td>131260</td>\n",
       "      <td>Rentun Ruusu (2001)</td>\n",
       "    </tr>\n",
       "    <tr>\n",
       "      <th>25622</th>\n",
       "      <td>YWmbl_7VVYk</td>\n",
       "      <td>131262</td>\n",
       "      <td>Innocence (2014)</td>\n",
       "    </tr>\n",
       "  </tbody>\n",
       "</table>\n",
       "<p>25623 rows × 3 columns</p>\n",
       "</div>"
      ],
      "text/plain": [
       "         youtubeId  movieId                                              title\n",
       "0      K26_sDKnvMU        1                                   Toy Story (1995)\n",
       "1      3LPANjHlPxo        2                                     Jumanji (1995)\n",
       "2      rEnOoWs3FuA        3                            Grumpier Old Men (1995)\n",
       "3      j9xml1CxgXI        4                           Waiting to Exhale (1995)\n",
       "4      ltwvKLnj1B4        5                 Father of the Bride Part II (1995)\n",
       "...            ...      ...                                                ...\n",
       "25618  -oB6DN5dYWo   131252  Forklift Driver Klaus: The First Day on the Jo...\n",
       "25619  DK7KQ-gEdl4   131256                      Feuer, Eis & Dosenbier (2002)\n",
       "25620  v29P-wchMZQ   131258                                 The Pirates (2014)\n",
       "25621  dAz-nZ65jYU   131260                                Rentun Ruusu (2001)\n",
       "25622  YWmbl_7VVYk   131262                                   Innocence (2014)\n",
       "\n",
       "[25623 rows x 3 columns]"
      ]
     },
     "execution_count": 29,
     "metadata": {},
     "output_type": "execute_result"
    }
   ],
   "source": [
    "youtube"
   ]
  },
  {
   "cell_type": "code",
   "execution_count": 30,
   "id": "1fcc9937-f62d-4fca-9167-5a2c14e65bf4",
   "metadata": {
    "tags": []
   },
   "outputs": [
    {
     "data": {
      "text/html": [
       "<div>\n",
       "<style scoped>\n",
       "    .dataframe tbody tr th:only-of-type {\n",
       "        vertical-align: middle;\n",
       "    }\n",
       "\n",
       "    .dataframe tbody tr th {\n",
       "        vertical-align: top;\n",
       "    }\n",
       "\n",
       "    .dataframe thead th {\n",
       "        text-align: right;\n",
       "    }\n",
       "</style>\n",
       "<table border=\"1\" class=\"dataframe\">\n",
       "  <thead>\n",
       "    <tr style=\"text-align: right;\">\n",
       "      <th></th>\n",
       "      <th>userId</th>\n",
       "      <th>movieId</th>\n",
       "      <th>rating</th>\n",
       "      <th>timestamp</th>\n",
       "    </tr>\n",
       "  </thead>\n",
       "  <tbody>\n",
       "    <tr>\n",
       "      <th>0</th>\n",
       "      <td>1</td>\n",
       "      <td>31</td>\n",
       "      <td>2.5</td>\n",
       "      <td>1260759144</td>\n",
       "    </tr>\n",
       "    <tr>\n",
       "      <th>1</th>\n",
       "      <td>1</td>\n",
       "      <td>1029</td>\n",
       "      <td>3.0</td>\n",
       "      <td>1260759179</td>\n",
       "    </tr>\n",
       "    <tr>\n",
       "      <th>2</th>\n",
       "      <td>1</td>\n",
       "      <td>1061</td>\n",
       "      <td>3.0</td>\n",
       "      <td>1260759182</td>\n",
       "    </tr>\n",
       "    <tr>\n",
       "      <th>3</th>\n",
       "      <td>1</td>\n",
       "      <td>1129</td>\n",
       "      <td>2.0</td>\n",
       "      <td>1260759185</td>\n",
       "    </tr>\n",
       "    <tr>\n",
       "      <th>4</th>\n",
       "      <td>1</td>\n",
       "      <td>1172</td>\n",
       "      <td>4.0</td>\n",
       "      <td>1260759205</td>\n",
       "    </tr>\n",
       "    <tr>\n",
       "      <th>...</th>\n",
       "      <td>...</td>\n",
       "      <td>...</td>\n",
       "      <td>...</td>\n",
       "      <td>...</td>\n",
       "    </tr>\n",
       "    <tr>\n",
       "      <th>99999</th>\n",
       "      <td>671</td>\n",
       "      <td>6268</td>\n",
       "      <td>2.5</td>\n",
       "      <td>1065579370</td>\n",
       "    </tr>\n",
       "    <tr>\n",
       "      <th>100000</th>\n",
       "      <td>671</td>\n",
       "      <td>6269</td>\n",
       "      <td>4.0</td>\n",
       "      <td>1065149201</td>\n",
       "    </tr>\n",
       "    <tr>\n",
       "      <th>100001</th>\n",
       "      <td>671</td>\n",
       "      <td>6365</td>\n",
       "      <td>4.0</td>\n",
       "      <td>1070940363</td>\n",
       "    </tr>\n",
       "    <tr>\n",
       "      <th>100002</th>\n",
       "      <td>671</td>\n",
       "      <td>6385</td>\n",
       "      <td>2.5</td>\n",
       "      <td>1070979663</td>\n",
       "    </tr>\n",
       "    <tr>\n",
       "      <th>100003</th>\n",
       "      <td>671</td>\n",
       "      <td>6565</td>\n",
       "      <td>3.5</td>\n",
       "      <td>1074784724</td>\n",
       "    </tr>\n",
       "  </tbody>\n",
       "</table>\n",
       "<p>100004 rows × 4 columns</p>\n",
       "</div>"
      ],
      "text/plain": [
       "        userId  movieId  rating   timestamp\n",
       "0            1       31     2.5  1260759144\n",
       "1            1     1029     3.0  1260759179\n",
       "2            1     1061     3.0  1260759182\n",
       "3            1     1129     2.0  1260759185\n",
       "4            1     1172     4.0  1260759205\n",
       "...        ...      ...     ...         ...\n",
       "99999      671     6268     2.5  1065579370\n",
       "100000     671     6269     4.0  1065149201\n",
       "100001     671     6365     4.0  1070940363\n",
       "100002     671     6385     2.5  1070979663\n",
       "100003     671     6565     3.5  1074784724\n",
       "\n",
       "[100004 rows x 4 columns]"
      ]
     },
     "execution_count": 30,
     "metadata": {},
     "output_type": "execute_result"
    }
   ],
   "source": [
    "ratings_small"
   ]
  },
  {
   "cell_type": "code",
   "execution_count": 31,
   "id": "c7694606-46ac-40fc-abf5-c49b2ee2c311",
   "metadata": {
    "tags": []
   },
   "outputs": [
    {
     "data": {
      "text/plain": [
       "25623"
      ]
     },
     "execution_count": 31,
     "metadata": {},
     "output_type": "execute_result"
    }
   ],
   "source": [
    "unique_movie_ids_from_youtube = youtube['movieId'].unique().tolist()\n",
    "len(unique_movie_ids_from_youtube)"
   ]
  },
  {
   "cell_type": "code",
   "execution_count": 32,
   "id": "e83a6adc-6569-4dca-9b60-c47ca046cf80",
   "metadata": {
    "tags": []
   },
   "outputs": [
    {
     "data": {
      "text/plain": [
       "9125"
      ]
     },
     "execution_count": 32,
     "metadata": {},
     "output_type": "execute_result"
    }
   ],
   "source": [
    "unique_movie_ids_from_links_small = links_small['movieId'].unique().tolist()\n",
    "len(unique_movie_ids_from_links_small)"
   ]
  },
  {
   "cell_type": "code",
   "execution_count": 33,
   "id": "e42521d5-dba4-4500-8f71-4c894567ffbb",
   "metadata": {
    "tags": []
   },
   "outputs": [
    {
     "data": {
      "text/plain": [
       "9066"
      ]
     },
     "execution_count": 33,
     "metadata": {},
     "output_type": "execute_result"
    }
   ],
   "source": [
    "unique_movie_ids_from_ratings_small = ratings_small['movieId'].unique().tolist()\n",
    "len(unique_movie_ids_from_ratings_small)"
   ]
  },
  {
   "cell_type": "code",
   "execution_count": 36,
   "id": "0fc779bd-3656-4690-a8fd-6090b0fefa7b",
   "metadata": {
    "tags": []
   },
   "outputs": [
    {
     "name": "stdout",
     "output_type": "stream",
     "text": [
      "8692\n"
     ]
    }
   ],
   "source": [
    "# Assume unique_movie_ids_from_links_small, unique_movie_ids_from_youtube, and\n",
    "# unique_movie_ids_from_ratings_small are defined lists\n",
    "common_items = set(unique_movie_ids_from_links_small).intersection(\n",
    "    set(unique_movie_ids_from_youtube),\n",
    "    set(unique_movie_ids_from_ratinzgs_small)\n",
    ")\n",
    "total_common_items = len(common_items)\n",
    "print(total_common_items)\n"
   ]
  },
  {
   "cell_type": "code",
   "execution_count": 37,
   "id": "5b29f6e8-de3c-4a7e-8382-f7fe3b0fffbe",
   "metadata": {
    "tags": []
   },
   "outputs": [
    {
     "data": {
      "image/png": "[encoded data removed]",
      "text/plain": [
       "<Figure size 640x480 with 1 Axes>"
      ]
     },
     "metadata": {},
     "output_type": "display_data"
    }
   ],
   "source": [
    "import matplotlib.pyplot as plt\n",
    "\n",
    "# Assuming you have already defined unique_movie_ids_from_links_small, unique_movie_ids_from_youtube,\n",
    "# and unique_movie_ids_from_ratings_small lists\n",
    "common_items = set(unique_movie_ids_from_links_small).intersection(\n",
    "    set(unique_movie_ids_from_youtube),\n",
    "    set(unique_movie_ids_from_ratings_small)\n",
    ")\n",
    "total_common_items = len(common_items)\n",
    "\n",
    "# Update the 'sizes' list to include all unique elements from the three lists minus the common items, counted twice\n",
    "unique_items_count = (\n",
    "    len(unique_movie_ids_from_links_small) +\n",
    "    len(unique_movie_ids_from_youtube) +\n",
    "    len(unique_movie_ids_from_ratings_small) -\n",
    "    total_common_items * 2  # Subtract the common_items counted twice\n",
    ")\n",
    "\n",
    "# Create a pie chart\n",
    "labels = ['Common Items', 'Unique Items']\n",
    "sizes = [total_common_items, unique_items_count]\n",
    "colors = ['#ff9999','#66b3ff']\n",
    "\n",
    "plt.pie(sizes, labels=labels, colors=colors, autopct='%1.1f%%', startangle=90)\n",
    "\n",
    "# Add a title\n",
    "plt.title('Common Items vs. Unique Items')\n",
    "\n",
    "# Equal aspect ratio ensures that pie is drawn as a circle\n",
    "plt.axis('equal')\n",
    "\n",
    "# Display the pie chart\n",
    "plt.show()\n"
   ]
  },
  {
   "cell_type": "code",
   "execution_count": null,
   "id": "c25f9283-f426-48ec-991f-c1e939843e05",
   "metadata": {
    "tags": []
   },
   "outputs": [
    {
     "data": {
      "image/png": "[encoded data removed]",
      "text/plain": [
       "<Figure size 640x480 with 1 Axes>"
      ]
     },
     "metadata": {},
     "output_type": "display_data"
    }
   ],
   "source": [
    "import matplotlib.pyplot as plt\n",
    "from matplotlib_venn import venn3\n",
    "\n",
    "# Assuming you have already defined unique_movie_ids_from_links_small, unique_movie_ids_from_youtube,\n",
    "# and unique_movie_ids_from_ratings_small lists\n",
    "\n",
    "# Determine the set operations between the three lists\n",
    "set_links_small = set(unique_movie_ids_from_links_small)\n",
    "set_youtube = set(unique_movie_ids_from_youtube)\n",
    "set_ratings_small = set(unique_movie_ids_from_ratings_small)\n",
    "\n",
    "# Calculate intersections and differences\n",
    "common_all = set_links_small.intersection(set_youtube, set_ratings_small)\n",
    "unique_links = set_links_small - common_all\n",
    "unique_youtube = set_youtube - common_all\n",
    "unique_ratings = set_ratings_small - common_all\n",
    "common_links_youtube = set_links_small.intersection(set_youtube) - common_all\n",
    "common_links_ratings = set_links_small.intersection(set_ratings_small) - common_all\n",
    "common_youtube_ratings = set_youtube.intersection(set_ratings_small) - common_all\n",
    "\n",
    "# Create the Venn diagram\n",
    "venn3(subsets=(len(unique_links), len(unique_youtube), len(common_links_youtube),\n",
    "               len(unique_ratings), len(common_links_ratings), len(common_youtube_ratings), len(common_all)),\n",
    "      set_labels=('Links Small', 'YouTube', 'Ratings Small'))\n",
    "\n",
    "# Add a title\n",
    "plt.title('Set Operations among Links Small, YouTube, and Ratings Small')\n",
    "\n",
    "# Display the Venn diagram\n",
    "plt.show()\n"
   ]
  },
  {
   "cell_type": "code",
   "execution_count": null,
   "id": "2e958aff-1a3c-4085-9828-df1bcf42f69c",
   "metadata": {},
   "outputs": [],
   "source": []
  }
 ],
 "metadata": {
  "kernelspec": {
   "display_name": "Python 3 (ipykernel)",
   "language": "python",
   "name": "python3"
  },
  "language_info": {
   "codemirror_mode": {
    "name": "ipython",
    "version": 3
   },
   "file_extension": ".py",
   "mimetype": "text/x-python",
   "name": "python",
   "nbconvert_exporter": "python",
   "pygments_lexer": "ipython3",
   "version": "3.11.5"
  }
 },
 "nbformat": 4,
 "nbformat_minor": 5
}
