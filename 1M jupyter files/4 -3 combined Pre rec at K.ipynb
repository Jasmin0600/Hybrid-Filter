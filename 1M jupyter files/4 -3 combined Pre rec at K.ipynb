{
 "cells": [
  {
   "cell_type": "code",
   "execution_count": 3,
   "id": "b562b405-cdf3-417a-b364-4c2615b7886c",
   "metadata": {},
   "outputs": [],
   "source": [
    "import pandas as pd\n",
    "import numpy as np\n",
    "from sklearn.metrics.pairwise import cosine_similarity\n",
    "from sklearn.metrics import mean_squared_error\n",
    "from sklearn.model_selection import train_test_split\n",
    "from collections import Counter"
   ]
  },
  {
   "cell_type": "code",
   "execution_count": null,
   "id": "928e1e8c-7b4d-4316-a95c-190a21d5d32d",
   "metadata": {},
   "outputs": [],
   "source": []
  },
  {
   "cell_type": "code",
   "execution_count": 4,
   "id": "e1197b5c-0cf4-44e5-a8f6-f82d8d76306b",
   "metadata": {},
   "outputs": [
    {
     "name": "stderr",
     "output_type": "stream",
     "text": [
      "/tmp/ipykernel_560280/2259747558.py:38: FutureWarning: DataFrame.applymap has been deprecated. Use DataFrame.map instead.\n",
      "  item_similarity_df_metadata_thresholded = item_similarity_df_metadata.applymap(lambda x: x if x > threshold else 0)\n"
     ]
    },
    {
     "name": "stdout",
     "output_type": "stream",
     "text": [
      "RMSE: 0.8065533328720799\n"
     ]
    },
    {
     "name": "stderr",
     "output_type": "stream",
     "text": [
      "/home/patel8m6/Desktop/python scripts/mldl/lib/python3.11/site-packages/sklearn/metrics/_regression.py:492: FutureWarning: 'squared' is deprecated in version 1.4 and will be removed in 1.6. To calculate the root mean squared error, use the function'root_mean_squared_error'.\n",
      "  warnings.warn(\n"
     ]
    }
   ],
   "source": [
    "ratings = pd.read_csv(r'filtered_ratings.csv')\n",
    "ratings.rename(columns={'Rating': 'rating'}, inplace=True)\n",
    "ratings.rename(columns={'UserID': 'userId'}, inplace=True)\n",
    "ratings.rename(columns={'MovieID': 'movieId'}, inplace=True)\n",
    "\n",
    "All_parts_objects = pd.read_csv(r'1M_YOLO_features.csv', index_col=1)\n",
    "columns_to_keep = [str(i) for i in range(80)]\n",
    "movies_features = All_parts_objects[columns_to_keep]\n",
    "\n",
    "# Remove rows where all features are 0\n",
    "movies_features = movies_features[(movies_features != 0).any(axis=1)]\n",
    "movies_metadata = pd.read_csv(r'1M_BERT_embeddings_tag_and_whisper_trans.csv')\n",
    "\n",
    "\n",
    "unique_movieids_ratings = ratings['movieId'].unique()\n",
    "unique_movieids_movies_metadata = movies_metadata['movieId'].unique()\n",
    "unique_movieids_movies_features = movies_features.index.unique()\n",
    "\n",
    "common_movieids = list(set(unique_movieids_movies_metadata) & set(unique_movieids_ratings) & set(unique_movieids_movies_features))\n",
    "\n",
    "ratings = ratings[ratings['movieId'].isin(common_movieids)]\n",
    "movies_metadata = movies_metadata[movies_metadata['movieId'].isin(common_movieids)]\n",
    "movies_features = movies_features.iloc[movies_features.index.isin(common_movieids)]\n",
    "\n",
    "\n",
    "\n",
    "# Method 1: Collaborative Filtering\n",
    "user_item_matrix = ratings.pivot(index='userId', columns='movieId', values='rating')\n",
    "item_user_matrix_filled = user_item_matrix.T.fillna(0.5)\n",
    "item_similarity_cf = cosine_similarity(item_user_matrix_filled)\n",
    "item_similarity_df_cf = pd.DataFrame(item_similarity_cf, index=user_item_matrix.columns, columns=user_item_matrix.columns)\n",
    "\n",
    "# Method 2: Metadata-based Similarity\n",
    "item_metadata_matrix_filled = movies_features.fillna(0)\n",
    "item_similarity_metadata = cosine_similarity(item_metadata_matrix_filled)\n",
    "item_similarity_df_metadata = pd.DataFrame(item_similarity_metadata, index=item_metadata_matrix_filled.index, columns=item_metadata_matrix_filled.index)\n",
    "threshold = 0.3\n",
    "item_similarity_df_metadata_thresholded = item_similarity_df_metadata.applymap(lambda x: x if x > threshold else 0)\n",
    "\n",
    "# Method 3: BERT-based Similarity\n",
    "def string_to_array(s):\n",
    "    s = s.strip('[]')\n",
    "    return np.array([float(x) for x in s.split()])\n",
    "\n",
    "movies_metadata['bert_embedding'] = movies_metadata['bert_embedding'].apply(string_to_array)\n",
    "movie_embeddings = np.stack(movies_metadata['bert_embedding'].values)\n",
    "cosine_sim_bert = cosine_similarity(movie_embeddings, movie_embeddings)\n",
    "item_similarity_df_bert = pd.DataFrame(cosine_sim_bert, index=movies_metadata['movieId'], columns=movies_metadata['movieId'])\n",
    "\n",
    "# Split the ratings data into training and testing sets\n",
    "train_ratings, test_ratings = train_test_split(ratings, test_size=0.2, random_state=42)\n",
    "\n",
    "# Function to get k-nearest neighbors\n",
    "def get_k_nearest_neighbors(item_similarity_df, movie_id, k=255):\n",
    "    if movie_id not in item_similarity_df.columns:\n",
    "        return pd.Index([])\n",
    "    sim_scores = item_similarity_df[movie_id]\n",
    "    nearest_neighbors = sim_scores.sort_values(ascending=False).index[:k]\n",
    "    return nearest_neighbors\n",
    "\n",
    "# Function to predict rating\n",
    "def predict_rating(user_item_matrix, item_similarity_df, user_id, movie_id, k=255):\n",
    "    nearest_neighbors = get_k_nearest_neighbors(item_similarity_df, movie_id, k)\n",
    "    if nearest_neighbors.empty:\n",
    "        return 0\n",
    "    neighbor_ratings = user_item_matrix.loc[user_id, nearest_neighbors]\n",
    "    if neighbor_ratings.isna().all():\n",
    "        return 0\n",
    "    return neighbor_ratings.mean()\n",
    "\n",
    "# Evaluate at K=255 for combined predictions\n",
    "K = 255\n",
    "\n",
    "\n",
    "y_true_all = []\n",
    "y_pred_all = []\n",
    "\n",
    "for index, row in test_ratings.iterrows():\n",
    "    user_id = row['userId']\n",
    "    movie_id = row['movieId']\n",
    "    y_true_all.append(row['rating'])\n",
    "    \n",
    "    # Predictions from the three methods\n",
    "    pred_cf = predict_rating(user_item_matrix, item_similarity_df_cf, user_id, movie_id, k=K)\n",
    "    pred_metadata = predict_rating(user_item_matrix, item_similarity_df_metadata_thresholded, user_id, movie_id, k=K)\n",
    "    pred_bert = predict_rating(user_item_matrix, item_similarity_df_bert, user_id, movie_id, k=K)\n",
    "    \n",
    "    # Combine predictions by averaging\n",
    "    combined_prediction = np.mean([pred_cf, pred_metadata, pred_bert])\n",
    "    y_pred_all.append(combined_prediction)\n",
    "\n",
    "# Convert to floats\n",
    "y_true_all = [float(val) for val in y_true_all]\n",
    "y_pred_all = [float(val) for val in y_pred_all]\n",
    "\n",
    "# Generate RMSE\n",
    "rmse = mean_squared_error(y_true_all, y_pred_all, squared=False)\n",
    "print(\"RMSE:\", rmse)\n"
   ]
  },
  {
   "cell_type": "code",
   "execution_count": null,
   "id": "91ad7390-2007-4c1e-9683-c500d4816ee5",
   "metadata": {},
   "outputs": [],
   "source": []
  },
  {
   "cell_type": "code",
   "execution_count": 8,
   "id": "92ff56c4-8ce3-4d5e-9905-af7feaa3402e",
   "metadata": {},
   "outputs": [],
   "source": [
    "ratings['predicted_ratings'] = ratings.apply(lambda row: predict_rating(user_item_matrix, item_similarity_df_cf, row['userId'], row['movieId'], k=K), axis=1)"
   ]
  },
  {
   "cell_type": "code",
   "execution_count": 9,
   "id": "3675ae31-f2eb-4a10-9a3a-7059dfeb952c",
   "metadata": {},
   "outputs": [
    {
     "name": "stdout",
     "output_type": "stream",
     "text": [
      "<class 'pandas.core.frame.DataFrame'>\n",
      "Index: 733247 entries, 1 to 997297\n",
      "Data columns (total 5 columns):\n",
      " #   Column             Non-Null Count   Dtype  \n",
      "---  ------             --------------   -----  \n",
      " 0   userId             733247 non-null  int64  \n",
      " 1   movieId            733247 non-null  int64  \n",
      " 2   rating             733247 non-null  float64\n",
      " 3   Timestamp          733247 non-null  object \n",
      " 4   predicted_ratings  733247 non-null  float64\n",
      "dtypes: float64(2), int64(2), object(1)\n",
      "memory usage: 33.6+ MB\n"
     ]
    }
   ],
   "source": [
    "ratings.info()"
   ]
  },
  {
   "cell_type": "code",
   "execution_count": 10,
   "id": "ef237121-7e70-4e22-8ac3-6a8bb78fef99",
   "metadata": {},
   "outputs": [
    {
     "name": "stdout",
     "output_type": "stream",
     "text": [
      "Average Precision@255: 0.8734\n",
      "Average Recall@255: 0.8693\n"
     ]
    }
   ],
   "source": [
    "from collections import defaultdict\n",
    "import pandas as pd\n",
    "import numpy as np\n",
    "\n",
    "def precision_recall_at_k(df, k=10, threshold=3.5):\n",
    "    \"\"\"Return precision and recall at k metrics for each user\"\"\"\n",
    "\n",
    "    # Group the dataframe by userId\n",
    "    user_groups = df.groupby('userId')\n",
    "\n",
    "    precisions = {}\n",
    "    recalls = {}\n",
    "\n",
    "    for uid, group in user_groups:\n",
    "        # Sort the group by predicted_ratings in descending order\n",
    "        sorted_group = group.sort_values('predicted_ratings', ascending=False)\n",
    "\n",
    "        # Number of relevant items\n",
    "        n_rel = sum(sorted_group['rating'] >= threshold)\n",
    "\n",
    "        # Number of recommended items in top k\n",
    "        n_rec_k = sum(sorted_group['predicted_ratings'].head(k) >= threshold)\n",
    "\n",
    "        # Number of relevant and recommended items in top k\n",
    "        n_rel_and_rec_k = sum((sorted_group['rating'].head(k) >= threshold) & \n",
    "                              (sorted_group['predicted_ratings'].head(k) >= threshold))\n",
    "\n",
    "        # Precision@K: Proportion of recommended items that are relevant\n",
    "        precisions[uid] = n_rel_and_rec_k / n_rec_k if n_rec_k != 0 else 0\n",
    "\n",
    "        # Recall@K: Proportion of relevant items that are recommended\n",
    "        recalls[uid] = n_rel_and_rec_k / n_rel if n_rel != 0 else 0\n",
    "\n",
    "    return precisions, recalls\n",
    "k=255\n",
    "# Assuming your dataframe is called 'ratings'\n",
    "precisions, recalls = precision_recall_at_k(ratings, k, threshold=3.5)\n",
    "\n",
    "# Calculate average precision and recall\n",
    "avg_precision = np.mean(list(precisions.values()))\n",
    "avg_recall = np.mean(list(recalls.values()))\n",
    "\n",
    "print(f\"Average Precision@{k}: {avg_precision:.4f}\")\n",
    "print(f\"Average Recall@{k}: {avg_recall:.4f}\")"
   ]
  },
  {
   "cell_type": "code",
   "execution_count": 11,
   "id": "4a4c73b3-da8a-4626-a659-db61e1c5a15a",
   "metadata": {},
   "outputs": [
    {
     "data": {
      "image/png": "[encoded data removed]",
      "text/plain": [
       "<Figure size 1200x600 with 1 Axes>"
      ]
     },
     "metadata": {},
     "output_type": "display_data"
    }
   ],
   "source": [
    "import pandas as pd\n",
    "import numpy as np\n",
    "import matplotlib.pyplot as plt\n",
    "from collections import defaultdict\n",
    "\n",
    "def precision_recall_at_k(df, k=10, threshold=3.5):\n",
    "    user_groups = df.groupby('userId')\n",
    "    precisions = {}\n",
    "    recalls = {}\n",
    "    for uid, group in user_groups:\n",
    "        sorted_group = group.sort_values('predicted_ratings', ascending=False)\n",
    "        n_rel = sum(sorted_group['rating'] >= threshold)\n",
    "        n_rec_k = sum(sorted_group['predicted_ratings'].head(k) >= threshold)\n",
    "        n_rel_and_rec_k = sum((sorted_group['rating'].head(k) >= threshold) & \n",
    "                              (sorted_group['predicted_ratings'].head(k) >= threshold))\n",
    "        precisions[uid] = n_rel_and_rec_k / n_rec_k if n_rec_k != 0 else 0\n",
    "        recalls[uid] = n_rel_and_rec_k / n_rel if n_rel != 0 else 0\n",
    "    return np.mean(list(precisions.values())), np.mean(list(recalls.values()))\n",
    "\n",
    "# Assuming your dataframe is called 'ratings'\n",
    "k_values = [1, 5, 10, 20, 50, 100, 200, 255,500,750,1000]\n",
    "precisions = []\n",
    "recalls = []\n",
    "\n",
    "for k in k_values:\n",
    "    p, r = precision_recall_at_k(ratings, k=k, threshold=3.5)\n",
    "    precisions.append(p)\n",
    "    recalls.append(r)\n",
    "\n",
    "# Create the graph\n",
    "plt.figure(figsize=(12, 6))\n",
    "plt.plot(k_values, precisions, marker='o', label='Precision@K')\n",
    "plt.plot(k_values, recalls, marker='s', label='Recall@K')\n",
    "plt.xlabel('K')\n",
    "plt.ylabel('Score')\n",
    "plt.title('Precision@K and Recall@K')\n",
    "plt.legend()\n",
    "plt.grid(True)\n",
    "plt.xscale('log')  # Use log scale for x-axis to better show lower K values\n",
    "plt.xticks(k_values, k_values, rotation=45)  # Show all K values on x-axis\n",
    "plt.tight_layout()\n",
    "plt.show()"
   ]
  },
  {
   "cell_type": "code",
   "execution_count": 13,
   "id": "d4957d22-ef1f-4778-9dc8-e4271f8cc094",
   "metadata": {},
   "outputs": [
    {
     "data": {
      "text/plain": [
       "[0.03552628743149714,\n",
       " 0.1701107753345947,\n",
       " 0.31428393680165573,\n",
       " 0.49909226510055277,\n",
       " 0.7144225933982883,\n",
       " 0.8204566410799241,\n",
       " 0.8645997969891258,\n",
       " 0.869340251665838,\n",
       " 0.8725932806036403,\n",
       " 0.8727611877282054,\n",
       " 0.8727960638351177]"
      ]
     },
     "execution_count": 13,
     "metadata": {},
     "output_type": "execute_result"
    }
   ],
   "source": [
    "# Assuming your dataframe is called 'ratings'\n",
    "k_values = [1, 5, 10, 20, 50, 100, 200, 255,500,750,1000]\n",
    "recalls"
   ]
  },
  {
   "cell_type": "code",
   "execution_count": null,
   "id": "33642aa8-1800-42c8-a29f-4d8139194934",
   "metadata": {},
   "outputs": [],
   "source": []
  }
 ],
 "metadata": {
  "kernelspec": {
   "display_name": "Python 3 (ipykernel)",
   "language": "python",
   "name": "python3"
  },
  "language_info": {
   "codemirror_mode": {
    "name": "ipython",
    "version": 3
   },
   "file_extension": ".py",
   "mimetype": "text/x-python",
   "name": "python",
   "nbconvert_exporter": "python",
   "pygments_lexer": "ipython3",
   "version": "3.11.2"
  }
 },
 "nbformat": 4,
 "nbformat_minor": 5
}
