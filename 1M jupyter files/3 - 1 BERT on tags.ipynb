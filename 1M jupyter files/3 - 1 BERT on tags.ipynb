{
 "cells": [
  {
   "cell_type": "code",
   "execution_count": 3,
   "id": "d150e752-ab4f-48e8-9bce-31ff38ec760e",
   "metadata": {},
   "outputs": [],
   "source": [
    "import pandas as pd"
   ]
  },
  {
   "cell_type": "code",
   "execution_count": 4,
   "id": "fd1c6f21-a526-4a32-bc94-d7ebc7d0d36b",
   "metadata": {},
   "outputs": [],
   "source": [
    "ratings = pd.read_csv(r'filtered_ratings.csv')"
   ]
  },
  {
   "cell_type": "code",
   "execution_count": 5,
   "id": "e63d0391-acce-4ff0-a65f-b9dde7ca75ac",
   "metadata": {},
   "outputs": [
    {
     "data": {
      "text/html": [
       "<div>\n",
       "<style scoped>\n",
       "    .dataframe tbody tr th:only-of-type {\n",
       "        vertical-align: middle;\n",
       "    }\n",
       "\n",
       "    .dataframe tbody tr th {\n",
       "        vertical-align: top;\n",
       "    }\n",
       "\n",
       "    .dataframe thead th {\n",
       "        text-align: right;\n",
       "    }\n",
       "</style>\n",
       "<table border=\"1\" class=\"dataframe\">\n",
       "  <thead>\n",
       "    <tr style=\"text-align: right;\">\n",
       "      <th></th>\n",
       "      <th>UserID</th>\n",
       "      <th>MovieID</th>\n",
       "      <th>Rating</th>\n",
       "      <th>Timestamp</th>\n",
       "    </tr>\n",
       "  </thead>\n",
       "  <tbody>\n",
       "    <tr>\n",
       "      <th>0</th>\n",
       "      <td>1</td>\n",
       "      <td>1193</td>\n",
       "      <td>5.0</td>\n",
       "      <td>2000-12-31 22:12:40</td>\n",
       "    </tr>\n",
       "    <tr>\n",
       "      <th>1</th>\n",
       "      <td>1</td>\n",
       "      <td>661</td>\n",
       "      <td>3.0</td>\n",
       "      <td>2000-12-31 22:35:09</td>\n",
       "    </tr>\n",
       "    <tr>\n",
       "      <th>2</th>\n",
       "      <td>1</td>\n",
       "      <td>914</td>\n",
       "      <td>3.0</td>\n",
       "      <td>2000-12-31 22:32:48</td>\n",
       "    </tr>\n",
       "    <tr>\n",
       "      <th>3</th>\n",
       "      <td>1</td>\n",
       "      <td>3408</td>\n",
       "      <td>4.0</td>\n",
       "      <td>2000-12-31 22:04:35</td>\n",
       "    </tr>\n",
       "    <tr>\n",
       "      <th>4</th>\n",
       "      <td>1</td>\n",
       "      <td>2355</td>\n",
       "      <td>5.0</td>\n",
       "      <td>2001-01-06 23:38:11</td>\n",
       "    </tr>\n",
       "    <tr>\n",
       "      <th>...</th>\n",
       "      <td>...</td>\n",
       "      <td>...</td>\n",
       "      <td>...</td>\n",
       "      <td>...</td>\n",
       "    </tr>\n",
       "    <tr>\n",
       "      <th>997294</th>\n",
       "      <td>6040</td>\n",
       "      <td>1091</td>\n",
       "      <td>1.0</td>\n",
       "      <td>2000-04-26 02:35:41</td>\n",
       "    </tr>\n",
       "    <tr>\n",
       "      <th>997295</th>\n",
       "      <td>6040</td>\n",
       "      <td>1094</td>\n",
       "      <td>5.0</td>\n",
       "      <td>2000-04-25 23:21:27</td>\n",
       "    </tr>\n",
       "    <tr>\n",
       "      <th>997296</th>\n",
       "      <td>6040</td>\n",
       "      <td>562</td>\n",
       "      <td>5.0</td>\n",
       "      <td>2000-04-25 23:19:06</td>\n",
       "    </tr>\n",
       "    <tr>\n",
       "      <th>997297</th>\n",
       "      <td>6040</td>\n",
       "      <td>1096</td>\n",
       "      <td>4.0</td>\n",
       "      <td>2000-04-26 02:20:48</td>\n",
       "    </tr>\n",
       "    <tr>\n",
       "      <th>997298</th>\n",
       "      <td>6040</td>\n",
       "      <td>1097</td>\n",
       "      <td>4.0</td>\n",
       "      <td>2000-04-26 02:19:29</td>\n",
       "    </tr>\n",
       "  </tbody>\n",
       "</table>\n",
       "<p>997299 rows × 4 columns</p>\n",
       "</div>"
      ],
      "text/plain": [
       "        UserID  MovieID  Rating            Timestamp\n",
       "0            1     1193     5.0  2000-12-31 22:12:40\n",
       "1            1      661     3.0  2000-12-31 22:35:09\n",
       "2            1      914     3.0  2000-12-31 22:32:48\n",
       "3            1     3408     4.0  2000-12-31 22:04:35\n",
       "4            1     2355     5.0  2001-01-06 23:38:11\n",
       "...        ...      ...     ...                  ...\n",
       "997294    6040     1091     1.0  2000-04-26 02:35:41\n",
       "997295    6040     1094     5.0  2000-04-25 23:21:27\n",
       "997296    6040      562     5.0  2000-04-25 23:19:06\n",
       "997297    6040     1096     4.0  2000-04-26 02:20:48\n",
       "997298    6040     1097     4.0  2000-04-26 02:19:29\n",
       "\n",
       "[997299 rows x 4 columns]"
      ]
     },
     "execution_count": 5,
     "metadata": {},
     "output_type": "execute_result"
    }
   ],
   "source": [
    "ratings"
   ]
  },
  {
   "cell_type": "code",
   "execution_count": 6,
   "id": "9322ee7c-9dc7-438b-998e-2b283ddf4e93",
   "metadata": {},
   "outputs": [],
   "source": [
    "ratings.rename(columns={'Rating': 'rating'}, inplace=True)\n",
    "ratings.rename(columns={'UserID': 'userId'}, inplace=True)\n",
    "ratings.rename(columns={'MovieID': 'movieId'}, inplace=True)"
   ]
  },
  {
   "cell_type": "code",
   "execution_count": 7,
   "id": "c8e2d24b-c50d-4cbe-9ae4-e1b3cc2cf223",
   "metadata": {},
   "outputs": [
    {
     "name": "stdout",
     "output_type": "stream",
     "text": [
      "<class 'pandas.core.frame.DataFrame'>\n",
      "RangeIndex: 997299 entries, 0 to 997298\n",
      "Data columns (total 4 columns):\n",
      " #   Column     Non-Null Count   Dtype  \n",
      "---  ------     --------------   -----  \n",
      " 0   userId     997299 non-null  int64  \n",
      " 1   movieId    997299 non-null  int64  \n",
      " 2   rating     997299 non-null  float64\n",
      " 3   Timestamp  997299 non-null  object \n",
      "dtypes: float64(1), int64(2), object(1)\n",
      "memory usage: 30.4+ MB\n"
     ]
    }
   ],
   "source": [
    "ratings.info()"
   ]
  },
  {
   "cell_type": "code",
   "execution_count": 8,
   "id": "6b6e2ffd-940c-4c53-864a-1e029b83ba96",
   "metadata": {},
   "outputs": [],
   "source": [
    "ratings['rating'] = ratings['rating'].apply(lambda x: 1 if x > 3.5 else 0)\n"
   ]
  },
  {
   "cell_type": "code",
   "execution_count": 9,
   "id": "df70dac8-f113-44c7-b2e7-1b2d23be1054",
   "metadata": {},
   "outputs": [
    {
     "data": {
      "text/html": [
       "<div>\n",
       "<style scoped>\n",
       "    .dataframe tbody tr th:only-of-type {\n",
       "        vertical-align: middle;\n",
       "    }\n",
       "\n",
       "    .dataframe tbody tr th {\n",
       "        vertical-align: top;\n",
       "    }\n",
       "\n",
       "    .dataframe thead th {\n",
       "        text-align: right;\n",
       "    }\n",
       "</style>\n",
       "<table border=\"1\" class=\"dataframe\">\n",
       "  <thead>\n",
       "    <tr style=\"text-align: right;\">\n",
       "      <th></th>\n",
       "      <th>userId</th>\n",
       "      <th>movieId</th>\n",
       "      <th>rating</th>\n",
       "      <th>Timestamp</th>\n",
       "    </tr>\n",
       "  </thead>\n",
       "  <tbody>\n",
       "    <tr>\n",
       "      <th>0</th>\n",
       "      <td>1</td>\n",
       "      <td>1193</td>\n",
       "      <td>1</td>\n",
       "      <td>2000-12-31 22:12:40</td>\n",
       "    </tr>\n",
       "    <tr>\n",
       "      <th>1</th>\n",
       "      <td>1</td>\n",
       "      <td>661</td>\n",
       "      <td>0</td>\n",
       "      <td>2000-12-31 22:35:09</td>\n",
       "    </tr>\n",
       "    <tr>\n",
       "      <th>2</th>\n",
       "      <td>1</td>\n",
       "      <td>914</td>\n",
       "      <td>0</td>\n",
       "      <td>2000-12-31 22:32:48</td>\n",
       "    </tr>\n",
       "    <tr>\n",
       "      <th>3</th>\n",
       "      <td>1</td>\n",
       "      <td>3408</td>\n",
       "      <td>1</td>\n",
       "      <td>2000-12-31 22:04:35</td>\n",
       "    </tr>\n",
       "    <tr>\n",
       "      <th>4</th>\n",
       "      <td>1</td>\n",
       "      <td>2355</td>\n",
       "      <td>1</td>\n",
       "      <td>2001-01-06 23:38:11</td>\n",
       "    </tr>\n",
       "    <tr>\n",
       "      <th>...</th>\n",
       "      <td>...</td>\n",
       "      <td>...</td>\n",
       "      <td>...</td>\n",
       "      <td>...</td>\n",
       "    </tr>\n",
       "    <tr>\n",
       "      <th>997294</th>\n",
       "      <td>6040</td>\n",
       "      <td>1091</td>\n",
       "      <td>0</td>\n",
       "      <td>2000-04-26 02:35:41</td>\n",
       "    </tr>\n",
       "    <tr>\n",
       "      <th>997295</th>\n",
       "      <td>6040</td>\n",
       "      <td>1094</td>\n",
       "      <td>1</td>\n",
       "      <td>2000-04-25 23:21:27</td>\n",
       "    </tr>\n",
       "    <tr>\n",
       "      <th>997296</th>\n",
       "      <td>6040</td>\n",
       "      <td>562</td>\n",
       "      <td>1</td>\n",
       "      <td>2000-04-25 23:19:06</td>\n",
       "    </tr>\n",
       "    <tr>\n",
       "      <th>997297</th>\n",
       "      <td>6040</td>\n",
       "      <td>1096</td>\n",
       "      <td>1</td>\n",
       "      <td>2000-04-26 02:20:48</td>\n",
       "    </tr>\n",
       "    <tr>\n",
       "      <th>997298</th>\n",
       "      <td>6040</td>\n",
       "      <td>1097</td>\n",
       "      <td>1</td>\n",
       "      <td>2000-04-26 02:19:29</td>\n",
       "    </tr>\n",
       "  </tbody>\n",
       "</table>\n",
       "<p>997299 rows × 4 columns</p>\n",
       "</div>"
      ],
      "text/plain": [
       "        userId  movieId  rating            Timestamp\n",
       "0            1     1193       1  2000-12-31 22:12:40\n",
       "1            1      661       0  2000-12-31 22:35:09\n",
       "2            1      914       0  2000-12-31 22:32:48\n",
       "3            1     3408       1  2000-12-31 22:04:35\n",
       "4            1     2355       1  2001-01-06 23:38:11\n",
       "...        ...      ...     ...                  ...\n",
       "997294    6040     1091       0  2000-04-26 02:35:41\n",
       "997295    6040     1094       1  2000-04-25 23:21:27\n",
       "997296    6040      562       1  2000-04-25 23:19:06\n",
       "997297    6040     1096       1  2000-04-26 02:20:48\n",
       "997298    6040     1097       1  2000-04-26 02:19:29\n",
       "\n",
       "[997299 rows x 4 columns]"
      ]
     },
     "execution_count": 9,
     "metadata": {},
     "output_type": "execute_result"
    }
   ],
   "source": [
    "ratings"
   ]
  },
  {
   "cell_type": "code",
   "execution_count": 10,
   "id": "905db371-bbf9-43bd-82f4-b6f886a6aa48",
   "metadata": {},
   "outputs": [
    {
     "data": {
      "text/plain": [
       "rating\n",
       "1    573370\n",
       "0    423929\n",
       "Name: count, dtype: int64"
      ]
     },
     "execution_count": 10,
     "metadata": {},
     "output_type": "execute_result"
    }
   ],
   "source": [
    "value_counts = ratings['rating'].value_counts()\n",
    "value_counts"
   ]
  },
  {
   "cell_type": "code",
   "execution_count": 11,
   "id": "3fe771ea-d19f-4889-9953-0445c678f6b6",
   "metadata": {},
   "outputs": [],
   "source": [
    "movies_metadata = pd.read_csv('movies_title_tag_basic_info.csv')\n"
   ]
  },
  {
   "cell_type": "code",
   "execution_count": 12,
   "id": "35f4b924-012e-4d89-9e4c-242d36dc2b4f",
   "metadata": {},
   "outputs": [
    {
     "data": {
      "text/plain": [
       "3626"
      ]
     },
     "execution_count": 12,
     "metadata": {},
     "output_type": "execute_result"
    }
   ],
   "source": [
    "unique_movieId_list = list(ratings['movieId'].unique())\n",
    "len(unique_movieId_list)"
   ]
  },
  {
   "cell_type": "code",
   "execution_count": 13,
   "id": "11d4be71-d268-4e76-9714-fd0f84f26ccd",
   "metadata": {},
   "outputs": [
    {
     "name": "stdout",
     "output_type": "stream",
     "text": [
      "<class 'pandas.core.frame.DataFrame'>\n",
      "RangeIndex: 44475 entries, 0 to 44474\n",
      "Data columns (total 4 columns):\n",
      " #   Column   Non-Null Count  Dtype \n",
      "---  ------   --------------  ----- \n",
      " 0   movieId  44475 non-null  int64 \n",
      " 1   tmdbId   44475 non-null  int64 \n",
      " 2   title    44475 non-null  object\n",
      " 3   tags     44475 non-null  object\n",
      "dtypes: int64(2), object(2)\n",
      "memory usage: 1.4+ MB\n"
     ]
    }
   ],
   "source": [
    "movies_metadata.info()"
   ]
  },
  {
   "cell_type": "code",
   "execution_count": 14,
   "id": "a6ce0e7b-e1e2-4054-a7c3-c4a9760acb87",
   "metadata": {},
   "outputs": [],
   "source": [
    "movies_metadata = movies_metadata[movies_metadata['movieId'].isin(unique_movieId_list)]\n",
    "movies_metadata.reset_index(drop=True, inplace=True)\n",
    "movies_metadata.drop(['tmdbId','title'], axis=1, inplace=True)\n"
   ]
  },
  {
   "cell_type": "code",
   "execution_count": 15,
   "id": "fc752a01-4e45-4522-a561-00fc2766fb0b",
   "metadata": {},
   "outputs": [
    {
     "data": {
      "text/html": [
       "<div>\n",
       "<style scoped>\n",
       "    .dataframe tbody tr th:only-of-type {\n",
       "        vertical-align: middle;\n",
       "    }\n",
       "\n",
       "    .dataframe tbody tr th {\n",
       "        vertical-align: top;\n",
       "    }\n",
       "\n",
       "    .dataframe thead th {\n",
       "        text-align: right;\n",
       "    }\n",
       "</style>\n",
       "<table border=\"1\" class=\"dataframe\">\n",
       "  <thead>\n",
       "    <tr style=\"text-align: right;\">\n",
       "      <th></th>\n",
       "      <th>movieId</th>\n",
       "      <th>tags</th>\n",
       "    </tr>\n",
       "  </thead>\n",
       "  <tbody>\n",
       "    <tr>\n",
       "      <th>0</th>\n",
       "      <td>1</td>\n",
       "      <td>Led by Woody, Andy's toys live happily in his ...</td>\n",
       "    </tr>\n",
       "    <tr>\n",
       "      <th>1</th>\n",
       "      <td>2</td>\n",
       "      <td>When siblings Judy and Peter discover an encha...</td>\n",
       "    </tr>\n",
       "    <tr>\n",
       "      <th>2</th>\n",
       "      <td>3</td>\n",
       "      <td>A family wedding reignites the ancient feud be...</td>\n",
       "    </tr>\n",
       "    <tr>\n",
       "      <th>3</th>\n",
       "      <td>4</td>\n",
       "      <td>Cheated on, mistreated and stepped on, the wom...</td>\n",
       "    </tr>\n",
       "    <tr>\n",
       "      <th>4</th>\n",
       "      <td>5</td>\n",
       "      <td>Just when George Banks has recovered from his ...</td>\n",
       "    </tr>\n",
       "    <tr>\n",
       "      <th>...</th>\n",
       "      <td>...</td>\n",
       "      <td>...</td>\n",
       "    </tr>\n",
       "    <tr>\n",
       "      <th>3596</th>\n",
       "      <td>3948</td>\n",
       "      <td>Greg Focker is ready to marry his girlfriend, ...</td>\n",
       "    </tr>\n",
       "    <tr>\n",
       "      <th>3597</th>\n",
       "      <td>3949</td>\n",
       "      <td>The hopes and dreams of four ambitious people ...</td>\n",
       "    </tr>\n",
       "    <tr>\n",
       "      <th>3598</th>\n",
       "      <td>3950</td>\n",
       "      <td>A group of recruits go through Advanced Infant...</td>\n",
       "    </tr>\n",
       "    <tr>\n",
       "      <th>3599</th>\n",
       "      <td>3951</td>\n",
       "      <td>Buddy Visalo (Michael Rispoli) is a factory wo...</td>\n",
       "    </tr>\n",
       "    <tr>\n",
       "      <th>3600</th>\n",
       "      <td>3952</td>\n",
       "      <td>Political thriller about Laine Hanson's nomina...</td>\n",
       "    </tr>\n",
       "  </tbody>\n",
       "</table>\n",
       "<p>3601 rows × 2 columns</p>\n",
       "</div>"
      ],
      "text/plain": [
       "      movieId                                               tags\n",
       "0           1  Led by Woody, Andy's toys live happily in his ...\n",
       "1           2  When siblings Judy and Peter discover an encha...\n",
       "2           3  A family wedding reignites the ancient feud be...\n",
       "3           4  Cheated on, mistreated and stepped on, the wom...\n",
       "4           5  Just when George Banks has recovered from his ...\n",
       "...       ...                                                ...\n",
       "3596     3948  Greg Focker is ready to marry his girlfriend, ...\n",
       "3597     3949  The hopes and dreams of four ambitious people ...\n",
       "3598     3950  A group of recruits go through Advanced Infant...\n",
       "3599     3951  Buddy Visalo (Michael Rispoli) is a factory wo...\n",
       "3600     3952  Political thriller about Laine Hanson's nomina...\n",
       "\n",
       "[3601 rows x 2 columns]"
      ]
     },
     "execution_count": 15,
     "metadata": {},
     "output_type": "execute_result"
    }
   ],
   "source": [
    "movies_metadata"
   ]
  },
  {
   "cell_type": "code",
   "execution_count": 16,
   "id": "3e12576f-a2f2-44e1-852c-4853ea3148b9",
   "metadata": {},
   "outputs": [
    {
     "name": "stdout",
     "output_type": "stream",
     "text": [
      "<class 'pandas.core.frame.DataFrame'>\n",
      "RangeIndex: 3601 entries, 0 to 3600\n",
      "Data columns (total 2 columns):\n",
      " #   Column   Non-Null Count  Dtype \n",
      "---  ------   --------------  ----- \n",
      " 0   movieId  3601 non-null   int64 \n",
      " 1   tags     3601 non-null   object\n",
      "dtypes: int64(1), object(1)\n",
      "memory usage: 56.4+ KB\n"
     ]
    }
   ],
   "source": [
    "movies_metadata.info()"
   ]
  },
  {
   "cell_type": "code",
   "execution_count": 17,
   "id": "8958e32b-3521-4876-bc46-cfb2e1594cc4",
   "metadata": {},
   "outputs": [],
   "source": [
    "from sklearn.feature_extraction.text import TfidfVectorizer\n",
    "from sklearn.metrics.pairwise import cosine_similarity\n",
    "\n",
    "tfidf = TfidfVectorizer(stop_words='english')\n",
    "\n",
    "tfidf_matrix = tfidf.fit_transform(movies_metadata['tags'])\n",
    "\n",
    "cosine_sim = cosine_similarity(tfidf_matrix, tfidf_matrix)\n",
    "indices = pd.Series(movies_metadata.index, index=movies_metadata['movieId']).drop_duplicates()\n",
    "def get_recommendations(title, cosine_sim=cosine_sim):\n",
    "    idx = indices[title]\n",
    "    sim_scores = list(enumerate(cosine_sim[idx]))\n",
    "    sim_scores = sorted(sim_scores, key=lambda x: x[1], reverse=True)\n",
    "    sim_scores = sim_scores[1:11]\n",
    "    movie_indices = [i[0] for i in sim_scores]\n",
    "    return movies_metadata['movieId'].iloc[movie_indices]"
   ]
  },
  {
   "cell_type": "code",
   "execution_count": 18,
   "id": "91ff62ef-0dfe-439a-9318-c1d7ea916444",
   "metadata": {},
   "outputs": [
    {
     "name": "stdout",
     "output_type": "stream",
     "text": [
      "<class 'pandas.core.frame.DataFrame'>\n",
      "RangeIndex: 997299 entries, 0 to 997298\n",
      "Data columns (total 4 columns):\n",
      " #   Column     Non-Null Count   Dtype \n",
      "---  ------     --------------   ----- \n",
      " 0   userId     997299 non-null  int64 \n",
      " 1   movieId    997299 non-null  int64 \n",
      " 2   rating     997299 non-null  int64 \n",
      " 3   Timestamp  997299 non-null  object\n",
      "dtypes: int64(3), object(1)\n",
      "memory usage: 30.4+ MB\n"
     ]
    }
   ],
   "source": [
    "ratings.info()"
   ]
  },
  {
   "cell_type": "code",
   "execution_count": 19,
   "id": "a5420ac1-030c-4c53-902c-5933a9324dcc",
   "metadata": {},
   "outputs": [
    {
     "data": {
      "text/html": [
       "<div>\n",
       "<style scoped>\n",
       "    .dataframe tbody tr th:only-of-type {\n",
       "        vertical-align: middle;\n",
       "    }\n",
       "\n",
       "    .dataframe tbody tr th {\n",
       "        vertical-align: top;\n",
       "    }\n",
       "\n",
       "    .dataframe thead th {\n",
       "        text-align: right;\n",
       "    }\n",
       "</style>\n",
       "<table border=\"1\" class=\"dataframe\">\n",
       "  <thead>\n",
       "    <tr style=\"text-align: right;\">\n",
       "      <th></th>\n",
       "      <th>userId</th>\n",
       "      <th>movieId</th>\n",
       "      <th>rating</th>\n",
       "      <th>Timestamp</th>\n",
       "    </tr>\n",
       "  </thead>\n",
       "  <tbody>\n",
       "    <tr>\n",
       "      <th>0</th>\n",
       "      <td>1</td>\n",
       "      <td>1193</td>\n",
       "      <td>1</td>\n",
       "      <td>2000-12-31 22:12:40</td>\n",
       "    </tr>\n",
       "    <tr>\n",
       "      <th>1</th>\n",
       "      <td>1</td>\n",
       "      <td>661</td>\n",
       "      <td>0</td>\n",
       "      <td>2000-12-31 22:35:09</td>\n",
       "    </tr>\n",
       "    <tr>\n",
       "      <th>2</th>\n",
       "      <td>1</td>\n",
       "      <td>914</td>\n",
       "      <td>0</td>\n",
       "      <td>2000-12-31 22:32:48</td>\n",
       "    </tr>\n",
       "    <tr>\n",
       "      <th>3</th>\n",
       "      <td>1</td>\n",
       "      <td>3408</td>\n",
       "      <td>1</td>\n",
       "      <td>2000-12-31 22:04:35</td>\n",
       "    </tr>\n",
       "    <tr>\n",
       "      <th>4</th>\n",
       "      <td>1</td>\n",
       "      <td>2355</td>\n",
       "      <td>1</td>\n",
       "      <td>2001-01-06 23:38:11</td>\n",
       "    </tr>\n",
       "    <tr>\n",
       "      <th>...</th>\n",
       "      <td>...</td>\n",
       "      <td>...</td>\n",
       "      <td>...</td>\n",
       "      <td>...</td>\n",
       "    </tr>\n",
       "    <tr>\n",
       "      <th>997294</th>\n",
       "      <td>6040</td>\n",
       "      <td>1091</td>\n",
       "      <td>0</td>\n",
       "      <td>2000-04-26 02:35:41</td>\n",
       "    </tr>\n",
       "    <tr>\n",
       "      <th>997295</th>\n",
       "      <td>6040</td>\n",
       "      <td>1094</td>\n",
       "      <td>1</td>\n",
       "      <td>2000-04-25 23:21:27</td>\n",
       "    </tr>\n",
       "    <tr>\n",
       "      <th>997296</th>\n",
       "      <td>6040</td>\n",
       "      <td>562</td>\n",
       "      <td>1</td>\n",
       "      <td>2000-04-25 23:19:06</td>\n",
       "    </tr>\n",
       "    <tr>\n",
       "      <th>997297</th>\n",
       "      <td>6040</td>\n",
       "      <td>1096</td>\n",
       "      <td>1</td>\n",
       "      <td>2000-04-26 02:20:48</td>\n",
       "    </tr>\n",
       "    <tr>\n",
       "      <th>997298</th>\n",
       "      <td>6040</td>\n",
       "      <td>1097</td>\n",
       "      <td>1</td>\n",
       "      <td>2000-04-26 02:19:29</td>\n",
       "    </tr>\n",
       "  </tbody>\n",
       "</table>\n",
       "<p>997299 rows × 4 columns</p>\n",
       "</div>"
      ],
      "text/plain": [
       "        userId  movieId  rating            Timestamp\n",
       "0            1     1193       1  2000-12-31 22:12:40\n",
       "1            1      661       0  2000-12-31 22:35:09\n",
       "2            1      914       0  2000-12-31 22:32:48\n",
       "3            1     3408       1  2000-12-31 22:04:35\n",
       "4            1     2355       1  2001-01-06 23:38:11\n",
       "...        ...      ...     ...                  ...\n",
       "997294    6040     1091       0  2000-04-26 02:35:41\n",
       "997295    6040     1094       1  2000-04-25 23:21:27\n",
       "997296    6040      562       1  2000-04-25 23:19:06\n",
       "997297    6040     1096       1  2000-04-26 02:20:48\n",
       "997298    6040     1097       1  2000-04-26 02:19:29\n",
       "\n",
       "[997299 rows x 4 columns]"
      ]
     },
     "execution_count": 19,
     "metadata": {},
     "output_type": "execute_result"
    }
   ],
   "source": [
    "ratings"
   ]
  },
  {
   "cell_type": "markdown",
   "id": "2c2a42c7-d35f-42d3-86c2-8d98b13e9021",
   "metadata": {},
   "source": [
    "## previous"
   ]
  },
  {
   "cell_type": "code",
   "execution_count": 20,
   "id": "63731068-4740-41cd-9e3f-0b3d1745798f",
   "metadata": {},
   "outputs": [
    {
     "name": "stdout",
     "output_type": "stream",
     "text": [
      "Classification Report:\n",
      "              precision    recall  f1-score   support\n",
      "\n",
      "           0       0.62      0.52      0.56     84449\n",
      "           1       0.68      0.76      0.72    115011\n",
      "\n",
      "    accuracy                           0.66    199460\n",
      "   macro avg       0.65      0.64      0.64    199460\n",
      "weighted avg       0.66      0.66      0.66    199460\n",
      "\n",
      "Confusion Matrix:\n",
      "[[43942 40507]\n",
      " [27196 87815]]\n"
     ]
    }
   ],
   "source": [
    "import pandas as pd\n",
    "from sklearn.feature_extraction.text import TfidfVectorizer\n",
    "from sklearn.metrics.pairwise import cosine_similarity\n",
    "from collections import Counter\n",
    "from sklearn.metrics import classification_report, confusion_matrix\n",
    "\n",
    "\n",
    "\n",
    "# Step 1: Create the TF-IDF matrix and compute cosine similarity\n",
    "tfidf = TfidfVectorizer(stop_words='english')\n",
    "tfidf_matrix = tfidf.fit_transform(movies_metadata['tags'])\n",
    "cosine_sim = cosine_similarity(tfidf_matrix, tfidf_matrix)\n",
    "\n",
    "# Create a reverse mapping of indices and movieId\n",
    "indices = pd.Series(movies_metadata.index, index=movies_metadata['movieId']).drop_duplicates()\n",
    "\n",
    "def get_recommendations(movieId, cosine_sim=cosine_sim):\n",
    "    if movieId not in indices:\n",
    "        return []\n",
    "    idx = indices[movieId]\n",
    "    sim_scores = list(enumerate(cosine_sim[idx]))\n",
    "    sim_scores = sorted(sim_scores, key=lambda x: x[1], reverse=True)\n",
    "    sim_scores = sim_scores[1:11]  # Top 10 similar movies\n",
    "    movie_indices = [i[0] for i in sim_scores]\n",
    "    return movies_metadata['movieId'].iloc[movie_indices]\n",
    "\n",
    "# Step 2: Integrate User Ratings\n",
    "user_item_matrix = ratings.pivot(index='userId', columns='movieId', values='rating')\n",
    "\n",
    "# Function to get k-nearest neighbors based on item-item similarity\n",
    "def get_k_nearest_neighbors(item_similarity_df, movie_id, k=10):\n",
    "    if movie_id not in item_similarity_df.columns:\n",
    "        return pd.Index([])\n",
    "    sim_scores = item_similarity_df[movie_id]\n",
    "    nearest_neighbors = sim_scores.sort_values(ascending=False).index[1:k+1]\n",
    "    return nearest_neighbors\n",
    "\n",
    "# Function to predict rating for a specific user and movie\n",
    "def predict_rating(user_item_matrix, item_similarity_df, user_id, movie_id, k=10):\n",
    "    nearest_neighbors = get_k_nearest_neighbors(item_similarity_df, movie_id, k)\n",
    "    if ne# Assuming 'movies_metadata' is your DataFrame\n",
    "# Print the values of two specific columns from the first row\n",
    "movies_metadata.iloc[56][['bert_embedding']][0].shapearest_neighbors.empty:\n",
    "        return 0\n",
    "    neighbor_ratings = user_item_matrix.loc[user_id, nearest_neighbors]\n",
    "    if neighbor_ratings.isna().all():\n",
    "        return 0\n",
    "    return Counter(neighbor_ratings.dropna()).most_common(1)[0][0]\n",
    "\n",
    "# Compute the item similarity DataFrame using movie metadata\n",
    "item_similarity_df = pd.DataFrame(cosine_sim, index=movies_metadata['movieId'], columns=movies_metadata['movieId'])\n",
    "\n",
    "# Split the ratings data into training and testing sets\n",
    "train_ratings = ratings.sample(frac=0.8, random_state=42)\n",
    "test_ratings = ratings.drop(train_ratings.index)\n",
    "\n",
    "# Evaluate at K=255\n",
    "K = 255\n",
    "y_true_all = []\n",
    "y_pred_all = []\n",
    "\n",
    "for index, row in test_ratings.iterrows():\n",
    "    user_id = row['userId']\n",
    "    movie_id = row['movieId']\n",
    "    y_true_all.append(row['rating'])\n",
    "    y_pred_all.append(predict_rating(user_item_matrix, item_similarity_df, user_id, movie_id, k=K))\n",
    "\n",
    "# Convert to integers\n",
    "y_true_all = [int(val) for val in y_true_all]\n",
    "y_pred_all = [int(val) for val in y_pred_all]\n",
    "\n",
    "# Generate classification report and confusion matrix\n",
    "print(\"Classification Report:\")\n",
    "print(classification_report(y_true_all, y_pred_all))\n",
    "\n",
    "print(\"Confusion Matrix:\")\n",
    "print(confusion_matrix(y_true_all, y_pred_all))\n"
   ]
  },
  {
   "cell_type": "markdown",
   "id": "c0e18fb6-a492-4684-936a-531c6539a93e",
   "metadata": {},
   "source": [
    "### BERT try"
   ]
  },
  {
   "cell_type": "code",
   "execution_count": 21,
   "id": "158d5de5-a625-4014-aa0f-1c3f355980ea",
   "metadata": {},
   "outputs": [
    {
     "name": "stderr",
     "output_type": "stream",
     "text": [
      "/home/patel8m6/Desktop/python scripts/mldl/lib/python3.11/site-packages/tqdm/auto.py:21: TqdmWarning: IProgress not found. Please update jupyter and ipywidgets. See https://ipywidgets.readthedocs.io/en/stable/user_install.html\n",
      "  from .autonotebook import tqdm as notebook_tqdm\n"
     ]
    }
   ],
   "source": [
    "from tqdm import tqdm\n",
    "\n",
    "import pandas as pd\n",
    "import numpy as np\n",
    "import torch\n",
    "from transformers import BertTokenizer, BertModel\n",
    "from sklearn.metrics.pairwise import cosine_similarity\n",
    "from collections import Counter\n",
    "from sklearn.metrics import classification_report, confusion_matrix"
   ]
  },
  {
   "cell_type": "code",
   "execution_count": 22,
   "id": "875a6e4a-b358-4eae-bb40-41fb9279aa6b",
   "metadata": {},
   "outputs": [
    {
     "name": "stderr",
     "output_type": "stream",
     "text": [
      "/home/patel8m6/Desktop/python scripts/mldl/lib/python3.11/site-packages/huggingface_hub/file_download.py:1132: FutureWarning: `resume_download` is deprecated and will be removed in version 1.0.0. Downloads always resume when possible. If you want to force a new download, use `force_download=True`.\n",
      "  warnings.warn(\n"
     ]
    }
   ],
   "source": [
    "\n",
    "# Load pre-trained BERT model and tokenizer\n",
    "tokenizer = BertTokenizer.from_pretrained('bert-base-uncased')\n",
    "model = BertModel.from_pretrained('bert-base-uncased')"
   ]
  },
  {
   "cell_type": "code",
   "execution_count": 23,
   "id": "1d81e059-e3c8-425b-ae7f-9503693a84a2",
   "metadata": {},
   "outputs": [
    {
     "name": "stderr",
     "output_type": "stream",
     "text": [
      "Computing BERT embeddings: 100%|████████████| 3601/3601 [04:07<00:00, 14.56it/s]\n"
     ]
    }
   ],
   "source": [
    "def get_bert_embedding(text, tokenizer, model):\n",
    "    inputs = tokenizer(text, return_tensors='pt', truncation=True, padding=True, max_length=512)\n",
    "    with torch.no_grad():\n",
    "        outputs = model(**inputs)\n",
    "    return outputs.last_hidden_state.mean(dim=1).squeeze().numpy()\n",
    "\n",
    "# Compute BERT embeddings for each movie's tags with progress bar\n",
    "bert_embeddings = []\n",
    "for tag in tqdm(movies_metadata['tags'], desc=\"Computing BERT embeddings\"):\n",
    "    bert_embeddings.append(get_bert_embedding(tag, tokenizer, model))\n",
    "\n",
    "movies_metadata['bert_embedding'] = bert_embeddings"
   ]
  },
  {
   "cell_type": "code",
   "execution_count": 24,
   "id": "8ee6ef7e-f811-4586-be11-cedc684c041d",
   "metadata": {},
   "outputs": [
    {
     "name": "stderr",
     "output_type": "stream",
     "text": [
      "/tmp/ipykernel_443808/2364131439.py:3: FutureWarning: Series.__getitem__ treating keys as positions is deprecated. In a future version, integer keys will always be treated as labels (consistent with DataFrame behavior). To access a value by position, use `ser.iloc[pos]`\n",
      "  movies_metadata.iloc[56][['bert_embedding']][0].shape\n"
     ]
    },
    {
     "data": {
      "text/plain": [
       "(768,)"
      ]
     },
     "execution_count": 24,
     "metadata": {},
     "output_type": "execute_result"
    }
   ],
   "source": [
    "# Assuming 'movies_metadata' is your DataFrame\n",
    "# Print the values of two specific columns from the first row\n",
    "movies_metadata.iloc[56][['bert_embedding']][0].shape"
   ]
  },
  {
   "cell_type": "code",
   "execution_count": 26,
   "id": "158d61de-7905-4b93-a272-9c170d5d2793",
   "metadata": {},
   "outputs": [],
   "source": [
    "# Compute cosine similarity between BERT embeddings\n",
    "movie_embeddings = np.stack(movies_metadata['bert_embedding'].values)\n",
    "cosine_sim = cosine_similarity(movie_embeddings, movie_embeddings)"
   ]
  },
  {
   "cell_type": "code",
   "execution_count": 27,
   "id": "81ac596f-2116-48bd-a7f1-bdadde9380c4",
   "metadata": {},
   "outputs": [
    {
     "name": "stdout",
     "output_type": "stream",
     "text": [
      "Classification Report:\n",
      "              precision    recall  f1-score   support\n",
      "\n",
      "           0       0.62      0.52      0.57     84449\n",
      "           1       0.68      0.76      0.72    115011\n",
      "\n",
      "    accuracy                           0.66    199460\n",
      "   macro avg       0.65      0.64      0.64    199460\n",
      "weighted avg       0.66      0.66      0.66    199460\n",
      "\n",
      "Confusion Matrix:\n",
      "[[43943 40506]\n",
      " [27096 87915]]\n"
     ]
    }
   ],
   "source": [
    "# Create a reverse mapping of indices and movieId\n",
    "indices = pd.Series(movies_metadata.index, index=movies_metadata['movieId']).drop_duplicates()\n",
    "\n",
    "def get_recommendations(movieId, cosine_sim=cosine_sim):\n",
    "    if movieId not in indices:\n",
    "        return []\n",
    "    idx = indices[movieId]\n",
    "    sim_scores = list(enumerate(cosine_sim[idx]))\n",
    "    sim_scores = sorted(sim_scores, key=lambda x: x[1], reverse=True)\n",
    "    sim_scores = sim_scores[1:11]  # Top 10 similar movies\n",
    "    movie_indices = [i[0] for i in sim_scores]\n",
    "    return movies_metadata['movieId'].iloc[movie_indices]\n",
    "\n",
    "# Step 2: Integrate User Ratings\n",
    "user_item_matrix = ratings.pivot(index='userId', columns='movieId', values='rating')\n",
    "\n",
    "# Function to get k-nearest neighbors based on item-item similarity\n",
    "def get_k_nearest_neighbors(item_similarity_df, movie_id, k=10):\n",
    "    if movie_id not in item_similarity_df.columns:\n",
    "        return pd.Index([])\n",
    "    sim_scores = item_similarity_df[movie_id]\n",
    "    nearest_neighbors = sim_scores.sort_values(ascending=False).index[1:k+1]\n",
    "    return nearest_neighbors\n",
    "\n",
    "# Function to predict rating for a specific user and movie\n",
    "def predict_rating(user_item_matrix, item_similarity_df, user_id, movie_id, k=10):\n",
    "    nearest_neighbors = get_k_nearest_neighbors(item_similarity_df, movie_id, k)\n",
    "    if nearest_neighbors.empty:\n",
    "        return 0\n",
    "    neighbor_ratings = user_item_matrix.loc[user_id, nearest_neighbors]\n",
    "    if neighbor_ratings.isna().all():\n",
    "        return 0\n",
    "    return Counter(neighbor_ratings.dropna()).most_common(1)[0][0]\n",
    "\n",
    "# Compute the item similarity DataFrame using BERT embeddings\n",
    "item_similarity_df = pd.DataFrame(cosine_sim, index=movies_metadata['movieId'], columns=movies_metadata['movieId'])\n",
    "\n",
    "# Split the ratings data into training and testing sets\n",
    "train_ratings = ratings.sample(frac=0.8, random_state=42)\n",
    "test_ratings = ratings.drop(train_ratings.index)\n",
    "\n",
    "# Evaluate at K=255\n",
    "K = 255\n",
    "y_true_all = []\n",
    "y_pred_all = []\n",
    "\n",
    "for index, row in test_ratings.iterrows():\n",
    "    user_id = row['userId']\n",
    "    movie_id = row['movieId']\n",
    "    y_true_all.append(row['rating'])\n",
    "    y_pred_all.append(predict_rating(user_item_matrix, item_similarity_df, user_id, movie_id, k=K))\n",
    "\n",
    "# Convert to integers\n",
    "y_true_all = [int(val) for val in y_true_all]\n",
    "y_pred_all = [int(val) for val in y_pred_all]\n",
    "\n",
    "# Generate classification report and confusion matrix\n",
    "print(\"Classification Report:\")\n",
    "print(classification_report(y_true_all, y_pred_all))\n",
    "\n",
    "print(\"Confusion Matrix:\")\n",
    "print(confusion_matrix(y_true_all, y_pred_all))\n"
   ]
  },
  {
   "cell_type": "code",
   "execution_count": null,
   "id": "54efcbfc-f83c-4217-a672-2e40f6cdaf31",
   "metadata": {},
   "outputs": [],
   "source": []
  },
  {
   "cell_type": "code",
   "execution_count": null,
   "id": "fbcad7f8-fe8a-4bcc-8600-6e1375ab8559",
   "metadata": {},
   "outputs": [],
   "source": []
  },
  {
   "cell_type": "code",
   "execution_count": 28,
   "id": "e1f57302-7392-435d-b443-0e9dfdb4d42b",
   "metadata": {},
   "outputs": [
    {
     "data": {
      "image/png": "[encoded data removed]",
      "text/plain": [
       "<Figure size 1200x600 with 1 Axes>"
      ]
     },
     "metadata": {},
     "output_type": "display_data"
    }
   ],
   "source": [
    "import matplotlib.pyplot as plt\n",
    "from sklearn.metrics import precision_score, recall_score\n",
    "\n",
    "\n",
    "# Define the list of K values\n",
    "K_values = [5, 10, 25, 100, 250, 500, 750, 1000]\n",
    "\n",
    "# Initialize lists to store precision and recall values for each K\n",
    "precision_scores = []\n",
    "recall_scores = []\n",
    "\n",
    "for K in K_values:\n",
    "    # Perform prediction and evaluation\n",
    "    y_true_all = []\n",
    "    y_pred_all = []\n",
    "\n",
    "    for index, row in test_ratings.iterrows():\n",
    "        user_id = row['userId']\n",
    "        movie_id = row['movieId']\n",
    "        y_true_all.append(row['rating'])\n",
    "        y_pred_all.append(predict_rating(user_item_matrix, item_similarity_df, user_id, movie_id, k=K))\n",
    "\n",
    "    # Convert to integers\n",
    "    y_true_all = [int(val) for val in y_true_all]\n",
    "    y_pred_all = [int(val) for val in y_pred_all]\n",
    "\n",
    "    # Calculate precision and recall\n",
    "    precision = precision_score(y_true_all, y_pred_all)\n",
    "    recall = recall_score(y_true_all, y_pred_all)\n",
    "\n",
    "    # Append scores to lists\n",
    "    precision_scores.append(precision)\n",
    "    recall_scores.append(recall)\n",
    "\n",
    "# Plot the precision and recall scores for different values of K\n",
    "plt.figure(figsize=(12, 6))\n",
    "plt.plot(K_values, precision_scores, label='Precision', marker='o')\n",
    "plt.plot(K_values, recall_scores, label='Recall', marker='o')\n",
    "plt.xlabel('K (Number of Neighbors)')\n",
    "plt.ylabel('Score')\n",
    "plt.title('Precision and Recall Scores for Different K Values')\n",
    "plt.xticks(K_values)\n",
    "plt.legend()\n",
    "plt.grid(True)\n",
    "plt.show()\n"
   ]
  }
 ],
 "metadata": {
  "kernelspec": {
   "display_name": "Python 3 (ipykernel)",
   "language": "python",
   "name": "python3"
  },
  "language_info": {
   "codemirror_mode": {
    "name": "ipython",
    "version": 3
   },
   "file_extension": ".py",
   "mimetype": "text/x-python",
   "name": "python",
   "nbconvert_exporter": "python",
   "pygments_lexer": "ipython3",
   "version": "3.11.2"
  }
 },
 "nbformat": 4,
 "nbformat_minor": 5
}
