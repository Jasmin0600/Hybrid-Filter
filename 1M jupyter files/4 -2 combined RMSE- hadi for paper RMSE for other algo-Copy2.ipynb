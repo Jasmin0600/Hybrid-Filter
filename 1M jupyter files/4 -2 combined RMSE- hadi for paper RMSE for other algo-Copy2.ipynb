{
 "cells": [
  {
   "cell_type": "code",
   "execution_count": 1,
   "id": "00839835-bcc3-4333-80f1-0a2266632bb2",
   "metadata": {},
   "outputs": [],
   "source": [
    "import pandas as pd\n",
    "import numpy as np\n",
    "from sklearn.metrics.pairwise import cosine_similarity\n",
    "import ast\n",
    "from collections import Counter\n",
    "from sklearn.metrics import classification_report, confusion_matrix\n",
    "from sklearn.model_selection import train_test_split\n",
    "from sklearn.metrics import mean_squared_error, mean_absolute_error\n",
    "\n"
   ]
  },
  {
   "cell_type": "code",
   "execution_count": 2,
   "id": "8030accc-dbbe-4e18-915c-d451fd6a3bf7",
   "metadata": {},
   "outputs": [],
   "source": [
    "ratings = pd.read_csv(r'filtered_ratings.csv')\n",
    "ratings.rename(columns={'Rating': 'rating'}, inplace=True)\n",
    "ratings.rename(columns={'UserID': 'userId'}, inplace=True)\n",
    "ratings.rename(columns={'MovieID': 'movieId'}, inplace=True)\n",
    "\n",
    "All_parts_objects = pd.read_csv(r'1M_YOLO_features.csv', index_col=1)\n",
    "columns_to_keep = [str(i) for i in range(80)]\n",
    "movies_features = All_parts_objects[columns_to_keep]\n",
    "\n",
    "# Remove rows where all features are 0\n",
    "movies_features = movies_features[(movies_features != 0).any(axis=1)]\n",
    "movies_metadata = pd.read_csv(r'1M_BERT_embeddings_tag_and_whisper_trans.csv')\n",
    "\n",
    "\n",
    "unique_movieids_ratings = ratings['movieId'].unique()\n",
    "unique_movieids_movies_metadata = movies_metadata['movieId'].unique()\n",
    "unique_movieids_movies_features = movies_features.index.unique()\n",
    "\n",
    "common_movieids = list(set(unique_movieids_movies_metadata) & set(unique_movieids_ratings) & set(unique_movieids_movies_features))\n",
    "\n",
    "ratings = ratings[ratings['movieId'].isin(common_movieids)]\n",
    "movies_metadata = movies_metadata[movies_metadata['movieId'].isin(common_movieids)]\n",
    "movies_features = movies_features.iloc[movies_features.index.isin(common_movieids)]\n",
    "\n"
   ]
  },
  {
   "cell_type": "code",
   "execution_count": 3,
   "id": "3837709e-4a25-4977-8833-de5b60bc3339",
   "metadata": {},
   "outputs": [
    {
     "name": "stderr",
     "output_type": "stream",
     "text": [
      "/tmp/ipykernel_1267525/510463749.py:12: FutureWarning: DataFrame.applymap has been deprecated. Use DataFrame.map instead.\n",
      "  item_similarity_df_metadata_thresholded = item_similarity_df_metadata.applymap(lambda x: x if x > threshold else 0)\n"
     ]
    }
   ],
   "source": [
    "# Method 1: Collaborative Filtering\n",
    "user_item_matrix = ratings.pivot(index='userId', columns='movieId', values='rating')\n",
    "item_user_matrix_filled = user_item_matrix.T.fillna(0.5)\n",
    "item_similarity_cf = cosine_similarity(item_user_matrix_filled)\n",
    "item_similarity_df_cf = pd.DataFrame(item_similarity_cf, index=user_item_matrix.columns, columns=user_item_matrix.columns)\n",
    "\n",
    "# Method 2: Metadata-based Similarity\n",
    "item_metadata_matrix_filled = movies_features.fillna(0)\n",
    "item_similarity_metadata = cosine_similarity(item_metadata_matrix_filled)\n",
    "item_similarity_df_metadata = pd.DataFrame(item_similarity_metadata, index=item_metadata_matrix_filled.index, columns=item_metadata_matrix_filled.index)\n",
    "threshold = 0.3\n",
    "item_similarity_df_metadata_thresholded = item_similarity_df_metadata.applymap(lambda x: x if x > threshold else 0)\n",
    "\n",
    "# Method 3: BERT-based Similarity\n",
    "def string_to_array(s):\n",
    "    s = s.strip('[]')\n",
    "    return np.array([float(x) for x in s.split()])\n",
    "\n",
    "movies_metadata['bert_embedding'] = movies_metadata['bert_embedding'].apply(string_to_array)\n",
    "movie_embeddings = np.stack(movies_metadata['bert_embedding'].values)\n",
    "cosine_sim_bert = cosine_similarity(movie_embeddings, movie_embeddings)\n",
    "item_similarity_df_bert = pd.DataFrame(cosine_sim_bert, index=movies_metadata['movieId'], columns=movies_metadata['movieId'])\n",
    "\n",
    "# Split the ratings data into training and testing sets\n",
    "train_ratings, test_ratings = train_test_split(ratings, test_size=0.2, random_state=42)\n",
    "\n",
    "# Function to get k-nearest neighbors\n",
    "def get_k_nearest_neighbors(item_similarity_df, movie_id, k=255):\n",
    "    if movie_id not in item_similarity_df.columns:\n",
    "        return pd.Index([])\n",
    "    sim_scores = item_similarity_df[movie_id]\n",
    "    nearest_neighbors = sim_scores.sort_values(ascending=False).index[:k]\n",
    "    return nearest_neighbors\n",
    "\n",
    "# Function to predict rating\n",
    "def predict_rating(user_item_matrix, item_similarity_df, user_id, movie_id, k=255):\n",
    "    nearest_neighbors = get_k_nearest_neighbors(item_similarity_df, movie_id, k)\n",
    "    if nearest_neighbors.empty:\n",
    "        return 0\n",
    "    neighbor_ratings = user_item_matrix.loc[user_id, nearest_neighbors]\n",
    "    if neighbor_ratings.isna().all():\n",
    "        return 0\n",
    "    return neighbor_ratings.mean()\n",
    "\n",
    "\n"
   ]
  },
  {
   "cell_type": "code",
   "execution_count": 4,
   "id": "1d98066f-ced4-4590-9754-d896f600bb98",
   "metadata": {},
   "outputs": [
    {
     "name": "stdout",
     "output_type": "stream",
     "text": [
      "RMSE: 0.9623791281698783\n",
      "MAE: 0.7624492317835855\n",
      "MSE: 0.9261735863370149\n"
     ]
    },
    {
     "name": "stderr",
     "output_type": "stream",
     "text": [
      "/home/patel8m6/Desktop/python scripts/mldl/lib/python3.11/site-packages/sklearn/metrics/_regression.py:492: FutureWarning: 'squared' is deprecated in version 1.4 and will be removed in 1.6. To calculate the root mean squared error, use the function'root_mean_squared_error'.\n",
      "  warnings.warn(\n",
      "/home/patel8m6/Desktop/python scripts/mldl/lib/python3.11/site-packages/sklearn/metrics/_regression.py:492: FutureWarning: 'squared' is deprecated in version 1.4 and will be removed in 1.6. To calculate the root mean squared error, use the function'root_mean_squared_error'.\n",
      "  warnings.warn(\n"
     ]
    }
   ],
   "source": [
    "# Evaluate at K=255 for combined predictions\n",
    "K = 255\n",
    "\n",
    "y_true_all = []\n",
    "y_pred_all = []\n",
    "\n",
    "for index, row in test_ratings.iterrows():\n",
    "    user_id = row['userId']\n",
    "    movie_id = row['movieId']\n",
    "    y_true_all.append(row['rating'])\n",
    "    \n",
    "    # Predictions from the three methods\n",
    "    #pred_cf = predict_rating(user_item_matrix, item_similarity_df_cf, user_id, movie_id, k=K)\n",
    "    #pred_metadata = predict_rating(user_item_matrix, item_similarity_df_metadata_thresholded, user_id, movie_id, k=K)\n",
    "    pred_bert = predict_rating(user_item_matrix, item_similarity_df_bert, user_id, movie_id, k=K)\n",
    "    \n",
    "    # Combine predictions by averaging\n",
    "    combined_prediction = np.mean([ pred_bert])\n",
    "    y_pred_all.append(combined_prediction)\n",
    "\n",
    "# Convert to floats\n",
    "y_true_all = [float(val) for val in y_true_all]\n",
    "y_pred_all = [float(val) for val in y_pred_all]\n",
    "\n",
    "# Calculate RMSE\n",
    "rmse = mean_squared_error(y_true_all, y_pred_all, squared=False)\n",
    "print(\"RMSE:\", rmse)\n",
    "\n",
    "# Calculate MAE\n",
    "mae = mean_absolute_error(y_true_all, y_pred_all)\n",
    "print(\"MAE:\", mae)\n",
    "\n",
    "# Calculate MSE\n",
    "mse = mean_squared_error(y_true_all, y_pred_all, squared=True)\n",
    "print(\"MSE:\", mse)"
   ]
  },
  {
   "cell_type": "code",
   "execution_count": 13,
   "id": "7b7899cf-ee3b-4a20-b7c8-562c0ae16f10",
   "metadata": {},
   "outputs": [
    {
     "name": "stderr",
     "output_type": "stream",
     "text": [
      "/home/patel8m6/Desktop/python scripts/mldl/lib/python3.11/site-packages/sklearn/metrics/_regression.py:492: FutureWarning: 'squared' is deprecated in version 1.4 and will be removed in 1.6. To calculate the root mean squared error, use the function'root_mean_squared_error'.\n",
      "  warnings.warn(\n",
      "/home/patel8m6/Desktop/python scripts/mldl/lib/python3.11/site-packages/sklearn/metrics/_regression.py:492: FutureWarning: 'squared' is deprecated in version 1.4 and will be removed in 1.6. To calculate the root mean squared error, use the function'root_mean_squared_error'.\n",
      "  warnings.warn(\n"
     ]
    },
    {
     "name": "stdout",
     "output_type": "stream",
     "text": [
      "K=5: RMSE=0.510685438778866, MAE=0.2664570973974315, MSE=0.2607996173807629\n"
     ]
    },
    {
     "name": "stderr",
     "output_type": "stream",
     "text": [
      "/home/patel8m6/Desktop/python scripts/mldl/lib/python3.11/site-packages/sklearn/metrics/_regression.py:492: FutureWarning: 'squared' is deprecated in version 1.4 and will be removed in 1.6. To calculate the root mean squared error, use the function'root_mean_squared_error'.\n",
      "  warnings.warn(\n",
      "/home/patel8m6/Desktop/python scripts/mldl/lib/python3.11/site-packages/sklearn/metrics/_regression.py:492: FutureWarning: 'squared' is deprecated in version 1.4 and will be removed in 1.6. To calculate the root mean squared error, use the function'root_mean_squared_error'.\n",
      "  warnings.warn(\n"
     ]
    },
    {
     "name": "stdout",
     "output_type": "stream",
     "text": [
      "K=10: RMSE=0.6429680524231118, MAE=0.40171596339410864, MSE=0.41340791643676955\n"
     ]
    },
    {
     "name": "stderr",
     "output_type": "stream",
     "text": [
      "/home/patel8m6/Desktop/python scripts/mldl/lib/python3.11/site-packages/sklearn/metrics/_regression.py:492: FutureWarning: 'squared' is deprecated in version 1.4 and will be removed in 1.6. To calculate the root mean squared error, use the function'root_mean_squared_error'.\n",
      "  warnings.warn(\n",
      "/home/patel8m6/Desktop/python scripts/mldl/lib/python3.11/site-packages/sklearn/metrics/_regression.py:492: FutureWarning: 'squared' is deprecated in version 1.4 and will be removed in 1.6. To calculate the root mean squared error, use the function'root_mean_squared_error'.\n",
      "  warnings.warn(\n"
     ]
    },
    {
     "name": "stdout",
     "output_type": "stream",
     "text": [
      "K=20: RMSE=0.752144622496103, MAE=0.5260740404911525, MSE=0.5657215331498053\n"
     ]
    },
    {
     "name": "stderr",
     "output_type": "stream",
     "text": [
      "/home/patel8m6/Desktop/python scripts/mldl/lib/python3.11/site-packages/sklearn/metrics/_regression.py:492: FutureWarning: 'squared' is deprecated in version 1.4 and will be removed in 1.6. To calculate the root mean squared error, use the function'root_mean_squared_error'.\n",
      "  warnings.warn(\n",
      "/home/patel8m6/Desktop/python scripts/mldl/lib/python3.11/site-packages/sklearn/metrics/_regression.py:492: FutureWarning: 'squared' is deprecated in version 1.4 and will be removed in 1.6. To calculate the root mean squared error, use the function'root_mean_squared_error'.\n",
      "  warnings.warn(\n"
     ]
    },
    {
     "name": "stdout",
     "output_type": "stream",
     "text": [
      "K=50: RMSE=0.8590663641980748, MAE=0.649889305163489, MSE=0.7379950180964994\n"
     ]
    },
    {
     "name": "stderr",
     "output_type": "stream",
     "text": [
      "/home/patel8m6/Desktop/python scripts/mldl/lib/python3.11/site-packages/sklearn/metrics/_regression.py:492: FutureWarning: 'squared' is deprecated in version 1.4 and will be removed in 1.6. To calculate the root mean squared error, use the function'root_mean_squared_error'.\n",
      "  warnings.warn(\n",
      "/home/patel8m6/Desktop/python scripts/mldl/lib/python3.11/site-packages/sklearn/metrics/_regression.py:492: FutureWarning: 'squared' is deprecated in version 1.4 and will be removed in 1.6. To calculate the root mean squared error, use the function'root_mean_squared_error'.\n",
      "  warnings.warn(\n"
     ]
    },
    {
     "name": "stdout",
     "output_type": "stream",
     "text": [
      "K=100: RMSE=0.9138800129237187, MAE=0.7111590628765144, MSE=0.8351766780214561\n"
     ]
    },
    {
     "name": "stderr",
     "output_type": "stream",
     "text": [
      "/home/patel8m6/Desktop/python scripts/mldl/lib/python3.11/site-packages/sklearn/metrics/_regression.py:492: FutureWarning: 'squared' is deprecated in version 1.4 and will be removed in 1.6. To calculate the root mean squared error, use the function'root_mean_squared_error'.\n",
      "  warnings.warn(\n",
      "/home/patel8m6/Desktop/python scripts/mldl/lib/python3.11/site-packages/sklearn/metrics/_regression.py:492: FutureWarning: 'squared' is deprecated in version 1.4 and will be removed in 1.6. To calculate the root mean squared error, use the function'root_mean_squared_error'.\n",
      "  warnings.warn(\n"
     ]
    },
    {
     "name": "stdout",
     "output_type": "stream",
     "text": [
      "K=150: RMSE=0.937843966346086, MAE=0.7370032416198975, MSE=0.8795513052117586\n"
     ]
    },
    {
     "name": "stderr",
     "output_type": "stream",
     "text": [
      "/home/patel8m6/Desktop/python scripts/mldl/lib/python3.11/site-packages/sklearn/metrics/_regression.py:492: FutureWarning: 'squared' is deprecated in version 1.4 and will be removed in 1.6. To calculate the root mean squared error, use the function'root_mean_squared_error'.\n",
      "  warnings.warn(\n",
      "/home/patel8m6/Desktop/python scripts/mldl/lib/python3.11/site-packages/sklearn/metrics/_regression.py:492: FutureWarning: 'squared' is deprecated in version 1.4 and will be removed in 1.6. To calculate the root mean squared error, use the function'root_mean_squared_error'.\n",
      "  warnings.warn(\n"
     ]
    },
    {
     "name": "stdout",
     "output_type": "stream",
     "text": [
      "K=200: RMSE=0.9517316550462938, MAE=0.751741766294557, MSE=0.9057931432171575\n"
     ]
    },
    {
     "name": "stderr",
     "output_type": "stream",
     "text": [
      "/home/patel8m6/Desktop/python scripts/mldl/lib/python3.11/site-packages/sklearn/metrics/_regression.py:492: FutureWarning: 'squared' is deprecated in version 1.4 and will be removed in 1.6. To calculate the root mean squared error, use the function'root_mean_squared_error'.\n",
      "  warnings.warn(\n",
      "/home/patel8m6/Desktop/python scripts/mldl/lib/python3.11/site-packages/sklearn/metrics/_regression.py:492: FutureWarning: 'squared' is deprecated in version 1.4 and will be removed in 1.6. To calculate the root mean squared error, use the function'root_mean_squared_error'.\n",
      "  warnings.warn(\n"
     ]
    },
    {
     "name": "stdout",
     "output_type": "stream",
     "text": [
      "K=255: RMSE=0.9623791281698783, MAE=0.7624492317835855, MSE=0.9261735863370149\n"
     ]
    },
    {
     "name": "stderr",
     "output_type": "stream",
     "text": [
      "/home/patel8m6/Desktop/python scripts/mldl/lib/python3.11/site-packages/sklearn/metrics/_regression.py:492: FutureWarning: 'squared' is deprecated in version 1.4 and will be removed in 1.6. To calculate the root mean squared error, use the function'root_mean_squared_error'.\n",
      "  warnings.warn(\n",
      "/home/patel8m6/Desktop/python scripts/mldl/lib/python3.11/site-packages/sklearn/metrics/_regression.py:492: FutureWarning: 'squared' is deprecated in version 1.4 and will be removed in 1.6. To calculate the root mean squared error, use the function'root_mean_squared_error'.\n",
      "  warnings.warn(\n"
     ]
    },
    {
     "name": "stdout",
     "output_type": "stream",
     "text": [
      "K=500: RMSE=0.9849878017959942, MAE=0.7842692809705736, MSE=0.9702009696869047\n"
     ]
    },
    {
     "name": "stderr",
     "output_type": "stream",
     "text": [
      "/home/patel8m6/Desktop/python scripts/mldl/lib/python3.11/site-packages/sklearn/metrics/_regression.py:492: FutureWarning: 'squared' is deprecated in version 1.4 and will be removed in 1.6. To calculate the root mean squared error, use the function'root_mean_squared_error'.\n",
      "  warnings.warn(\n",
      "/home/patel8m6/Desktop/python scripts/mldl/lib/python3.11/site-packages/sklearn/metrics/_regression.py:492: FutureWarning: 'squared' is deprecated in version 1.4 and will be removed in 1.6. To calculate the root mean squared error, use the function'root_mean_squared_error'.\n",
      "  warnings.warn(\n"
     ]
    },
    {
     "name": "stdout",
     "output_type": "stream",
     "text": [
      "K=750: RMSE=0.9954652336265477, MAE=0.7937489535275054, MSE=0.9909510313591573\n"
     ]
    },
    {
     "name": "stderr",
     "output_type": "stream",
     "text": [
      "/home/patel8m6/Desktop/python scripts/mldl/lib/python3.11/site-packages/sklearn/metrics/_regression.py:492: FutureWarning: 'squared' is deprecated in version 1.4 and will be removed in 1.6. To calculate the root mean squared error, use the function'root_mean_squared_error'.\n",
      "  warnings.warn(\n",
      "/home/patel8m6/Desktop/python scripts/mldl/lib/python3.11/site-packages/sklearn/metrics/_regression.py:492: FutureWarning: 'squared' is deprecated in version 1.4 and will be removed in 1.6. To calculate the root mean squared error, use the function'root_mean_squared_error'.\n",
      "  warnings.warn(\n"
     ]
    },
    {
     "name": "stdout",
     "output_type": "stream",
     "text": [
      "K=1000: RMSE=1.001952885625786, MAE=0.799394095141966, MSE=1.0039095850138395\n"
     ]
    },
    {
     "data": {
      "image/png": "[encoded data removed]",
      "text/plain": [
       "<Figure size 1200x600 with 1 Axes>"
      ]
     },
     "metadata": {},
     "output_type": "display_data"
    }
   ],
   "source": [
    "import numpy as np\n",
    "import matplotlib.pyplot as plt\n",
    "from sklearn.metrics import mean_squared_error, mean_absolute_error\n",
    "\n",
    "# List of different K values\n",
    "K_values = [5, 10, 20, 50, 100, 150, 200, 255,500,750,1000]\n",
    "\n",
    "# Initialize lists to store the metrics for each K\n",
    "rmse_values = []\n",
    "mae_values = []\n",
    "mse_values = []\n",
    "\n",
    "for K in K_values:\n",
    "    y_true_all = []\n",
    "    y_pred_all = []\n",
    "    \n",
    "    for index, row in test_ratings.iterrows():\n",
    "        user_id = row['userId']\n",
    "        movie_id = row['movieId']\n",
    "        y_true_all.append(row['rating'])\n",
    "        \n",
    "        # Predictions from the three methods\n",
    "        #pred_cf = predict_rating(user_item_matrix, item_similarity_df_cf, user_id, movie_id, k=K)\n",
    "        #pred_metadata = predict_rating(user_item_matrix, item_similarity_df_metadata_thresholded, user_id, movie_id, k=K)\n",
    "        pred_bert = predict_rating(user_item_matrix, item_similarity_df_bert, user_id, movie_id, k=K)\n",
    "        \n",
    "        # Combine predictions by averaging\n",
    "        combined_prediction = np.mean([pred_bert])\n",
    "        y_pred_all.append(combined_prediction)\n",
    "\n",
    "    # Convert to floats\n",
    "    y_true_all = [float(val) for val in y_true_all]\n",
    "    y_pred_all = [float(val) for val in y_pred_all]\n",
    "\n",
    "    # Calculate RMSE\n",
    "    rmse = mean_squared_error(y_true_all, y_pred_all, squared=False)\n",
    "    rmse_values.append(rmse)\n",
    "    \n",
    "    # Calculate MAE\n",
    "    mae = mean_absolute_error(y_true_all, y_pred_all)\n",
    "    mae_values.append(mae)\n",
    "    \n",
    "    # Calculate MSE\n",
    "    mse = mean_squared_error(y_true_all, y_pred_all, squared=True)\n",
    "    mse_values.append(mse)\n",
    "    \n",
    "    # Print metrics for the current K\n",
    "    print(f\"K={K}: RMSE={rmse}, MAE={mae}, MSE={mse}\")\n",
    "\n",
    "# Plot the metrics for different K values\n",
    "plt.figure(figsize=(12, 6))\n",
    "plt.plot(K_values, rmse_values, label='RMSE', marker='o')\n",
    "plt.plot(K_values, mae_values, label='MAE', marker='o')\n",
    "plt.plot(K_values, mse_values, label='MSE', marker='o')\n",
    "plt.xlabel('K')\n",
    "plt.ylabel('Error')\n",
    "plt.title('Error Metrics for Different K Values')\n",
    "plt.legend()\n",
    "plt.grid(True)\n",
    "plt.show()\n"
   ]
  },
  {
   "cell_type": "code",
   "execution_count": null,
   "id": "2a607231-95ef-4285-9e17-3668751fde9d",
   "metadata": {},
   "outputs": [],
   "source": []
  }
 ],
 "metadata": {
  "kernelspec": {
   "display_name": "Python 3 (ipykernel)",
   "language": "python",
   "name": "python3"
  },
  "language_info": {
   "codemirror_mode": {
    "name": "ipython",
    "version": 3
   },
   "file_extension": ".py",
   "mimetype": "text/x-python",
   "name": "python",
   "nbconvert_exporter": "python",
   "pygments_lexer": "ipython3",
   "version": "3.11.2"
  }
 },
 "nbformat": 4,
 "nbformat_minor": 5
}
